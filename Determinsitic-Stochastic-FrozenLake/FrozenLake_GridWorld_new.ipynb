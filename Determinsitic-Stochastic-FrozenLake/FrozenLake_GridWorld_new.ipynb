{
  "nbformat": 4,
  "nbformat_minor": 0,
  "metadata": {
    "colab": {
      "name": "FrozenLake_GridWorld (1).ipynb",
      "version": "0.3.2",
      "provenance": [],
      "collapsed_sections": [
        "jED5fDuK7Vb-",
        "76YQX5rHLySM",
        "7O8RwNKYMD82"
      ]
    },
    "language_info": {
      "codemirror_mode": {
        "name": "ipython",
        "version": 3
      },
      "file_extension": ".py",
      "mimetype": "text/x-python",
      "name": "python",
      "nbconvert_exporter": "python",
      "pygments_lexer": "ipython3",
      "version": "3.7.1"
    },
    "kernelspec": {
      "display_name": "Python 3",
      "language": "python",
      "name": "python3"
    },
    "accelerator": "GPU"
  },
  "cells": [
    {
      "cell_type": "markdown",
      "metadata": {
        "colab_type": "text",
        "id": "QuurwfHN2MBp"
      },
      "source": [
        "CSE 510 – Introduction to Reinforcement Learning\n",
        "\n",
        "Instructor: Alina Vereshchaka\n",
        "\n"
      ]
    },
    {
      "cell_type": "markdown",
      "metadata": {
        "colab_type": "text",
        "id": "RyKWcW6-1v7t"
      },
      "source": [
        "   # Project 1:  **Building Reinforcement Learning Environment**\n",
        "\n",
        "\n",
        "---"
      ]
    },
    {
      "cell_type": "markdown",
      "metadata": {
        "colab_type": "text",
        "id": "Wi1lR3AH2xBN"
      },
      "source": [
        "**Author**: Shwetasree Chowdhury\n",
        "\n",
        "**Department:** Computer Science\n",
        "\n",
        "**UB Person Id:** 50296995\n",
        "\n",
        "\n",
        "\n",
        "\n",
        " \n"
      ]
    },
    {
      "cell_type": "markdown",
      "metadata": {
        "colab_type": "text",
        "id": "-KuHZA_P7GH_"
      },
      "source": [
        "## **Abstract**\n",
        "\n",
        "The goal of the project is to explore and get an experience of building reinforcement learning environments – deterministic and stochastic, following the OpenAI Gym standards.\n",
        "The project is a basic and personalized attempt at re-creating the “FrozenLake” game using a grid-world. The original frozen lake text game environment details can be found at https://gym.openai.com/envs/FrozenLake-v0/. I aim to use Q-Learning to help train our agent to avoid obstacles inside the environment, while at the same time, maximize the reward it gets to reach the goal. \n"
      ]
    },
    {
      "cell_type": "markdown",
      "metadata": {
        "colab_type": "text",
        "id": "jED5fDuK7Vb-"
      },
      "source": [
        "## 1.\tFrozen lake – A classic reinforcement learning problem"
      ]
    },
    {
      "cell_type": "markdown",
      "metadata": {
        "colab_type": "text",
        "id": "0OOSxzm67jk7"
      },
      "source": [
        "### 1.1\tProblem Statement"
      ]
    },
    {
      "cell_type": "markdown",
      "metadata": {
        "colab_type": "text",
        "id": "gCK_rtMsFWJo"
      },
      "source": [
        "The Frozen lake problem is a classic reinforcement learning problem which uses a grid- world implementation. A man/agent located in one position (top left corner in our case) aims to reach a goal which is located at the rightmost bottom corner of our grid, essentially to say to the other side of the lake. But the lake environment, is replete with obstacles – grids of freezing cold water. The game ends when the man/agent reaches the goal or falls into one of those holes of freezing water. In the original game, there’s a reward of 1 if agent reaches the goal, -1 and end of game if agent falls to a hole, while there are no rewards associated with the movement of the agent towards its goal. \n",
        "In this project, in order to incentivize the agent for making a progressive choice of movement (up, down, left, right) towards the goal, I have introduced rewards at each step: \n",
        "\n",
        "•\t100 for reaching the goal\n",
        "\n",
        "•\t-100 if agent falls into a hole with the episode terminating\n",
        "\n",
        "•\t-1 if the agent stays at the same place or it moves away from the goal\n",
        "\n",
        "•\t+5, if it moves towards the goal\n",
        "\n",
        "\n",
        "Additionally, the ice may sometime be slippery (stochastic) and hence, the agent/man might skid to some direction other than his stipulated/ intended direction."
      ]
    },
    {
      "cell_type": "markdown",
      "metadata": {
        "colab_type": "text",
        "id": "pYZFvyIdFg75"
      },
      "source": [
        "\n",
        "\n",
        "![Capture234.PNG](attachment:Capture234.PNG)\n"
      ]
    },
    {
      "cell_type": "markdown",
      "metadata": {
        "colab_type": "text",
        "id": "j3ZnyI8gKunT"
      },
      "source": [
        "### 1.2 \tWhat is Reinforcement Learning and how does it solve this problem?"
      ]
    },
    {
      "cell_type": "markdown",
      "metadata": {
        "colab_type": "text",
        "id": "Dwz4pxSHK138"
      },
      "source": [
        "Reinforcement Learning is a specialized branch of Machine Learning which deals with how to map situations to actions—so as to maximize a numerical reward signal. The learner is not told which actions to take, but instead must discover which actions yield the most reward by trying them.  The idea behind Reinforcement Learning is that an agent will learn from the environment by interacting with it and receiving rewards for performing actions.\n",
        "\n",
        "•\tAgent receives state St from the Environment (In our case we receive the first frame of our game (state) from FrozenLake (environment)\n",
        "\n",
        "•\tBased on that state St, agent takes an action At (our agent will move right/down)\n",
        "\n",
        "•\tEnvironment transitions to a new state St+1 (new frame)\n",
        "\n",
        "•\tEnvironment gives some reward Rt to the agent (one step closer to goal: +1)\n",
        "\n",
        "•\tThis RL loop outputs a sequence of state, action and reward.\n",
        "\n",
        "•\tThe goal of the agent is to maximize the expected cumulative reward.\n"
      ]
    },
    {
      "cell_type": "markdown",
      "metadata": {
        "colab_type": "text",
        "id": "FsoZWhLTK-HU"
      },
      "source": [
        "![123.png](attachment:123.png)"
      ]
    },
    {
      "cell_type": "markdown",
      "metadata": {
        "colab_type": "text",
        "id": "WmxA4xe6Vx3w"
      },
      "source": [
        "The Markov property and expresses that environment's next state st+1 at time t+1 only depends on the representation of the current state and action.\n",
        "\n",
        "Markov Decision Process (MDP) describes a Reinforcement Learning task that states can be specified by Markov properties."
      ]
    },
    {
      "cell_type": "markdown",
      "metadata": {
        "colab_type": "text",
        "id": "C_9Gv5H7LTPD"
      },
      "source": [
        "### 1.3\tQ learning Algorithm"
      ]
    },
    {
      "cell_type": "markdown",
      "metadata": {
        "colab_type": "text",
        "id": "pBbyHiw7Ru03"
      },
      "source": [
        "Q-learning is a model-free reinforcement learning algorithm. The goal of Q-learning is to learn a policy, which tells an agent what action to take under what circumstances. It does not require a model (hence the connotation \"model-free\") of the environment, and it can handle problems with stochastic transitions and rewards, without requiring adaptations.\n",
        "\n",
        "![xyz.PNG](attachment:xyz.PNG)\n",
        "\n",
        "This process is done to maximize reward for each step or episode to find the optimal solution and it runs until the episode ends after which it may start again or replayed for the next episode.\n",
        "Here 𝛾 is the Discounting factor which lies in the range [0,1]. \n",
        "\n",
        "![capture123.png](attachment:capture123.png)\n",
        "\n",
        "When we try to train our agent using Q learning, we use the Q learning algorithm which uses a Q table to tabulate the rewards at each step, which helps the agent choose between explorationa nd exploitation. Q(state, action) returns the expected future reward of that action at that state. \n",
        "\n",
        "This function can be estimated using Q-Learning, which iteratively updates Q(s,a) using the Bellman equation.\n",
        "\n",
        "![1234.PNG](attachment:1234.PNG)\n",
        "\n",
        "Initially we explore the environment and update the Q-Table. When the Q-Table is ready, the agent will start to exploit the environment and start taking better actions.\n",
        "\n",
        "\n",
        "\n",
        "\n"
      ]
    },
    {
      "cell_type": "markdown",
      "metadata": {
        "colab_type": "text",
        "id": "c65VGh_FLmvb"
      },
      "source": [
        "## 2. Implementation"
      ]
    },
    {
      "cell_type": "markdown",
      "metadata": {
        "colab_type": "text",
        "id": "76YQX5rHLySM"
      },
      "source": [
        "### 2.1 Importing all libraries required"
      ]
    },
    {
      "cell_type": "code",
      "metadata": {
        "colab_type": "code",
        "id": "VJGygwGYHPQK",
        "colab": {}
      },
      "source": [
        "import numpy as np\n",
        "import matplotlib.pyplot as plt\n",
        "import gym\n",
        "from gym import spaces\n",
        "import random\n",
        "import time\n",
        "from google.colab import widgets\n",
        "from matplotlib import colors\n",
        "import pandas as pd"
      ],
      "execution_count": 0,
      "outputs": []
    },
    {
      "cell_type": "code",
      "metadata": {
        "colab_type": "code",
        "id": "d3nKb1Pq1XAp",
        "outputId": "5bbd02fa-307f-44ce-f721-3560e4a26813",
        "colab": {
          "base_uri": "https://localhost:8080/",
          "height": 21
        }
      },
      "source": [
        "output_grid = widgets.Grid(1, 1)"
      ],
      "execution_count": 5,
      "outputs": [
        {
          "output_type": "display_data",
          "data": {
            "text/html": [
              "<style>\n",
              "       table#id4, #id4 > tbody > tr > th, #id4 > tbody > tr > td {\n",
              "         border: 1px solid lightgray;\n",
              "         border-collapse:collapse;\n",
              "         \n",
              "        }</style>"
            ],
            "text/plain": [
              "<IPython.core.display.HTML object>"
            ]
          },
          "metadata": {
            "tags": [
              "outputarea_id4"
            ]
          }
        },
        {
          "output_type": "display_data",
          "data": {
            "text/html": [
              "<table id=id4><tr><td id=id4-0-0></td></tr></table>"
            ],
            "text/plain": [
              "<IPython.core.display.HTML object>"
            ]
          },
          "metadata": {
            "tags": [
              "outputarea_id4"
            ]
          }
        }
      ]
    },
    {
      "cell_type": "markdown",
      "metadata": {
        "colab_type": "text",
        "id": "7O8RwNKYMD82"
      },
      "source": [
        "### 2.2 Creating the RL environment "
      ]
    },
    {
      "cell_type": "markdown",
      "metadata": {
        "colab_type": "text",
        "id": "nFlvQlpaRv8m"
      },
      "source": [
        "The environment we’re trying to construct is a 4*4 grid world with the following attributes:\n",
        "\n",
        "•\tIt’s a deterministic/ stochastic environment as per the parameters passed.\n",
        "\n",
        "•\tThe agent is positioned at (0,0)\n",
        "\n",
        "•\tThe holes/obstacles are positioned at (1,1), (1,3) and (2,3)\n",
        "\n",
        "•\tThe goal is positioned at (3,3)\n",
        "\n"
      ]
    },
    {
      "cell_type": "markdown",
      "metadata": {
        "colab_type": "text",
        "id": "Se8ODQvRSJ7Y"
      },
      "source": [
        "Markov Decision Process is a 4-tuple which contains:\n",
        "\n",
        "1. The State Set (S)\n",
        "\n",
        "2. The Action Set (A)\n",
        "\n",
        "3. Probability Function (P)\n",
        "\n",
        "4. Rewards (R)\n",
        "\n"
      ]
    },
    {
      "cell_type": "markdown",
      "metadata": {
        "colab_type": "text",
        "id": "tw832IY5Jowc"
      },
      "source": [
        "The environment is constructed by the class FrozenLake and defined containing a few functions:\n",
        "\n",
        "1. **initialisation** -   initialises the environment parameters - namely observation space and action space.  \n",
        "Observation space is the number of observable states that our  environment provides. \n",
        "Action space defines the number of actiosn that can be taken on the enviornment - namely up, down, left, right movements. \n",
        "\n",
        "2. **reset** - Resets the environment and returns a random initial state if the randomStart is set while initializing the environment\n",
        "\n",
        "3. **step** - function that defines the essence of the environment. It contains the decision making unit of the environment. A step function takes in an 'action' and decides what to do next or where to go. \n",
        "\n",
        "    Step returns four values. These are:\n",
        "\n",
        "    a. observation (object): an environment-specific object representing your observation of the environment. \n",
        "\n",
        "    b. reward (float): amount of reward achieved by the previous action.\n",
        "\n",
        "    c. done (boolean): whether it’s time to reset the environment again.\n",
        "\n",
        "    d. info (dict): diagnostic information useful for debugging. It can sometimes be useful for learning.\n",
        "\n",
        "    * In step function based on the action received, we get the possible next positions from the transition table we created while initializing the environment. \n",
        "    * If our environment is deterministic, we only get one possible next state from the transition table with associated probability of 1.0 but if our environment is stochastic we receive multiple states that the agent can go to due to slipperiness with associated probabilities of going to each state (Right and Down have been given higher probability).\n",
        "\n",
        "    * We then iterate over these possible states and pick one state randomly. The state which has the higher probability has more chance of getting selected and hence it is more probable that the agent will move in that direction.\n",
        "\n",
        "    * Based on the this next state we calculate the rewards associated with moving to this next state or position based on the values defined above\n",
        "\n",
        "4. **render** - Renders one frame of the environment\n",
        "\n",
        "5.  **getCurrentState**  - returns the current position of the agent.\n",
        "\n",
        "6. **getState** - returns state of the requested agent\n",
        "\n",
        "7. **isOver** - function to check if episode is over - whether agent ahs reached goal or fallen into a hole.\n",
        "\n",
        "8. **increment** - takes an action and naviagtes to the next state. Returns new state position.\n",
        "\n",
        "9. **createTransiitonTable** - creates a probability transition matrix 4 x 16 grids in count to store \n",
        " probabilities associated with each movement.\n",
        " \n",
        " There are two types of actions that are taken to determine the next states based on whether the environment is deterministic or stochastic.\n",
        " \n",
        " If the environment is deterministic then for each action there is only one possible next state which has a probability of 1.0 associated with it.If the environment is stochastic, then for each possible action encountered it is possible that the agent can move in other directions as well if the ice is slippery. Hence, in our case we assigned probability of 0.7 to the movements RIGHT and DOWN since they move the agent closer to the goal, and probabilty 0.2 to other directions since moving in those directions takes the agent further from the goal. For every state and action, we store all the possible next states if the agent might have gone in a different direction.\n",
        "\n",
        "\n",
        "\n"
      ]
    },
    {
      "cell_type": "code",
      "metadata": {
        "colab_type": "code",
        "id": "8teaULdrIRQT",
        "scrolled": true,
        "colab": {}
      },
      "source": [
        "class FrozenLake(gym.Env):\n",
        "    metadata = { 'render.modes': [] }\n",
        "    \n",
        "    def __init__(self,deterministic=True,maxsteps=16,randomStart=False):   #Init function\n",
        "        self.observation_space = spaces.Discrete(16) \n",
        "        self.action_space = spaces.Discrete(4)\n",
        "        self.max_timesteps = maxsteps\n",
        "        self.deterministic = deterministic\n",
        "        self.randomstart = randomStart\n",
        "        self.reset()\n",
        "        self.Ptable = self.createTransitionTable()\n",
        "        \n",
        "    def reset(self):                                                        #Reset function\n",
        "        self.timestep = 0\n",
        "        self.state = np.zeros((4,4)) \n",
        "        self.goal_pos = [3, 3]     #Assigning fixed positions for goal and holes\n",
        "        self.hole_pos1 = [1, 1]\n",
        "        self.hole_pos2 = [1, 3]\n",
        "        self.hole_pos3 = [2, 3]\n",
        "        self.done = False\n",
        "        \n",
        "        self.state[tuple(self.goal_pos)] = 0.5      #assigning values in the grid for visual representation\n",
        "        self.state[tuple(self.hole_pos1)] = 0.2\n",
        "        self.state[tuple(self.hole_pos2)] = 0.2\n",
        "        self.state[tuple(self.hole_pos3)] = 0.2\n",
        "        \n",
        "        agent_pos = [0, 0] \n",
        "        \n",
        "        if self.randomstart == False:\n",
        "          agent_pos = [0, 0]   # Assigning agent position at top left corner, in case of a deterministic environment\n",
        "        else:\n",
        "          while True:          # Assigning agent position at any random position inside the grid, in case of a stochastic environment\n",
        "            x = np.random.randint(0, 3)\n",
        "            y = np.random.randint(0, 3)\n",
        "            pos = [x, y]\n",
        "            if np.array_equal(pos,self.hole_pos1) or np.array_equal(pos,self.hole_pos2) or np.array_equal(pos,self.hole_pos3):\n",
        "              continue\n",
        "            else:\n",
        "              agent_pos = [x, y]\n",
        "              break    \n",
        "         \n",
        "        self.agent_pos = agent_pos\n",
        "        self.state[tuple(self.agent_pos)] = 1\n",
        "        observation = np.argmax(self.state.flatten())\n",
        "        return observation\n",
        "      \n",
        "    \n",
        "    def step(self, action):                               #step function                                     \n",
        "        assert self.action_space.contains(action)\n",
        "        self.state[tuple(self.agent_pos)] = 0.0           \n",
        "        initPos = self.agent_pos\n",
        "        currstate = self.getcurrentstate(self.agent_pos)\n",
        "        PossibleStates = self.Ptable[currstate][action]\n",
        "        probs = np.array([x[0] for x in PossibleStates])\n",
        "        probs = probs/sum(probs)\n",
        "        nextStateind = np.random.choice(len(probs), p=probs) \n",
        "        self.agent_pos = PossibleStates[nextStateind][1]  \n",
        "        \n",
        "        prevdist = np.square(self.goal_pos[1]-initPos[1])+np.square(self.goal_pos[0]-initPos[0])\n",
        "        newdist = np.square(self.goal_pos[1]-self.agent_pos[1])+np.square(self.goal_pos[0]-self.agent_pos[0])\n",
        "  \n",
        "        reward = -1   # for every movement reward deducted by 1\n",
        "        done = False\n",
        "        if np.array_equal(self.agent_pos,self.goal_pos):\n",
        "          reward = 100  # if agent pos and goal pos is same, reward 100 and end episode\n",
        "          done = True\n",
        "        elif np.array_equal(self.agent_pos,self.hole_pos1) or np.array_equal(self.agent_pos,self.hole_pos2) or np.array_equal(self.agent_pos,self.hole_pos3) :\n",
        "          reward = -100   # if agent pos and hole pos is same, deduct 100 and end episode\n",
        "          done = True \n",
        "        elif newdist<prevdist:  # if agent moves closer to goal reward +5\n",
        "          reward = 5\n",
        "        \n",
        "        \n",
        "        self.state[tuple(self.agent_pos)] = 1    \n",
        "        \n",
        "        self.timestep += 1\n",
        "        if self.timestep >= self.max_timesteps or done:\n",
        "          self.done = True\n",
        "        else:\n",
        "          self.done = False\n",
        "        info = PossibleStates\n",
        "        observation = np.argmax(self.state.flatten())\n",
        "        return observation, reward, self.done, info\n",
        "        \n",
        "    def render(self):                                        #Render Function\n",
        "        plt.imshow(self.state)\n",
        "        \n",
        "    def getcurrentstate(self,currPos):                       #GetCurrentState function returns position\n",
        "        return currPos[0]*self.state.shape[1] + currPos[1]\n",
        "      \n",
        "    def getState(self):                                        #Returns environment state\n",
        "      return self.state\n",
        "      \n",
        "    def isOver(self,pos):                                     # Isover determines if agent has reached goal/ hole \n",
        "      if np.array_equal(pos,self.goal_pos) or np.array_equal(pos,self.hole_pos1) or np.array_equal(pos,self.hole_pos2) or np.array_equal(pos,self.hole_pos3):\n",
        "        return True\n",
        "      \n",
        "    def increment(self,action,pos):                          # increment function to return future pos of next state\n",
        "      fpos = pos \n",
        "      if action == 0 and pos[0] < 3:      \n",
        "           fpos[0] += 1                     # 0- down movement; agent position is incremented by 1 in the downward direction\n",
        "      if action == 1 and pos[0] > 0:\n",
        "         fpos[0] -= 1                       # 1- up movement; agent position is decremented by 1 in the upward direction\n",
        "      if action == 2 and pos[1] < 3:\n",
        "         fpos[1] += 1                       # 0- right movement; agent position is incremented by 1 in the right direction\n",
        "      if action == 3 and pos[1] > 0:\n",
        "         fpos[1] -= 1                       # 0- left movement; agent position is decremented by 1 in the left direction\n",
        "      return  fpos\n",
        "      \n",
        "    def createTransitionTable(self):                                      #Probability Transiition matrix containing the probabilities associated with each step                                       \n",
        "      Ptable = {s : {a : [] for a in range(4)} for s in range(16)}\n",
        "      for r in range(4):\n",
        "          for c in range(4):\n",
        "              st = self.getcurrentstate([r,c])\n",
        "              for action in range(4):\n",
        "                  temp = Ptable[st][action]\n",
        "                  if self.isOver([r,c]):            # checks if agent is at hole/goal position\n",
        "                      temp.append((1.0, [r,c]))\n",
        "                  else:\n",
        "                      if self.deterministic:           # if the environment is deterministic        \n",
        "                          fpos = self.increment(action,[r,c])\n",
        "                          temp.append((1.0, fpos))\n",
        "                      else:                           # if environment is stochastic\n",
        "                          pr = 1\n",
        "                          for acs in [(action-1)%4, action, (action+1)%4]: \n",
        "                          #for acs in [0,1,2,3]:\n",
        "                              fpos = self.increment(acs,[r,c])\n",
        "                              if acs == 2 or acs == 0:        # For down and right movements, we are assigning  a probability of 0.7\n",
        "                                temp.append((0.7, fpos))\n",
        "                              else:\n",
        "                                temp.append((0.2, fpos))      # for up and left movements, we are assigning a probability of 0.2 \n",
        "      return Ptable\n",
        "      \n",
        "    "
      ],
      "execution_count": 0,
      "outputs": []
    },
    {
      "cell_type": "code",
      "metadata": {
        "colab_type": "code",
        "id": "5kTsUL_LS0i6",
        "outputId": "cedc0b78-4447-41ca-efc1-9cd4c6e94759",
        "colab": {
          "base_uri": "https://localhost:8080/",
          "height": 269
        }
      },
      "source": [
        "# Testing to see if our environment looks and behaves as expected\n",
        "env = FrozenLake(deterministic=True) # Here we want our environment to be deterministic\n",
        "obs = env.reset() # It is important to reset the environment to its initial state before we call on an episode\n",
        "env.render() # rendering the environment\n",
        "# 0 - down\n",
        "# 1 - up\n",
        "# 2 - right\n",
        "# 3 - left\n",
        "\n"
      ],
      "execution_count": 7,
      "outputs": [
        {
          "output_type": "display_data",
          "data": {
            "image/png": "[encoded data removed]",
            "text/plain": [
              "<Figure size 432x288 with 1 Axes>"
            ]
          },
          "metadata": {
            "tags": []
          }
        }
      ]
    },
    {
      "cell_type": "markdown",
      "metadata": {
        "colab_type": "text",
        "id": "MDHevQMU9twK"
      },
      "source": [
        "## DETERMINISTIC IMPLEMENTATION"
      ]
    },
    {
      "cell_type": "code",
      "metadata": {
        "colab_type": "code",
        "id": "aE5ZonudU9mY",
        "outputId": "b6f5f593-ef02-4262-92c4-0271fb47c529",
        "colab": {
          "base_uri": "https://localhost:8080/",
          "height": 286
        }
      },
      "source": [
        "#Testing to see if our agent can move down as instructed\n",
        "action = 0\n",
        "observation, reward, done, info = env.step(action) # Invoking the step function with action=0 down movement\n",
        "env.render()\n",
        "print('Reward:', reward) # Rewarding the agent 5 points for moving closer to goal"
      ],
      "execution_count": 8,
      "outputs": [
        {
          "output_type": "stream",
          "text": [
            "Reward: 5\n"
          ],
          "name": "stdout"
        },
        {
          "output_type": "display_data",
          "data": {
            "image/png": "[encoded data removed]",
            "text/plain": [
              "<Figure size 432x288 with 1 Axes>"
            ]
          },
          "metadata": {
            "tags": []
          }
        }
      ]
    },
    {
      "cell_type": "markdown",
      "metadata": {
        "colab_type": "text",
        "id": "MdaMWZnIh1Kv"
      },
      "source": [
        "### 2.3 Creating/Training the Q- Learning agent\n",
        "\n"
      ]
    },
    {
      "cell_type": "markdown",
      "metadata": {
        "colab_type": "text",
        "id": "WZrdEcfPiVOB"
      },
      "source": [
        "\n",
        "Central to Q learning is the concept of exploitation and exploration.\n",
        "Exploitation make the best decision given current\n",
        "information while exploration is gathering more information.\n",
        "The best long–term strategy may sometimes involve short–term\n",
        "sacrifices. While the overall aim of the agent would be to gather enough information to make the best overall\n",
        "decisions.\n",
        "\n",
        "The reward calculation at each step is tabulated and considered for calculation for next step with the help of a Q table which is a lookup table where we calculate the maximum expected future rewards for action at each state. In the Q-Table, the columns are the actions and the rows are the states.\n",
        "The values in the Q table are calculated by the Q- Learning algorithm explained in section 1.3.\n",
        "\n",
        "The RL model here is loosely based on an epsilon-decreasing strategy. With this strategy we explore with probability epsilon, and exploit with probability 1 — epsilon. Epsilon decreases over time."
      ]
    },
    {
      "cell_type": "code",
      "metadata": {
        "colab_type": "code",
        "id": "RYwAFYVtiMiB",
        "colab": {}
      },
      "source": [
        "class Q_Agent:\n",
        "  def __init__(self, env, learning_rate, gamma):\n",
        "    self.env = env\n",
        "    self.observation_space = env.observation_space\n",
        "    self.action_space = env.action_space\n",
        "    self.learning_rate = learning_rate\n",
        "    self.gamma = gamma\n",
        "    self.q_table = np.zeros((self.observation_space.n, self.action_space.n))   #define q table\n",
        "  \n",
        "  def step(self, state, tradeoff, epsilon):\n",
        "    # Exploit (the biggest Q value for this state)\n",
        "    if tradeoff > epsilon:\n",
        "      action = np.argmax(self.q_table[state,:])\n",
        "    # Else doing a random choice --> exploration\n",
        "    else:\n",
        "      action = self.action_space.sample()\n",
        "    return action\n",
        "  \n",
        "  def update(self, state, action, new_state, reward):\n",
        "    self.q_table[state, action] = self.q_table[state, action] + ( self.learning_rate * (reward + self.gamma * np.max(self.q_table[new_state, :]) - self.q_table[state, action]) )\n",
        "    \n",
        "  def getQtable(self):\n",
        "    return self.q_table"
      ],
      "execution_count": 0,
      "outputs": []
    },
    {
      "cell_type": "markdown",
      "metadata": {
        "colab_type": "text",
        "id": "OXmNdGYEQBA1"
      },
      "source": [
        "Defining the exploration parameters"
      ]
    },
    {
      "cell_type": "code",
      "metadata": {
        "colab_type": "code",
        "id": "B5_4kbZLjwp_",
        "colab": {}
      },
      "source": [
        "q_agent = Q_Agent(env, learning_rate=0.95, gamma=0.96)\n",
        "\n",
        "total_episodes = 5000 # training for 5000 episodes\n",
        "\n",
        "# Exploration parameters\n",
        "epsilon = 1.0                 # Exploration rate\n",
        "max_epsilon = 1.0             # Exploration probability at start\n",
        "min_epsilon = 0.01            # Minimum exploration probability \n",
        "decay_rate = 0.005            # Exponential decay rate for exploration prob"
      ],
      "execution_count": 0,
      "outputs": []
    },
    {
      "cell_type": "code",
      "metadata": {
        "colab_type": "code",
        "id": "qM3B_6mRkU3M",
        "outputId": "f7a303b8-ac8c-4998-8c75-53be64d4c826",
        "colab": {
          "base_uri": "https://localhost:8080/",
          "height": 34
        }
      },
      "source": [
        "q_agent.q_table.shape   # dimensions of the q_table"
      ],
      "execution_count": 11,
      "outputs": [
        {
          "output_type": "execute_result",
          "data": {
            "text/plain": [
              "(16, 4)"
            ]
          },
          "metadata": {
            "tags": []
          },
          "execution_count": 11
        }
      ]
    },
    {
      "cell_type": "markdown",
      "metadata": {
        "colab_type": "text",
        "id": "IEK2WFW1QODm"
      },
      "source": [
        "using collab widget to print grids for every 500 episode. For every episode that does not meet it's goal, tradeoffs, epsilon are recalibrated. \n",
        "\n",
        "From the grids below, it is evident that the agent has converged with the goal between episodes 500 and 1000, and all teh episodes therafter."
      ]
    },
    {
      "cell_type": "code",
      "metadata": {
        "colab_type": "code",
        "id": "VrnLmv0Lmydc",
        "outputId": "5fae283e-4e29-4b92-8e61-2851d2464df3",
        "colab": {
          "base_uri": "https://localhost:8080/",
          "height": 3700
        }
      },
      "source": [
        "\n",
        "print(\"Starting state\")\n",
        "rewards = []\n",
        "epsilons = []\n",
        "state = env.reset()\n",
        "output_grid = widgets.Grid(1, 1)\n",
        "with output_grid.output_to(0, 0):\n",
        "  output_grid.clear_cell()\n",
        "  env.render()\n",
        "time.sleep(0.25)\n",
        "\n",
        "for episode in range(total_episodes):\n",
        "  state = env.reset()\n",
        "  total_rewards = 0\n",
        "  done = False\n",
        "  \n",
        "  if episode % 500 == 0:\n",
        "    print ('Episode No:', episode+1)\n",
        "    \n",
        "  while not done:\n",
        "    tradeoff = random.uniform(0, 1)\n",
        "    action = q_agent.step(state, tradeoff, epsilon)\n",
        "    new_state, reward, done, info = q_agent.env.step(action)\n",
        "    q_agent.update(state, action, new_state, reward)    \n",
        "    total_rewards += reward   \n",
        "    state = new_state\n",
        "  if episode % 500 == 0:\n",
        "    output_grid = widgets.Grid(1, 1)\n",
        "    with output_grid.output_to(0, 0):\n",
        "      output_grid.clear_cell()\n",
        "      env.render()\n",
        "    print(q_agent.env.getState())\n",
        "  epsilon = min_epsilon + (max_epsilon - min_epsilon)*np.exp(-decay_rate*episode)\n",
        "  epsilons.append(epsilon)\n",
        "  rewards.append(total_rewards)"
      ],
      "execution_count": 12,
      "outputs": [
        {
          "output_type": "stream",
          "text": [
            "Starting state\n"
          ],
          "name": "stdout"
        },
        {
          "output_type": "display_data",
          "data": {
            "text/html": [
              "<style>\n",
              "       table#id6, #id6 > tbody > tr > th, #id6 > tbody > tr > td {\n",
              "         border: 1px solid lightgray;\n",
              "         border-collapse:collapse;\n",
              "         \n",
              "        }</style>"
            ],
            "text/plain": [
              "<IPython.core.display.HTML object>"
            ]
          },
          "metadata": {
            "tags": [
              "outputarea_id6"
            ]
          }
        },
        {
          "output_type": "display_data",
          "data": {
            "text/html": [
              "<table id=id6><tr><td id=id6-0-0></td></tr></table>"
            ],
            "text/plain": [
              "<IPython.core.display.HTML object>"
            ]
          },
          "metadata": {
            "tags": [
              "outputarea_id6"
            ]
          }
        },
        {
          "output_type": "display_data",
          "data": {
            "application/javascript": [
              "window[\"56899f98-8bf8-11e9-92a5-0242ac1c0002\"] = google.colab.output.getActiveOutputArea();\n",
              "//# sourceURL=js_4a86c85bb1"
            ],
            "text/plain": [
              "<IPython.core.display.Javascript object>"
            ]
          },
          "metadata": {
            "tags": [
              "id6-0-0",
              "outputarea_id6"
            ]
          }
        },
        {
          "output_type": "display_data",
          "data": {
            "application/javascript": [
              "window[\"5689d116-8bf8-11e9-92a5-0242ac1c0002\"] = document.querySelector(\"#id6-0-0\");\n",
              "//# sourceURL=js_ff46ff4385"
            ],
            "text/plain": [
              "<IPython.core.display.Javascript object>"
            ]
          },
          "metadata": {
            "tags": [
              "id6-0-0",
              "outputarea_id6"
            ]
          }
        },
        {
          "output_type": "display_data",
          "data": {
            "application/javascript": [
              "window[\"5689f56a-8bf8-11e9-92a5-0242ac1c0002\"] = google.colab.output.setActiveOutputArea(window[\"5689d116-8bf8-11e9-92a5-0242ac1c0002\"]);\n",
              "//# sourceURL=js_13285cc70c"
            ],
            "text/plain": [
              "<IPython.core.display.Javascript object>"
            ]
          },
          "metadata": {
            "tags": [
              "id6-0-0",
              "outputarea_id6"
            ]
          }
        },
        {
          "output_type": "display_data",
          "data": {
            "image/png": "[encoded data removed]",
            "text/plain": [
              "<Figure size 432x288 with 1 Axes>"
            ]
          },
          "metadata": {
            "tags": [
              "id6-0-0",
              "outputarea_id6",
              "user_output"
            ]
          }
        },
        {
          "output_type": "display_data",
          "data": {
            "application/javascript": [
              "window[\"569d8332-8bf8-11e9-92a5-0242ac1c0002\"] = google.colab.output.setActiveOutputArea(window[\"56899f98-8bf8-11e9-92a5-0242ac1c0002\"]);\n",
              "//# sourceURL=js_67ef0b665f"
            ],
            "text/plain": [
              "<IPython.core.display.Javascript object>"
            ]
          },
          "metadata": {
            "tags": [
              "id6-0-0",
              "outputarea_id6"
            ]
          }
        },
        {
          "output_type": "stream",
          "text": [
            "Episode No: 1\n"
          ],
          "name": "stdout"
        },
        {
          "output_type": "display_data",
          "data": {
            "text/html": [
              "<style>\n",
              "       table#id8, #id8 > tbody > tr > th, #id8 > tbody > tr > td {\n",
              "         border: 1px solid lightgray;\n",
              "         border-collapse:collapse;\n",
              "         \n",
              "        }</style>"
            ],
            "text/plain": [
              "<IPython.core.display.HTML object>"
            ]
          },
          "metadata": {
            "tags": [
              "outputarea_id8"
            ]
          }
        },
        {
          "output_type": "display_data",
          "data": {
            "text/html": [
              "<table id=id8><tr><td id=id8-0-0></td></tr></table>"
            ],
            "text/plain": [
              "<IPython.core.display.HTML object>"
            ]
          },
          "metadata": {
            "tags": [
              "outputarea_id8"
            ]
          }
        },
        {
          "output_type": "display_data",
          "data": {
            "application/javascript": [
              "window[\"56c73f24-8bf8-11e9-92a5-0242ac1c0002\"] = google.colab.output.getActiveOutputArea();\n",
              "//# sourceURL=js_25d45c277e"
            ],
            "text/plain": [
              "<IPython.core.display.Javascript object>"
            ]
          },
          "metadata": {
            "tags": [
              "id8-0-0",
              "outputarea_id8"
            ]
          }
        },
        {
          "output_type": "display_data",
          "data": {
            "application/javascript": [
              "window[\"56c76f1c-8bf8-11e9-92a5-0242ac1c0002\"] = document.querySelector(\"#id8-0-0\");\n",
              "//# sourceURL=js_519dcd4bfd"
            ],
            "text/plain": [
              "<IPython.core.display.Javascript object>"
            ]
          },
          "metadata": {
            "tags": [
              "id8-0-0",
              "outputarea_id8"
            ]
          }
        },
        {
          "output_type": "display_data",
          "data": {
            "application/javascript": [
              "window[\"56c7b986-8bf8-11e9-92a5-0242ac1c0002\"] = google.colab.output.setActiveOutputArea(window[\"56c76f1c-8bf8-11e9-92a5-0242ac1c0002\"]);\n",
              "//# sourceURL=js_a5839be1b2"
            ],
            "text/plain": [
              "<IPython.core.display.Javascript object>"
            ]
          },
          "metadata": {
            "tags": [
              "id8-0-0",
              "outputarea_id8"
            ]
          }
        },
        {
          "output_type": "display_data",
          "data": {
            "image/png": "[encoded data removed]",
            "text/plain": [
              "<Figure size 432x288 with 1 Axes>"
            ]
          },
          "metadata": {
            "tags": [
              "id8-0-0",
              "outputarea_id8",
              "user_output"
            ]
          }
        },
        {
          "output_type": "display_data",
          "data": {
            "application/javascript": [
              "window[\"56dbca84-8bf8-11e9-92a5-0242ac1c0002\"] = google.colab.output.setActiveOutputArea(window[\"56c73f24-8bf8-11e9-92a5-0242ac1c0002\"]);\n",
              "//# sourceURL=js_3958544cf5"
            ],
            "text/plain": [
              "<IPython.core.display.Javascript object>"
            ]
          },
          "metadata": {
            "tags": [
              "id8-0-0",
              "outputarea_id8"
            ]
          }
        },
        {
          "output_type": "stream",
          "text": [
            "[[0.  0.  0.  0. ]\n",
            " [0.  1.  0.  0.2]\n",
            " [0.  0.  0.  0.2]\n",
            " [0.  0.  0.  0.5]]\n",
            "Episode No: 501\n"
          ],
          "name": "stdout"
        },
        {
          "output_type": "display_data",
          "data": {
            "text/html": [
              "<style>\n",
              "       table#id10, #id10 > tbody > tr > th, #id10 > tbody > tr > td {\n",
              "         border: 1px solid lightgray;\n",
              "         border-collapse:collapse;\n",
              "         \n",
              "        }</style>"
            ],
            "text/plain": [
              "<IPython.core.display.HTML object>"
            ]
          },
          "metadata": {
            "tags": [
              "outputarea_id10"
            ]
          }
        },
        {
          "output_type": "display_data",
          "data": {
            "text/html": [
              "<table id=id10><tr><td id=id10-0-0></td></tr></table>"
            ],
            "text/plain": [
              "<IPython.core.display.HTML object>"
            ]
          },
          "metadata": {
            "tags": [
              "outputarea_id10"
            ]
          }
        },
        {
          "output_type": "display_data",
          "data": {
            "application/javascript": [
              "window[\"5715ec28-8bf8-11e9-92a5-0242ac1c0002\"] = google.colab.output.getActiveOutputArea();\n",
              "//# sourceURL=js_11861d9253"
            ],
            "text/plain": [
              "<IPython.core.display.Javascript object>"
            ]
          },
          "metadata": {
            "tags": [
              "id10-0-0",
              "outputarea_id10"
            ]
          }
        },
        {
          "output_type": "display_data",
          "data": {
            "application/javascript": [
              "window[\"57161b4e-8bf8-11e9-92a5-0242ac1c0002\"] = document.querySelector(\"#id10-0-0\");\n",
              "//# sourceURL=js_4410fb02ca"
            ],
            "text/plain": [
              "<IPython.core.display.Javascript object>"
            ]
          },
          "metadata": {
            "tags": [
              "id10-0-0",
              "outputarea_id10"
            ]
          }
        },
        {
          "output_type": "display_data",
          "data": {
            "application/javascript": [
              "window[\"57164786-8bf8-11e9-92a5-0242ac1c0002\"] = google.colab.output.setActiveOutputArea(window[\"57161b4e-8bf8-11e9-92a5-0242ac1c0002\"]);\n",
              "//# sourceURL=js_187bf052dd"
            ],
            "text/plain": [
              "<IPython.core.display.Javascript object>"
            ]
          },
          "metadata": {
            "tags": [
              "id10-0-0",
              "outputarea_id10"
            ]
          }
        },
        {
          "output_type": "display_data",
          "data": {
            "image/png": "[encoded data removed]",
            "text/plain": [
              "<Figure size 432x288 with 1 Axes>"
            ]
          },
          "metadata": {
            "tags": [
              "id10-0-0",
              "outputarea_id10",
              "user_output"
            ]
          }
        },
        {
          "output_type": "display_data",
          "data": {
            "application/javascript": [
              "window[\"572b30b0-8bf8-11e9-92a5-0242ac1c0002\"] = google.colab.output.setActiveOutputArea(window[\"5715ec28-8bf8-11e9-92a5-0242ac1c0002\"]);\n",
              "//# sourceURL=js_f2d2cce63a"
            ],
            "text/plain": [
              "<IPython.core.display.Javascript object>"
            ]
          },
          "metadata": {
            "tags": [
              "id10-0-0",
              "outputarea_id10"
            ]
          }
        },
        {
          "output_type": "stream",
          "text": [
            "[[0.  0.  0.  0. ]\n",
            " [0.  0.2 0.  0.2]\n",
            " [0.  0.  0.  0.2]\n",
            " [0.  0.  0.  1. ]]\n",
            "Episode No: 1001\n"
          ],
          "name": "stdout"
        },
        {
          "output_type": "display_data",
          "data": {
            "text/html": [
              "<style>\n",
              "       table#id12, #id12 > tbody > tr > th, #id12 > tbody > tr > td {\n",
              "         border: 1px solid lightgray;\n",
              "         border-collapse:collapse;\n",
              "         \n",
              "        }</style>"
            ],
            "text/plain": [
              "<IPython.core.display.HTML object>"
            ]
          },
          "metadata": {
            "tags": [
              "outputarea_id12"
            ]
          }
        },
        {
          "output_type": "display_data",
          "data": {
            "text/html": [
              "<table id=id12><tr><td id=id12-0-0></td></tr></table>"
            ],
            "text/plain": [
              "<IPython.core.display.HTML object>"
            ]
          },
          "metadata": {
            "tags": [
              "outputarea_id12"
            ]
          }
        },
        {
          "output_type": "display_data",
          "data": {
            "application/javascript": [
              "window[\"57588ba0-8bf8-11e9-92a5-0242ac1c0002\"] = google.colab.output.getActiveOutputArea();\n",
              "//# sourceURL=js_84cfc1121c"
            ],
            "text/plain": [
              "<IPython.core.display.Javascript object>"
            ]
          },
          "metadata": {
            "tags": [
              "id12-0-0",
              "outputarea_id12"
            ]
          }
        },
        {
          "output_type": "display_data",
          "data": {
            "application/javascript": [
              "window[\"5758fcd4-8bf8-11e9-92a5-0242ac1c0002\"] = document.querySelector(\"#id12-0-0\");\n",
              "//# sourceURL=js_0e389d13f6"
            ],
            "text/plain": [
              "<IPython.core.display.Javascript object>"
            ]
          },
          "metadata": {
            "tags": [
              "id12-0-0",
              "outputarea_id12"
            ]
          }
        },
        {
          "output_type": "display_data",
          "data": {
            "application/javascript": [
              "window[\"57595094-8bf8-11e9-92a5-0242ac1c0002\"] = google.colab.output.setActiveOutputArea(window[\"5758fcd4-8bf8-11e9-92a5-0242ac1c0002\"]);\n",
              "//# sourceURL=js_407ff8f9eb"
            ],
            "text/plain": [
              "<IPython.core.display.Javascript object>"
            ]
          },
          "metadata": {
            "tags": [
              "id12-0-0",
              "outputarea_id12"
            ]
          }
        },
        {
          "output_type": "display_data",
          "data": {
            "image/png": "[encoded data removed]",
            "text/plain": [
              "<Figure size 432x288 with 1 Axes>"
            ]
          },
          "metadata": {
            "tags": [
              "id12-0-0",
              "outputarea_id12",
              "user_output"
            ]
          }
        },
        {
          "output_type": "display_data",
          "data": {
            "application/javascript": [
              "window[\"57713e2a-8bf8-11e9-92a5-0242ac1c0002\"] = google.colab.output.setActiveOutputArea(window[\"57588ba0-8bf8-11e9-92a5-0242ac1c0002\"]);\n",
              "//# sourceURL=js_8d516a628c"
            ],
            "text/plain": [
              "<IPython.core.display.Javascript object>"
            ]
          },
          "metadata": {
            "tags": [
              "id12-0-0",
              "outputarea_id12"
            ]
          }
        },
        {
          "output_type": "stream",
          "text": [
            "[[0.  0.  0.  0. ]\n",
            " [0.  0.2 0.  0.2]\n",
            " [0.  0.  0.  0.2]\n",
            " [0.  0.  0.  1. ]]\n",
            "Episode No: 1501\n"
          ],
          "name": "stdout"
        },
        {
          "output_type": "display_data",
          "data": {
            "text/html": [
              "<style>\n",
              "       table#id14, #id14 > tbody > tr > th, #id14 > tbody > tr > td {\n",
              "         border: 1px solid lightgray;\n",
              "         border-collapse:collapse;\n",
              "         \n",
              "        }</style>"
            ],
            "text/plain": [
              "<IPython.core.display.HTML object>"
            ]
          },
          "metadata": {
            "tags": [
              "outputarea_id14"
            ]
          }
        },
        {
          "output_type": "display_data",
          "data": {
            "text/html": [
              "<table id=id14><tr><td id=id14-0-0></td></tr></table>"
            ],
            "text/plain": [
              "<IPython.core.display.HTML object>"
            ]
          },
          "metadata": {
            "tags": [
              "outputarea_id14"
            ]
          }
        },
        {
          "output_type": "display_data",
          "data": {
            "application/javascript": [
              "window[\"57a0a250-8bf8-11e9-92a5-0242ac1c0002\"] = google.colab.output.getActiveOutputArea();\n",
              "//# sourceURL=js_58db708a04"
            ],
            "text/plain": [
              "<IPython.core.display.Javascript object>"
            ]
          },
          "metadata": {
            "tags": [
              "id14-0-0",
              "outputarea_id14"
            ]
          }
        },
        {
          "output_type": "display_data",
          "data": {
            "application/javascript": [
              "window[\"57a10d12-8bf8-11e9-92a5-0242ac1c0002\"] = document.querySelector(\"#id14-0-0\");\n",
              "//# sourceURL=js_1f5c572df6"
            ],
            "text/plain": [
              "<IPython.core.display.Javascript object>"
            ]
          },
          "metadata": {
            "tags": [
              "id14-0-0",
              "outputarea_id14"
            ]
          }
        },
        {
          "output_type": "display_data",
          "data": {
            "application/javascript": [
              "window[\"57a172c0-8bf8-11e9-92a5-0242ac1c0002\"] = google.colab.output.setActiveOutputArea(window[\"57a10d12-8bf8-11e9-92a5-0242ac1c0002\"]);\n",
              "//# sourceURL=js_6ddc01fc89"
            ],
            "text/plain": [
              "<IPython.core.display.Javascript object>"
            ]
          },
          "metadata": {
            "tags": [
              "id14-0-0",
              "outputarea_id14"
            ]
          }
        },
        {
          "output_type": "display_data",
          "data": {
            "image/png": "[encoded data removed]",
            "text/plain": [
              "<Figure size 432x288 with 1 Axes>"
            ]
          },
          "metadata": {
            "tags": [
              "id14-0-0",
              "outputarea_id14",
              "user_output"
            ]
          }
        },
        {
          "output_type": "display_data",
          "data": {
            "application/javascript": [
              "window[\"57b98824-8bf8-11e9-92a5-0242ac1c0002\"] = google.colab.output.setActiveOutputArea(window[\"57a0a250-8bf8-11e9-92a5-0242ac1c0002\"]);\n",
              "//# sourceURL=js_78bd792d3b"
            ],
            "text/plain": [
              "<IPython.core.display.Javascript object>"
            ]
          },
          "metadata": {
            "tags": [
              "id14-0-0",
              "outputarea_id14"
            ]
          }
        },
        {
          "output_type": "stream",
          "text": [
            "[[0.  0.  0.  0. ]\n",
            " [0.  0.2 0.  0.2]\n",
            " [0.  0.  0.  0.2]\n",
            " [0.  0.  0.  1. ]]\n",
            "Episode No: 2001\n"
          ],
          "name": "stdout"
        },
        {
          "output_type": "display_data",
          "data": {
            "text/html": [
              "<style>\n",
              "       table#id16, #id16 > tbody > tr > th, #id16 > tbody > tr > td {\n",
              "         border: 1px solid lightgray;\n",
              "         border-collapse:collapse;\n",
              "         \n",
              "        }</style>"
            ],
            "text/plain": [
              "<IPython.core.display.HTML object>"
            ]
          },
          "metadata": {
            "tags": [
              "outputarea_id16"
            ]
          }
        },
        {
          "output_type": "display_data",
          "data": {
            "text/html": [
              "<table id=id16><tr><td id=id16-0-0></td></tr></table>"
            ],
            "text/plain": [
              "<IPython.core.display.HTML object>"
            ]
          },
          "metadata": {
            "tags": [
              "outputarea_id16"
            ]
          }
        },
        {
          "output_type": "display_data",
          "data": {
            "application/javascript": [
              "window[\"57eba4a8-8bf8-11e9-92a5-0242ac1c0002\"] = google.colab.output.getActiveOutputArea();\n",
              "//# sourceURL=js_e3b736cd3a"
            ],
            "text/plain": [
              "<IPython.core.display.Javascript object>"
            ]
          },
          "metadata": {
            "tags": [
              "id16-0-0",
              "outputarea_id16"
            ]
          }
        },
        {
          "output_type": "display_data",
          "data": {
            "application/javascript": [
              "window[\"57ebeefe-8bf8-11e9-92a5-0242ac1c0002\"] = document.querySelector(\"#id16-0-0\");\n",
              "//# sourceURL=js_2731a50c8f"
            ],
            "text/plain": [
              "<IPython.core.display.Javascript object>"
            ]
          },
          "metadata": {
            "tags": [
              "id16-0-0",
              "outputarea_id16"
            ]
          }
        },
        {
          "output_type": "display_data",
          "data": {
            "application/javascript": [
              "window[\"57ec4390-8bf8-11e9-92a5-0242ac1c0002\"] = google.colab.output.setActiveOutputArea(window[\"57ebeefe-8bf8-11e9-92a5-0242ac1c0002\"]);\n",
              "//# sourceURL=js_b97a1e10fc"
            ],
            "text/plain": [
              "<IPython.core.display.Javascript object>"
            ]
          },
          "metadata": {
            "tags": [
              "id16-0-0",
              "outputarea_id16"
            ]
          }
        },
        {
          "output_type": "display_data",
          "data": {
            "image/png": "[encoded data removed]",
            "text/plain": [
              "<Figure size 432x288 with 1 Axes>"
            ]
          },
          "metadata": {
            "tags": [
              "id16-0-0",
              "outputarea_id16",
              "user_output"
            ]
          }
        },
        {
          "output_type": "display_data",
          "data": {
            "application/javascript": [
              "window[\"5808ed42-8bf8-11e9-92a5-0242ac1c0002\"] = google.colab.output.setActiveOutputArea(window[\"57eba4a8-8bf8-11e9-92a5-0242ac1c0002\"]);\n",
              "//# sourceURL=js_a5ceb6095a"
            ],
            "text/plain": [
              "<IPython.core.display.Javascript object>"
            ]
          },
          "metadata": {
            "tags": [
              "id16-0-0",
              "outputarea_id16"
            ]
          }
        },
        {
          "output_type": "stream",
          "text": [
            "[[0.  0.  0.  0. ]\n",
            " [0.  0.2 0.  0.2]\n",
            " [0.  0.  0.  0.2]\n",
            " [0.  0.  0.  1. ]]\n",
            "Episode No: 2501\n"
          ],
          "name": "stdout"
        },
        {
          "output_type": "display_data",
          "data": {
            "text/html": [
              "<style>\n",
              "       table#id18, #id18 > tbody > tr > th, #id18 > tbody > tr > td {\n",
              "         border: 1px solid lightgray;\n",
              "         border-collapse:collapse;\n",
              "         \n",
              "        }</style>"
            ],
            "text/plain": [
              "<IPython.core.display.HTML object>"
            ]
          },
          "metadata": {
            "tags": [
              "outputarea_id18"
            ]
          }
        },
        {
          "output_type": "display_data",
          "data": {
            "text/html": [
              "<table id=id18><tr><td id=id18-0-0></td></tr></table>"
            ],
            "text/plain": [
              "<IPython.core.display.HTML object>"
            ]
          },
          "metadata": {
            "tags": [
              "outputarea_id18"
            ]
          }
        },
        {
          "output_type": "display_data",
          "data": {
            "application/javascript": [
              "window[\"5839e1d6-8bf8-11e9-92a5-0242ac1c0002\"] = google.colab.output.getActiveOutputArea();\n",
              "//# sourceURL=js_56e9c5cbf6"
            ],
            "text/plain": [
              "<IPython.core.display.Javascript object>"
            ]
          },
          "metadata": {
            "tags": [
              "id18-0-0",
              "outputarea_id18"
            ]
          }
        },
        {
          "output_type": "display_data",
          "data": {
            "application/javascript": [
              "window[\"583a1b88-8bf8-11e9-92a5-0242ac1c0002\"] = document.querySelector(\"#id18-0-0\");\n",
              "//# sourceURL=js_5c2dfa0d93"
            ],
            "text/plain": [
              "<IPython.core.display.Javascript object>"
            ]
          },
          "metadata": {
            "tags": [
              "id18-0-0",
              "outputarea_id18"
            ]
          }
        },
        {
          "output_type": "display_data",
          "data": {
            "application/javascript": [
              "window[\"583a673c-8bf8-11e9-92a5-0242ac1c0002\"] = google.colab.output.setActiveOutputArea(window[\"583a1b88-8bf8-11e9-92a5-0242ac1c0002\"]);\n",
              "//# sourceURL=js_1bdabf5898"
            ],
            "text/plain": [
              "<IPython.core.display.Javascript object>"
            ]
          },
          "metadata": {
            "tags": [
              "id18-0-0",
              "outputarea_id18"
            ]
          }
        },
        {
          "output_type": "display_data",
          "data": {
            "image/png": "[encoded data removed]",
            "text/plain": [
              "<Figure size 432x288 with 1 Axes>"
            ]
          },
          "metadata": {
            "tags": [
              "id18-0-0",
              "outputarea_id18",
              "user_output"
            ]
          }
        },
        {
          "output_type": "display_data",
          "data": {
            "application/javascript": [
              "window[\"5855359e-8bf8-11e9-92a5-0242ac1c0002\"] = google.colab.output.setActiveOutputArea(window[\"5839e1d6-8bf8-11e9-92a5-0242ac1c0002\"]);\n",
              "//# sourceURL=js_328ae2f5ca"
            ],
            "text/plain": [
              "<IPython.core.display.Javascript object>"
            ]
          },
          "metadata": {
            "tags": [
              "id18-0-0",
              "outputarea_id18"
            ]
          }
        },
        {
          "output_type": "stream",
          "text": [
            "[[0.  0.  0.  0. ]\n",
            " [0.  0.2 0.  0.2]\n",
            " [0.  0.  0.  0.2]\n",
            " [0.  0.  0.  1. ]]\n",
            "Episode No: 3001\n"
          ],
          "name": "stdout"
        },
        {
          "output_type": "display_data",
          "data": {
            "text/html": [
              "<style>\n",
              "       table#id20, #id20 > tbody > tr > th, #id20 > tbody > tr > td {\n",
              "         border: 1px solid lightgray;\n",
              "         border-collapse:collapse;\n",
              "         \n",
              "        }</style>"
            ],
            "text/plain": [
              "<IPython.core.display.HTML object>"
            ]
          },
          "metadata": {
            "tags": [
              "outputarea_id20"
            ]
          }
        },
        {
          "output_type": "display_data",
          "data": {
            "text/html": [
              "<table id=id20><tr><td id=id20-0-0></td></tr></table>"
            ],
            "text/plain": [
              "<IPython.core.display.HTML object>"
            ]
          },
          "metadata": {
            "tags": [
              "outputarea_id20"
            ]
          }
        },
        {
          "output_type": "display_data",
          "data": {
            "application/javascript": [
              "window[\"5884f838-8bf8-11e9-92a5-0242ac1c0002\"] = google.colab.output.getActiveOutputArea();\n",
              "//# sourceURL=js_bdf4ea8700"
            ],
            "text/plain": [
              "<IPython.core.display.Javascript object>"
            ]
          },
          "metadata": {
            "tags": [
              "id20-0-0",
              "outputarea_id20"
            ]
          }
        },
        {
          "output_type": "display_data",
          "data": {
            "application/javascript": [
              "window[\"58854586-8bf8-11e9-92a5-0242ac1c0002\"] = document.querySelector(\"#id20-0-0\");\n",
              "//# sourceURL=js_c1a758a0ac"
            ],
            "text/plain": [
              "<IPython.core.display.Javascript object>"
            ]
          },
          "metadata": {
            "tags": [
              "id20-0-0",
              "outputarea_id20"
            ]
          }
        },
        {
          "output_type": "display_data",
          "data": {
            "application/javascript": [
              "window[\"58859356-8bf8-11e9-92a5-0242ac1c0002\"] = google.colab.output.setActiveOutputArea(window[\"58854586-8bf8-11e9-92a5-0242ac1c0002\"]);\n",
              "//# sourceURL=js_f15d4c28c5"
            ],
            "text/plain": [
              "<IPython.core.display.Javascript object>"
            ]
          },
          "metadata": {
            "tags": [
              "id20-0-0",
              "outputarea_id20"
            ]
          }
        },
        {
          "output_type": "display_data",
          "data": {
            "image/png": "[encoded data removed]",
            "text/plain": [
              "<Figure size 432x288 with 1 Axes>"
            ]
          },
          "metadata": {
            "tags": [
              "id20-0-0",
              "outputarea_id20",
              "user_output"
            ]
          }
        },
        {
          "output_type": "display_data",
          "data": {
            "application/javascript": [
              "window[\"589f4dd2-8bf8-11e9-92a5-0242ac1c0002\"] = google.colab.output.setActiveOutputArea(window[\"5884f838-8bf8-11e9-92a5-0242ac1c0002\"]);\n",
              "//# sourceURL=js_b59aa96a04"
            ],
            "text/plain": [
              "<IPython.core.display.Javascript object>"
            ]
          },
          "metadata": {
            "tags": [
              "id20-0-0",
              "outputarea_id20"
            ]
          }
        },
        {
          "output_type": "stream",
          "text": [
            "[[0.  0.  0.  0. ]\n",
            " [0.  0.2 0.  0.2]\n",
            " [0.  0.  0.  0.2]\n",
            " [0.  0.  0.  1. ]]\n",
            "Episode No: 3501\n"
          ],
          "name": "stdout"
        },
        {
          "output_type": "display_data",
          "data": {
            "text/html": [
              "<style>\n",
              "       table#id22, #id22 > tbody > tr > th, #id22 > tbody > tr > td {\n",
              "         border: 1px solid lightgray;\n",
              "         border-collapse:collapse;\n",
              "         \n",
              "        }</style>"
            ],
            "text/plain": [
              "<IPython.core.display.HTML object>"
            ]
          },
          "metadata": {
            "tags": [
              "outputarea_id22"
            ]
          }
        },
        {
          "output_type": "display_data",
          "data": {
            "text/html": [
              "<table id=id22><tr><td id=id22-0-0></td></tr></table>"
            ],
            "text/plain": [
              "<IPython.core.display.HTML object>"
            ]
          },
          "metadata": {
            "tags": [
              "outputarea_id22"
            ]
          }
        },
        {
          "output_type": "display_data",
          "data": {
            "application/javascript": [
              "window[\"58d029c0-8bf8-11e9-92a5-0242ac1c0002\"] = google.colab.output.getActiveOutputArea();\n",
              "//# sourceURL=js_0c69101016"
            ],
            "text/plain": [
              "<IPython.core.display.Javascript object>"
            ]
          },
          "metadata": {
            "tags": [
              "id22-0-0",
              "outputarea_id22"
            ]
          }
        },
        {
          "output_type": "display_data",
          "data": {
            "application/javascript": [
              "window[\"58d074ca-8bf8-11e9-92a5-0242ac1c0002\"] = document.querySelector(\"#id22-0-0\");\n",
              "//# sourceURL=js_ca1de2c9c3"
            ],
            "text/plain": [
              "<IPython.core.display.Javascript object>"
            ]
          },
          "metadata": {
            "tags": [
              "id22-0-0",
              "outputarea_id22"
            ]
          }
        },
        {
          "output_type": "display_data",
          "data": {
            "application/javascript": [
              "window[\"58d0b106-8bf8-11e9-92a5-0242ac1c0002\"] = google.colab.output.setActiveOutputArea(window[\"58d074ca-8bf8-11e9-92a5-0242ac1c0002\"]);\n",
              "//# sourceURL=js_6069eec881"
            ],
            "text/plain": [
              "<IPython.core.display.Javascript object>"
            ]
          },
          "metadata": {
            "tags": [
              "id22-0-0",
              "outputarea_id22"
            ]
          }
        },
        {
          "output_type": "display_data",
          "data": {
            "image/png": "[encoded data removed]",
            "text/plain": [
              "<Figure size 432x288 with 1 Axes>"
            ]
          },
          "metadata": {
            "tags": [
              "id22-0-0",
              "outputarea_id22",
              "user_output"
            ]
          }
        },
        {
          "output_type": "display_data",
          "data": {
            "application/javascript": [
              "window[\"58f534c2-8bf8-11e9-92a5-0242ac1c0002\"] = google.colab.output.setActiveOutputArea(window[\"58d029c0-8bf8-11e9-92a5-0242ac1c0002\"]);\n",
              "//# sourceURL=js_a20bd50536"
            ],
            "text/plain": [
              "<IPython.core.display.Javascript object>"
            ]
          },
          "metadata": {
            "tags": [
              "id22-0-0",
              "outputarea_id22"
            ]
          }
        },
        {
          "output_type": "stream",
          "text": [
            "[[0.  0.  0.  0. ]\n",
            " [0.  0.2 0.  0.2]\n",
            " [0.  0.  0.  0.2]\n",
            " [0.  0.  0.  1. ]]\n",
            "Episode No: 4001\n"
          ],
          "name": "stdout"
        },
        {
          "output_type": "display_data",
          "data": {
            "text/html": [
              "<style>\n",
              "       table#id24, #id24 > tbody > tr > th, #id24 > tbody > tr > td {\n",
              "         border: 1px solid lightgray;\n",
              "         border-collapse:collapse;\n",
              "         \n",
              "        }</style>"
            ],
            "text/plain": [
              "<IPython.core.display.HTML object>"
            ]
          },
          "metadata": {
            "tags": [
              "outputarea_id24"
            ]
          }
        },
        {
          "output_type": "display_data",
          "data": {
            "text/html": [
              "<table id=id24><tr><td id=id24-0-0></td></tr></table>"
            ],
            "text/plain": [
              "<IPython.core.display.HTML object>"
            ]
          },
          "metadata": {
            "tags": [
              "outputarea_id24"
            ]
          }
        },
        {
          "output_type": "display_data",
          "data": {
            "application/javascript": [
              "window[\"5927b5d2-8bf8-11e9-92a5-0242ac1c0002\"] = google.colab.output.getActiveOutputArea();\n",
              "//# sourceURL=js_528826fb50"
            ],
            "text/plain": [
              "<IPython.core.display.Javascript object>"
            ]
          },
          "metadata": {
            "tags": [
              "id24-0-0",
              "outputarea_id24"
            ]
          }
        },
        {
          "output_type": "display_data",
          "data": {
            "application/javascript": [
              "window[\"5927fc22-8bf8-11e9-92a5-0242ac1c0002\"] = document.querySelector(\"#id24-0-0\");\n",
              "//# sourceURL=js_2160cb91c8"
            ],
            "text/plain": [
              "<IPython.core.display.Javascript object>"
            ]
          },
          "metadata": {
            "tags": [
              "id24-0-0",
              "outputarea_id24"
            ]
          }
        },
        {
          "output_type": "display_data",
          "data": {
            "application/javascript": [
              "window[\"59284308-8bf8-11e9-92a5-0242ac1c0002\"] = google.colab.output.setActiveOutputArea(window[\"5927fc22-8bf8-11e9-92a5-0242ac1c0002\"]);\n",
              "//# sourceURL=js_23ce143f01"
            ],
            "text/plain": [
              "<IPython.core.display.Javascript object>"
            ]
          },
          "metadata": {
            "tags": [
              "id24-0-0",
              "outputarea_id24"
            ]
          }
        },
        {
          "output_type": "display_data",
          "data": {
            "image/png": "[encoded data removed]",
            "text/plain": [
              "<Figure size 432x288 with 1 Axes>"
            ]
          },
          "metadata": {
            "tags": [
              "id24-0-0",
              "outputarea_id24",
              "user_output"
            ]
          }
        },
        {
          "output_type": "display_data",
          "data": {
            "application/javascript": [
              "window[\"5942a720-8bf8-11e9-92a5-0242ac1c0002\"] = google.colab.output.setActiveOutputArea(window[\"5927b5d2-8bf8-11e9-92a5-0242ac1c0002\"]);\n",
              "//# sourceURL=js_76e6da7689"
            ],
            "text/plain": [
              "<IPython.core.display.Javascript object>"
            ]
          },
          "metadata": {
            "tags": [
              "id24-0-0",
              "outputarea_id24"
            ]
          }
        },
        {
          "output_type": "stream",
          "text": [
            "[[0.  0.  0.  0. ]\n",
            " [0.  0.2 0.  0.2]\n",
            " [0.  0.  0.  0.2]\n",
            " [0.  0.  0.  1. ]]\n",
            "Episode No: 4501\n"
          ],
          "name": "stdout"
        },
        {
          "output_type": "display_data",
          "data": {
            "text/html": [
              "<style>\n",
              "       table#id26, #id26 > tbody > tr > th, #id26 > tbody > tr > td {\n",
              "         border: 1px solid lightgray;\n",
              "         border-collapse:collapse;\n",
              "         \n",
              "        }</style>"
            ],
            "text/plain": [
              "<IPython.core.display.HTML object>"
            ]
          },
          "metadata": {
            "tags": [
              "outputarea_id26"
            ]
          }
        },
        {
          "output_type": "display_data",
          "data": {
            "text/html": [
              "<table id=id26><tr><td id=id26-0-0></td></tr></table>"
            ],
            "text/plain": [
              "<IPython.core.display.HTML object>"
            ]
          },
          "metadata": {
            "tags": [
              "outputarea_id26"
            ]
          }
        },
        {
          "output_type": "display_data",
          "data": {
            "application/javascript": [
              "window[\"597315c2-8bf8-11e9-92a5-0242ac1c0002\"] = google.colab.output.getActiveOutputArea();\n",
              "//# sourceURL=js_222e0405a8"
            ],
            "text/plain": [
              "<IPython.core.display.Javascript object>"
            ]
          },
          "metadata": {
            "tags": [
              "id26-0-0",
              "outputarea_id26"
            ]
          }
        },
        {
          "output_type": "display_data",
          "data": {
            "application/javascript": [
              "window[\"59736a54-8bf8-11e9-92a5-0242ac1c0002\"] = document.querySelector(\"#id26-0-0\");\n",
              "//# sourceURL=js_6f898ed758"
            ],
            "text/plain": [
              "<IPython.core.display.Javascript object>"
            ]
          },
          "metadata": {
            "tags": [
              "id26-0-0",
              "outputarea_id26"
            ]
          }
        },
        {
          "output_type": "display_data",
          "data": {
            "application/javascript": [
              "window[\"5973acee-8bf8-11e9-92a5-0242ac1c0002\"] = google.colab.output.setActiveOutputArea(window[\"59736a54-8bf8-11e9-92a5-0242ac1c0002\"]);\n",
              "//# sourceURL=js_141229cf7b"
            ],
            "text/plain": [
              "<IPython.core.display.Javascript object>"
            ]
          },
          "metadata": {
            "tags": [
              "id26-0-0",
              "outputarea_id26"
            ]
          }
        },
        {
          "output_type": "display_data",
          "data": {
            "image/png": "[encoded data removed]",
            "text/plain": [
              "<Figure size 432x288 with 1 Axes>"
            ]
          },
          "metadata": {
            "tags": [
              "id26-0-0",
              "outputarea_id26",
              "user_output"
            ]
          }
        },
        {
          "output_type": "display_data",
          "data": {
            "application/javascript": [
              "window[\"598c6dd8-8bf8-11e9-92a5-0242ac1c0002\"] = google.colab.output.setActiveOutputArea(window[\"597315c2-8bf8-11e9-92a5-0242ac1c0002\"]);\n",
              "//# sourceURL=js_630a2a657d"
            ],
            "text/plain": [
              "<IPython.core.display.Javascript object>"
            ]
          },
          "metadata": {
            "tags": [
              "id26-0-0",
              "outputarea_id26"
            ]
          }
        },
        {
          "output_type": "stream",
          "text": [
            "[[0.  0.  0.  0. ]\n",
            " [0.  0.2 0.  0.2]\n",
            " [0.  0.  0.  0.2]\n",
            " [0.  0.  0.  1. ]]\n"
          ],
          "name": "stdout"
        }
      ]
    },
    {
      "cell_type": "markdown",
      "metadata": {
        "colab_type": "text",
        "id": "dhsbCZBUTKvT"
      },
      "source": [
        "**Rewards Graph**\n",
        "\n",
        "Graph shows the rewards obtained for each episode.The graph below shows the maximum cumulative reward, which is pretty high for all 10000 episodes as the agent trains itself within the first 1000 episodes"
      ]
    },
    {
      "cell_type": "code",
      "metadata": {
        "colab_type": "code",
        "id": "bXeGxyhjzn-z",
        "outputId": "ed71de10-3860-423a-88ff-df65fc3697e9",
        "colab": {
          "base_uri": "https://localhost:8080/",
          "height": 286
        }
      },
      "source": [
        "plt.plot(rewards)"
      ],
      "execution_count": 13,
      "outputs": [
        {
          "output_type": "execute_result",
          "data": {
            "text/plain": [
              "[<matplotlib.lines.Line2D at 0x7f83122a5940>]"
            ]
          },
          "metadata": {
            "tags": []
          },
          "execution_count": 13
        },
        {
          "output_type": "display_data",
          "data": {
            "image/png": "[encoded data removed]",
            "text/plain": [
              "<Figure size 432x288 with 1 Axes>"
            ]
          },
          "metadata": {
            "tags": []
          }
        }
      ]
    },
    {
      "cell_type": "markdown",
      "metadata": {
        "colab_type": "text",
        "id": "XTL9pMVXUc0V"
      },
      "source": [
        "**Graph for Rolling mean of rewards**"
      ]
    },
    {
      "cell_type": "code",
      "metadata": {
        "colab_type": "code",
        "id": "iYRIQ5SkzuDO",
        "outputId": "dbfe583a-cf39-451e-e2c3-f2f57cd5e1f2",
        "colab": {
          "base_uri": "https://localhost:8080/",
          "height": 286
        }
      },
      "source": [
        "df = pd.DataFrame(rewards, columns=['r'])\n",
        "mean_roll = df['r'].rolling(window=25).mean()\n",
        "plt.plot(mean_roll)"
      ],
      "execution_count": 14,
      "outputs": [
        {
          "output_type": "execute_result",
          "data": {
            "text/plain": [
              "[<matplotlib.lines.Line2D at 0x7f830f9d54a8>]"
            ]
          },
          "metadata": {
            "tags": []
          },
          "execution_count": 14
        },
        {
          "output_type": "display_data",
          "data": {
            "image/png": "[encoded data removed]",
            "text/plain": [
              "<Figure size 432x288 with 1 Axes>"
            ]
          },
          "metadata": {
            "tags": []
          }
        }
      ]
    },
    {
      "cell_type": "markdown",
      "metadata": {
        "colab_type": "text",
        "id": "dL9ae4-8Ulna"
      },
      "source": [
        "**The Epsilon graph** initially has its value higher since we want to explore the environment and hence we take random actions but gradually the trend decreases as we start exploiting the information we have obtained in the q table."
      ]
    },
    {
      "cell_type": "code",
      "metadata": {
        "colab_type": "code",
        "id": "HvfA8htXzyRT",
        "outputId": "17d84a25-f392-4ec1-aef6-c53a66838259",
        "colab": {
          "base_uri": "https://localhost:8080/",
          "height": 286
        }
      },
      "source": [
        "plt.plot(epsilons)"
      ],
      "execution_count": 15,
      "outputs": [
        {
          "output_type": "execute_result",
          "data": {
            "text/plain": [
              "[<matplotlib.lines.Line2D at 0x7f830f69b400>]"
            ]
          },
          "metadata": {
            "tags": []
          },
          "execution_count": 15
        },
        {
          "output_type": "display_data",
          "data": {
            "image/png": "[encoded data removed]",
            "text/plain": [
              "<Figure size 432x288 with 1 Axes>"
            ]
          },
          "metadata": {
            "tags": []
          }
        }
      ]
    },
    {
      "cell_type": "markdown",
      "metadata": {
        "colab_type": "text",
        "id": "P8ghtcORVBSz"
      },
      "source": [
        "### The Q table "
      ]
    },
    {
      "cell_type": "code",
      "metadata": {
        "colab_type": "code",
        "id": "hrJ1C4gvz4m6",
        "outputId": "ab5706b5-7454-4a75-b4e4-2b05233b8057",
        "colab": {
          "base_uri": "https://localhost:8080/",
          "height": 545
        }
      },
      "source": [
        "q_df = pd.DataFrame(q_agent.q_table, columns=['right', 'left', 'up' ,'down'])\n",
        "q_df"
      ],
      "execution_count": 16,
      "outputs": [
        {
          "output_type": "execute_result",
          "data": {
            "text/html": [
              "<div>\n",
              "<style scoped>\n",
              "    .dataframe tbody tr th:only-of-type {\n",
              "        vertical-align: middle;\n",
              "    }\n",
              "\n",
              "    .dataframe tbody tr th {\n",
              "        vertical-align: top;\n",
              "    }\n",
              "\n",
              "    .dataframe thead th {\n",
              "        text-align: right;\n",
              "    }\n",
              "</style>\n",
              "<table border=\"1\" class=\"dataframe\">\n",
              "  <thead>\n",
              "    <tr style=\"text-align: right;\">\n",
              "      <th></th>\n",
              "      <th>right</th>\n",
              "      <th>left</th>\n",
              "      <th>up</th>\n",
              "      <th>down</th>\n",
              "    </tr>\n",
              "  </thead>\n",
              "  <tbody>\n",
              "    <tr>\n",
              "      <th>0</th>\n",
              "      <td>104.615683</td>\n",
              "      <td>99.431055</td>\n",
              "      <td>100.453813</td>\n",
              "      <td>99.431055</td>\n",
              "    </tr>\n",
              "    <tr>\n",
              "      <th>1</th>\n",
              "      <td>-100.000000</td>\n",
              "      <td>93.584361</td>\n",
              "      <td>94.262337</td>\n",
              "      <td>99.431055</td>\n",
              "    </tr>\n",
              "    <tr>\n",
              "      <th>2</th>\n",
              "      <td>50.645252</td>\n",
              "      <td>79.771318</td>\n",
              "      <td>78.991952</td>\n",
              "      <td>93.665561</td>\n",
              "    </tr>\n",
              "    <tr>\n",
              "      <th>3</th>\n",
              "      <td>-99.750000</td>\n",
              "      <td>-0.997500</td>\n",
              "      <td>-0.950000</td>\n",
              "      <td>80.436353</td>\n",
              "    </tr>\n",
              "    <tr>\n",
              "      <th>4</th>\n",
              "      <td>103.766336</td>\n",
              "      <td>99.431055</td>\n",
              "      <td>-100.000000</td>\n",
              "      <td>98.615683</td>\n",
              "    </tr>\n",
              "    <tr>\n",
              "      <th>5</th>\n",
              "      <td>0.000000</td>\n",
              "      <td>0.000000</td>\n",
              "      <td>0.000000</td>\n",
              "      <td>0.000000</td>\n",
              "    </tr>\n",
              "    <tr>\n",
              "      <th>6</th>\n",
              "      <td>101.831565</td>\n",
              "      <td>33.693462</td>\n",
              "      <td>-99.750000</td>\n",
              "      <td>-99.750000</td>\n",
              "    </tr>\n",
              "    <tr>\n",
              "      <th>7</th>\n",
              "      <td>0.000000</td>\n",
              "      <td>0.000000</td>\n",
              "      <td>0.000000</td>\n",
              "      <td>0.000000</td>\n",
              "    </tr>\n",
              "    <tr>\n",
              "      <th>8</th>\n",
              "      <td>102.881600</td>\n",
              "      <td>98.615683</td>\n",
              "      <td>102.881600</td>\n",
              "      <td>97.766336</td>\n",
              "    </tr>\n",
              "    <tr>\n",
              "      <th>9</th>\n",
              "      <td>101.960000</td>\n",
              "      <td>-100.000000</td>\n",
              "      <td>101.959657</td>\n",
              "      <td>96.559078</td>\n",
              "    </tr>\n",
              "    <tr>\n",
              "      <th>10</th>\n",
              "      <td>101.000000</td>\n",
              "      <td>92.071634</td>\n",
              "      <td>-99.999998</td>\n",
              "      <td>96.757451</td>\n",
              "    </tr>\n",
              "    <tr>\n",
              "      <th>11</th>\n",
              "      <td>0.000000</td>\n",
              "      <td>0.000000</td>\n",
              "      <td>0.000000</td>\n",
              "      <td>0.000000</td>\n",
              "    </tr>\n",
              "    <tr>\n",
              "      <th>12</th>\n",
              "      <td>96.881600</td>\n",
              "      <td>97.766336</td>\n",
              "      <td>101.960000</td>\n",
              "      <td>96.881600</td>\n",
              "    </tr>\n",
              "    <tr>\n",
              "      <th>13</th>\n",
              "      <td>95.960000</td>\n",
              "      <td>96.881600</td>\n",
              "      <td>101.000000</td>\n",
              "      <td>96.881600</td>\n",
              "    </tr>\n",
              "    <tr>\n",
              "      <th>14</th>\n",
              "      <td>95.000000</td>\n",
              "      <td>95.960000</td>\n",
              "      <td>100.000000</td>\n",
              "      <td>95.960000</td>\n",
              "    </tr>\n",
              "    <tr>\n",
              "      <th>15</th>\n",
              "      <td>0.000000</td>\n",
              "      <td>0.000000</td>\n",
              "      <td>0.000000</td>\n",
              "      <td>0.000000</td>\n",
              "    </tr>\n",
              "  </tbody>\n",
              "</table>\n",
              "</div>"
            ],
            "text/plain": [
              "         right        left          up       down\n",
              "0   104.615683   99.431055  100.453813  99.431055\n",
              "1  -100.000000   93.584361   94.262337  99.431055\n",
              "2    50.645252   79.771318   78.991952  93.665561\n",
              "3   -99.750000   -0.997500   -0.950000  80.436353\n",
              "4   103.766336   99.431055 -100.000000  98.615683\n",
              "5     0.000000    0.000000    0.000000   0.000000\n",
              "6   101.831565   33.693462  -99.750000 -99.750000\n",
              "7     0.000000    0.000000    0.000000   0.000000\n",
              "8   102.881600   98.615683  102.881600  97.766336\n",
              "9   101.960000 -100.000000  101.959657  96.559078\n",
              "10  101.000000   92.071634  -99.999998  96.757451\n",
              "11    0.000000    0.000000    0.000000   0.000000\n",
              "12   96.881600   97.766336  101.960000  96.881600\n",
              "13   95.960000   96.881600  101.000000  96.881600\n",
              "14   95.000000   95.960000  100.000000  95.960000\n",
              "15    0.000000    0.000000    0.000000   0.000000"
            ]
          },
          "metadata": {
            "tags": []
          },
          "execution_count": 16
        }
      ]
    },
    {
      "cell_type": "markdown",
      "metadata": {
        "colab_type": "text",
        "id": "cyjFn9B0VYfG"
      },
      "source": [
        "Animation showing 2 episodes among all 10000 episodes that exhibit maximum learning curve"
      ]
    },
    {
      "cell_type": "code",
      "metadata": {
        "colab_type": "code",
        "id": "QyOUgQIu0VwM",
        "outputId": "cb088d66-0d15-48fe-f0e5-327d9c117d9f",
        "colab": {
          "base_uri": "https://localhost:8080/",
          "height": 801
        }
      },
      "source": [
        "for episode in range(2):\n",
        "  state = env.reset()\n",
        "  total_reward = 0\n",
        "  done = False\n",
        "  print(\"EPISODE:\",episode+1)\n",
        "  nsteps = 0\n",
        "  output_grid = widgets.Grid(1, 1)\n",
        "  while not done:\n",
        "    action = q_agent.step(state, tradeoff, epsilon)\n",
        "    new_state, reward, done, info = q_agent.env.step(action)\n",
        "    \n",
        "    state = new_state\n",
        "    nsteps+=1\n",
        "    print(\"Probabilities and Possible positions for step \"+str(nsteps)+\":\",info)\n",
        "    with output_grid.output_to(0, 0):\n",
        "      output_grid.clear_cell()\n",
        "      env.render()\n",
        "    time.sleep(1)\n",
        "  print(\"No of steps taken:\",nsteps)\n",
        "  \n",
        "  with output_grid.output_to(0, 0):\n",
        "    output_grid.clear_cell()\n",
        "    env.render()\n",
        "  time.sleep(1)"
      ],
      "execution_count": 17,
      "outputs": [
        {
          "output_type": "stream",
          "text": [
            "EPISODE: 1\n"
          ],
          "name": "stdout"
        },
        {
          "output_type": "display_data",
          "data": {
            "text/html": [
              "<style>\n",
              "       table#id28, #id28 > tbody > tr > th, #id28 > tbody > tr > td {\n",
              "         border: 1px solid lightgray;\n",
              "         border-collapse:collapse;\n",
              "         \n",
              "        }</style>"
            ],
            "text/plain": [
              "<IPython.core.display.HTML object>"
            ]
          },
          "metadata": {
            "tags": [
              "outputarea_id28"
            ]
          }
        },
        {
          "output_type": "display_data",
          "data": {
            "text/html": [
              "<table id=id28><tr><td id=id28-0-0></td></tr></table>"
            ],
            "text/plain": [
              "<IPython.core.display.HTML object>"
            ]
          },
          "metadata": {
            "tags": [
              "outputarea_id28"
            ]
          }
        },
        {
          "output_type": "stream",
          "text": [
            "Probabilities and Possible positions for step 1: [(1.0, [1, 0])]\n"
          ],
          "name": "stdout"
        },
        {
          "output_type": "display_data",
          "data": {
            "application/javascript": [
              "window[\"95e5d670-8bf8-11e9-92a5-0242ac1c0002\"] = google.colab.output.getActiveOutputArea();\n",
              "//# sourceURL=js_c58f127972"
            ],
            "text/plain": [
              "<IPython.core.display.Javascript object>"
            ]
          },
          "metadata": {
            "tags": [
              "id28-0-0",
              "outputarea_id28"
            ]
          }
        },
        {
          "output_type": "display_data",
          "data": {
            "application/javascript": [
              "window[\"95e63c1e-8bf8-11e9-92a5-0242ac1c0002\"] = document.querySelector(\"#id28-0-0\");\n",
              "//# sourceURL=js_ffab24f9fd"
            ],
            "text/plain": [
              "<IPython.core.display.Javascript object>"
            ]
          },
          "metadata": {
            "tags": [
              "id28-0-0",
              "outputarea_id28"
            ]
          }
        },
        {
          "output_type": "display_data",
          "data": {
            "application/javascript": [
              "window[\"95e69966-8bf8-11e9-92a5-0242ac1c0002\"] = google.colab.output.setActiveOutputArea(window[\"95e63c1e-8bf8-11e9-92a5-0242ac1c0002\"]);\n",
              "//# sourceURL=js_b26e80234f"
            ],
            "text/plain": [
              "<IPython.core.display.Javascript object>"
            ]
          },
          "metadata": {
            "tags": [
              "id28-0-0",
              "outputarea_id28"
            ]
          }
        },
        {
          "output_type": "display_data",
          "data": {
            "application/javascript": [
              "window[\"95fe818e-8bf8-11e9-92a5-0242ac1c0002\"] = google.colab.output.setActiveOutputArea(window[\"95e5d670-8bf8-11e9-92a5-0242ac1c0002\"]);\n",
              "//# sourceURL=js_276105172c"
            ],
            "text/plain": [
              "<IPython.core.display.Javascript object>"
            ]
          },
          "metadata": {
            "tags": [
              "id28-0-0",
              "outputarea_id28"
            ]
          }
        },
        {
          "output_type": "stream",
          "text": [
            "Probabilities and Possible positions for step 2: [(1.0, [2, 0])]\n"
          ],
          "name": "stdout"
        },
        {
          "output_type": "display_data",
          "data": {
            "application/javascript": [
              "window[\"96992d9c-8bf8-11e9-92a5-0242ac1c0002\"] = google.colab.output.getActiveOutputArea();\n",
              "//# sourceURL=js_6cf1783c6e"
            ],
            "text/plain": [
              "<IPython.core.display.Javascript object>"
            ]
          },
          "metadata": {
            "tags": [
              "id28-0-0",
              "outputarea_id28"
            ]
          }
        },
        {
          "output_type": "display_data",
          "data": {
            "application/javascript": [
              "window[\"96999f70-8bf8-11e9-92a5-0242ac1c0002\"] = document.querySelector(\"#id28-0-0\");\n",
              "//# sourceURL=js_eaa764238c"
            ],
            "text/plain": [
              "<IPython.core.display.Javascript object>"
            ]
          },
          "metadata": {
            "tags": [
              "id28-0-0",
              "outputarea_id28"
            ]
          }
        },
        {
          "output_type": "display_data",
          "data": {
            "application/javascript": [
              "window[\"969a1b3a-8bf8-11e9-92a5-0242ac1c0002\"] = google.colab.output.setActiveOutputArea(window[\"96999f70-8bf8-11e9-92a5-0242ac1c0002\"]);\n",
              "//# sourceURL=js_7fcc3c46d9"
            ],
            "text/plain": [
              "<IPython.core.display.Javascript object>"
            ]
          },
          "metadata": {
            "tags": [
              "id28-0-0",
              "outputarea_id28"
            ]
          }
        },
        {
          "output_type": "display_data",
          "data": {
            "application/javascript": [
              "window[\"96b409fa-8bf8-11e9-92a5-0242ac1c0002\"] = google.colab.output.setActiveOutputArea(window[\"96992d9c-8bf8-11e9-92a5-0242ac1c0002\"]);\n",
              "//# sourceURL=js_37f3306230"
            ],
            "text/plain": [
              "<IPython.core.display.Javascript object>"
            ]
          },
          "metadata": {
            "tags": [
              "id28-0-0",
              "outputarea_id28"
            ]
          }
        },
        {
          "output_type": "stream",
          "text": [
            "Probabilities and Possible positions for step 3: [(1.0, [3, 0])]\n"
          ],
          "name": "stdout"
        },
        {
          "output_type": "display_data",
          "data": {
            "application/javascript": [
              "window[\"974ee1aa-8bf8-11e9-92a5-0242ac1c0002\"] = google.colab.output.getActiveOutputArea();\n",
              "//# sourceURL=js_ca7e42a61c"
            ],
            "text/plain": [
              "<IPython.core.display.Javascript object>"
            ]
          },
          "metadata": {
            "tags": [
              "id28-0-0",
              "outputarea_id28"
            ]
          }
        },
        {
          "output_type": "display_data",
          "data": {
            "application/javascript": [
              "window[\"974f50fe-8bf8-11e9-92a5-0242ac1c0002\"] = document.querySelector(\"#id28-0-0\");\n",
              "//# sourceURL=js_e9ef22308a"
            ],
            "text/plain": [
              "<IPython.core.display.Javascript object>"
            ]
          },
          "metadata": {
            "tags": [
              "id28-0-0",
              "outputarea_id28"
            ]
          }
        },
        {
          "output_type": "display_data",
          "data": {
            "application/javascript": [
              "window[\"974f868c-8bf8-11e9-92a5-0242ac1c0002\"] = google.colab.output.setActiveOutputArea(window[\"974f50fe-8bf8-11e9-92a5-0242ac1c0002\"]);\n",
              "//# sourceURL=js_c25b749313"
            ],
            "text/plain": [
              "<IPython.core.display.Javascript object>"
            ]
          },
          "metadata": {
            "tags": [
              "id28-0-0",
              "outputarea_id28"
            ]
          }
        },
        {
          "output_type": "display_data",
          "data": {
            "application/javascript": [
              "window[\"9769af4e-8bf8-11e9-92a5-0242ac1c0002\"] = google.colab.output.setActiveOutputArea(window[\"974ee1aa-8bf8-11e9-92a5-0242ac1c0002\"]);\n",
              "//# sourceURL=js_251d9eaa35"
            ],
            "text/plain": [
              "<IPython.core.display.Javascript object>"
            ]
          },
          "metadata": {
            "tags": [
              "id28-0-0",
              "outputarea_id28"
            ]
          }
        },
        {
          "output_type": "stream",
          "text": [
            "Probabilities and Possible positions for step 4: [(1.0, [3, 1])]\n"
          ],
          "name": "stdout"
        },
        {
          "output_type": "display_data",
          "data": {
            "application/javascript": [
              "window[\"9804463a-8bf8-11e9-92a5-0242ac1c0002\"] = google.colab.output.getActiveOutputArea();\n",
              "//# sourceURL=js_34c6b95cb0"
            ],
            "text/plain": [
              "<IPython.core.display.Javascript object>"
            ]
          },
          "metadata": {
            "tags": [
              "id28-0-0",
              "outputarea_id28"
            ]
          }
        },
        {
          "output_type": "display_data",
          "data": {
            "application/javascript": [
              "window[\"9804ba52-8bf8-11e9-92a5-0242ac1c0002\"] = document.querySelector(\"#id28-0-0\");\n",
              "//# sourceURL=js_31d715f40b"
            ],
            "text/plain": [
              "<IPython.core.display.Javascript object>"
            ]
          },
          "metadata": {
            "tags": [
              "id28-0-0",
              "outputarea_id28"
            ]
          }
        },
        {
          "output_type": "display_data",
          "data": {
            "application/javascript": [
              "window[\"98058068-8bf8-11e9-92a5-0242ac1c0002\"] = google.colab.output.setActiveOutputArea(window[\"9804ba52-8bf8-11e9-92a5-0242ac1c0002\"]);\n",
              "//# sourceURL=js_b03d4ab204"
            ],
            "text/plain": [
              "<IPython.core.display.Javascript object>"
            ]
          },
          "metadata": {
            "tags": [
              "id28-0-0",
              "outputarea_id28"
            ]
          }
        },
        {
          "output_type": "display_data",
          "data": {
            "application/javascript": [
              "window[\"982154fa-8bf8-11e9-92a5-0242ac1c0002\"] = google.colab.output.setActiveOutputArea(window[\"9804463a-8bf8-11e9-92a5-0242ac1c0002\"]);\n",
              "//# sourceURL=js_3786eaf7df"
            ],
            "text/plain": [
              "<IPython.core.display.Javascript object>"
            ]
          },
          "metadata": {
            "tags": [
              "id28-0-0",
              "outputarea_id28"
            ]
          }
        },
        {
          "output_type": "stream",
          "text": [
            "Probabilities and Possible positions for step 5: [(1.0, [3, 2])]\n"
          ],
          "name": "stdout"
        },
        {
          "output_type": "display_data",
          "data": {
            "application/javascript": [
              "window[\"98bd6c64-8bf8-11e9-92a5-0242ac1c0002\"] = google.colab.output.getActiveOutputArea();\n",
              "//# sourceURL=js_994f8b29ba"
            ],
            "text/plain": [
              "<IPython.core.display.Javascript object>"
            ]
          },
          "metadata": {
            "tags": [
              "id28-0-0",
              "outputarea_id28"
            ]
          }
        },
        {
          "output_type": "display_data",
          "data": {
            "application/javascript": [
              "window[\"98be4cd8-8bf8-11e9-92a5-0242ac1c0002\"] = document.querySelector(\"#id28-0-0\");\n",
              "//# sourceURL=js_5ead272b9c"
            ],
            "text/plain": [
              "<IPython.core.display.Javascript object>"
            ]
          },
          "metadata": {
            "tags": [
              "id28-0-0",
              "outputarea_id28"
            ]
          }
        },
        {
          "output_type": "display_data",
          "data": {
            "application/javascript": [
              "window[\"98bea926-8bf8-11e9-92a5-0242ac1c0002\"] = google.colab.output.setActiveOutputArea(window[\"98be4cd8-8bf8-11e9-92a5-0242ac1c0002\"]);\n",
              "//# sourceURL=js_ddea85abd1"
            ],
            "text/plain": [
              "<IPython.core.display.Javascript object>"
            ]
          },
          "metadata": {
            "tags": [
              "id28-0-0",
              "outputarea_id28"
            ]
          }
        },
        {
          "output_type": "display_data",
          "data": {
            "application/javascript": [
              "window[\"98d9812e-8bf8-11e9-92a5-0242ac1c0002\"] = google.colab.output.setActiveOutputArea(window[\"98bd6c64-8bf8-11e9-92a5-0242ac1c0002\"]);\n",
              "//# sourceURL=js_bf14cef33c"
            ],
            "text/plain": [
              "<IPython.core.display.Javascript object>"
            ]
          },
          "metadata": {
            "tags": [
              "id28-0-0",
              "outputarea_id28"
            ]
          }
        },
        {
          "output_type": "stream",
          "text": [
            "Probabilities and Possible positions for step 6: [(1.0, [3, 3])]\n"
          ],
          "name": "stdout"
        },
        {
          "output_type": "display_data",
          "data": {
            "application/javascript": [
              "window[\"997598fc-8bf8-11e9-92a5-0242ac1c0002\"] = google.colab.output.getActiveOutputArea();\n",
              "//# sourceURL=js_edf4803c78"
            ],
            "text/plain": [
              "<IPython.core.display.Javascript object>"
            ]
          },
          "metadata": {
            "tags": [
              "id28-0-0",
              "outputarea_id28"
            ]
          }
        },
        {
          "output_type": "display_data",
          "data": {
            "application/javascript": [
              "window[\"997619f8-8bf8-11e9-92a5-0242ac1c0002\"] = document.querySelector(\"#id28-0-0\");\n",
              "//# sourceURL=js_dc7fb1054f"
            ],
            "text/plain": [
              "<IPython.core.display.Javascript object>"
            ]
          },
          "metadata": {
            "tags": [
              "id28-0-0",
              "outputarea_id28"
            ]
          }
        },
        {
          "output_type": "display_data",
          "data": {
            "application/javascript": [
              "window[\"9976de06-8bf8-11e9-92a5-0242ac1c0002\"] = google.colab.output.setActiveOutputArea(window[\"997619f8-8bf8-11e9-92a5-0242ac1c0002\"]);\n",
              "//# sourceURL=js_fe1febb652"
            ],
            "text/plain": [
              "<IPython.core.display.Javascript object>"
            ]
          },
          "metadata": {
            "tags": [
              "id28-0-0",
              "outputarea_id28"
            ]
          }
        },
        {
          "output_type": "display_data",
          "data": {
            "application/javascript": [
              "window[\"99903248-8bf8-11e9-92a5-0242ac1c0002\"] = google.colab.output.setActiveOutputArea(window[\"997598fc-8bf8-11e9-92a5-0242ac1c0002\"]);\n",
              "//# sourceURL=js_91136afa47"
            ],
            "text/plain": [
              "<IPython.core.display.Javascript object>"
            ]
          },
          "metadata": {
            "tags": [
              "id28-0-0",
              "outputarea_id28"
            ]
          }
        },
        {
          "output_type": "stream",
          "text": [
            "No of steps taken: 6\n"
          ],
          "name": "stdout"
        },
        {
          "output_type": "display_data",
          "data": {
            "application/javascript": [
              "window[\"9a2a9b30-8bf8-11e9-92a5-0242ac1c0002\"] = google.colab.output.getActiveOutputArea();\n",
              "//# sourceURL=js_1011632926"
            ],
            "text/plain": [
              "<IPython.core.display.Javascript object>"
            ]
          },
          "metadata": {
            "tags": [
              "id28-0-0",
              "outputarea_id28"
            ]
          }
        },
        {
          "output_type": "display_data",
          "data": {
            "application/javascript": [
              "window[\"9a2aeacc-8bf8-11e9-92a5-0242ac1c0002\"] = document.querySelector(\"#id28-0-0\");\n",
              "//# sourceURL=js_429f611aa3"
            ],
            "text/plain": [
              "<IPython.core.display.Javascript object>"
            ]
          },
          "metadata": {
            "tags": [
              "id28-0-0",
              "outputarea_id28"
            ]
          }
        },
        {
          "output_type": "display_data",
          "data": {
            "application/javascript": [
              "window[\"9a2b2186-8bf8-11e9-92a5-0242ac1c0002\"] = google.colab.output.setActiveOutputArea(window[\"9a2aeacc-8bf8-11e9-92a5-0242ac1c0002\"]);\n",
              "//# sourceURL=js_83e41943af"
            ],
            "text/plain": [
              "<IPython.core.display.Javascript object>"
            ]
          },
          "metadata": {
            "tags": [
              "id28-0-0",
              "outputarea_id28"
            ]
          }
        },
        {
          "output_type": "display_data",
          "data": {
            "image/png": "[encoded data removed]",
            "text/plain": [
              "<Figure size 432x288 with 1 Axes>"
            ]
          },
          "metadata": {
            "tags": [
              "id28-0-0",
              "outputarea_id28",
              "user_output"
            ]
          }
        },
        {
          "output_type": "display_data",
          "data": {
            "application/javascript": [
              "window[\"9a45c9f0-8bf8-11e9-92a5-0242ac1c0002\"] = google.colab.output.setActiveOutputArea(window[\"9a2a9b30-8bf8-11e9-92a5-0242ac1c0002\"]);\n",
              "//# sourceURL=js_78a4df0285"
            ],
            "text/plain": [
              "<IPython.core.display.Javascript object>"
            ]
          },
          "metadata": {
            "tags": [
              "id28-0-0",
              "outputarea_id28"
            ]
          }
        },
        {
          "output_type": "stream",
          "text": [
            "EPISODE: 2\n"
          ],
          "name": "stdout"
        },
        {
          "output_type": "display_data",
          "data": {
            "text/html": [
              "<style>\n",
              "       table#id30, #id30 > tbody > tr > th, #id30 > tbody > tr > td {\n",
              "         border: 1px solid lightgray;\n",
              "         border-collapse:collapse;\n",
              "         \n",
              "        }</style>"
            ],
            "text/plain": [
              "<IPython.core.display.HTML object>"
            ]
          },
          "metadata": {
            "tags": [
              "outputarea_id30"
            ]
          }
        },
        {
          "output_type": "display_data",
          "data": {
            "text/html": [
              "<table id=id30><tr><td id=id30-0-0></td></tr></table>"
            ],
            "text/plain": [
              "<IPython.core.display.HTML object>"
            ]
          },
          "metadata": {
            "tags": [
              "outputarea_id30"
            ]
          }
        },
        {
          "output_type": "stream",
          "text": [
            "Probabilities and Possible positions for step 1: [(1.0, [1, 0])]\n"
          ],
          "name": "stdout"
        },
        {
          "output_type": "display_data",
          "data": {
            "application/javascript": [
              "window[\"9ae27688-8bf8-11e9-92a5-0242ac1c0002\"] = google.colab.output.getActiveOutputArea();\n",
              "//# sourceURL=js_8dae63f997"
            ],
            "text/plain": [
              "<IPython.core.display.Javascript object>"
            ]
          },
          "metadata": {
            "tags": [
              "id30-0-0",
              "outputarea_id30"
            ]
          }
        },
        {
          "output_type": "display_data",
          "data": {
            "application/javascript": [
              "window[\"9ae2b21a-8bf8-11e9-92a5-0242ac1c0002\"] = document.querySelector(\"#id30-0-0\");\n",
              "//# sourceURL=js_e778a5ba8f"
            ],
            "text/plain": [
              "<IPython.core.display.Javascript object>"
            ]
          },
          "metadata": {
            "tags": [
              "id30-0-0",
              "outputarea_id30"
            ]
          }
        },
        {
          "output_type": "display_data",
          "data": {
            "application/javascript": [
              "window[\"9ae2ebcc-8bf8-11e9-92a5-0242ac1c0002\"] = google.colab.output.setActiveOutputArea(window[\"9ae2b21a-8bf8-11e9-92a5-0242ac1c0002\"]);\n",
              "//# sourceURL=js_32cdb29737"
            ],
            "text/plain": [
              "<IPython.core.display.Javascript object>"
            ]
          },
          "metadata": {
            "tags": [
              "id30-0-0",
              "outputarea_id30"
            ]
          }
        },
        {
          "output_type": "display_data",
          "data": {
            "application/javascript": [
              "window[\"9afbae64-8bf8-11e9-92a5-0242ac1c0002\"] = google.colab.output.setActiveOutputArea(window[\"9ae27688-8bf8-11e9-92a5-0242ac1c0002\"]);\n",
              "//# sourceURL=js_6f616bd7f6"
            ],
            "text/plain": [
              "<IPython.core.display.Javascript object>"
            ]
          },
          "metadata": {
            "tags": [
              "id30-0-0",
              "outputarea_id30"
            ]
          }
        },
        {
          "output_type": "stream",
          "text": [
            "Probabilities and Possible positions for step 2: [(1.0, [2, 0])]\n"
          ],
          "name": "stdout"
        },
        {
          "output_type": "display_data",
          "data": {
            "application/javascript": [
              "window[\"9b964d0c-8bf8-11e9-92a5-0242ac1c0002\"] = google.colab.output.getActiveOutputArea();\n",
              "//# sourceURL=js_f2db6b312e"
            ],
            "text/plain": [
              "<IPython.core.display.Javascript object>"
            ]
          },
          "metadata": {
            "tags": [
              "id30-0-0",
              "outputarea_id30"
            ]
          }
        },
        {
          "output_type": "display_data",
          "data": {
            "application/javascript": [
              "window[\"9b969d0c-8bf8-11e9-92a5-0242ac1c0002\"] = document.querySelector(\"#id30-0-0\");\n",
              "//# sourceURL=js_ad5935b55a"
            ],
            "text/plain": [
              "<IPython.core.display.Javascript object>"
            ]
          },
          "metadata": {
            "tags": [
              "id30-0-0",
              "outputarea_id30"
            ]
          }
        },
        {
          "output_type": "display_data",
          "data": {
            "application/javascript": [
              "window[\"9b96e1cc-8bf8-11e9-92a5-0242ac1c0002\"] = google.colab.output.setActiveOutputArea(window[\"9b969d0c-8bf8-11e9-92a5-0242ac1c0002\"]);\n",
              "//# sourceURL=js_18eba761b1"
            ],
            "text/plain": [
              "<IPython.core.display.Javascript object>"
            ]
          },
          "metadata": {
            "tags": [
              "id30-0-0",
              "outputarea_id30"
            ]
          }
        },
        {
          "output_type": "display_data",
          "data": {
            "application/javascript": [
              "window[\"9bbf4c02-8bf8-11e9-92a5-0242ac1c0002\"] = google.colab.output.setActiveOutputArea(window[\"9b964d0c-8bf8-11e9-92a5-0242ac1c0002\"]);\n",
              "//# sourceURL=js_5b7f5966ac"
            ],
            "text/plain": [
              "<IPython.core.display.Javascript object>"
            ]
          },
          "metadata": {
            "tags": [
              "id30-0-0",
              "outputarea_id30"
            ]
          }
        },
        {
          "output_type": "stream",
          "text": [
            "Probabilities and Possible positions for step 3: [(1.0, [3, 0])]\n"
          ],
          "name": "stdout"
        },
        {
          "output_type": "display_data",
          "data": {
            "application/javascript": [
              "window[\"9c597bc4-8bf8-11e9-92a5-0242ac1c0002\"] = google.colab.output.getActiveOutputArea();\n",
              "//# sourceURL=js_19d3851963"
            ],
            "text/plain": [
              "<IPython.core.display.Javascript object>"
            ]
          },
          "metadata": {
            "tags": [
              "id30-0-0",
              "outputarea_id30"
            ]
          }
        },
        {
          "output_type": "display_data",
          "data": {
            "application/javascript": [
              "window[\"9c59e046-8bf8-11e9-92a5-0242ac1c0002\"] = document.querySelector(\"#id30-0-0\");\n",
              "//# sourceURL=js_10393f72fc"
            ],
            "text/plain": [
              "<IPython.core.display.Javascript object>"
            ]
          },
          "metadata": {
            "tags": [
              "id30-0-0",
              "outputarea_id30"
            ]
          }
        },
        {
          "output_type": "display_data",
          "data": {
            "application/javascript": [
              "window[\"9c5a24b6-8bf8-11e9-92a5-0242ac1c0002\"] = google.colab.output.setActiveOutputArea(window[\"9c59e046-8bf8-11e9-92a5-0242ac1c0002\"]);\n",
              "//# sourceURL=js_02b65474a1"
            ],
            "text/plain": [
              "<IPython.core.display.Javascript object>"
            ]
          },
          "metadata": {
            "tags": [
              "id30-0-0",
              "outputarea_id30"
            ]
          }
        },
        {
          "output_type": "display_data",
          "data": {
            "application/javascript": [
              "window[\"9c6e9efa-8bf8-11e9-92a5-0242ac1c0002\"] = google.colab.output.setActiveOutputArea(window[\"9c597bc4-8bf8-11e9-92a5-0242ac1c0002\"]);\n",
              "//# sourceURL=js_b5489a055f"
            ],
            "text/plain": [
              "<IPython.core.display.Javascript object>"
            ]
          },
          "metadata": {
            "tags": [
              "id30-0-0",
              "outputarea_id30"
            ]
          }
        },
        {
          "output_type": "stream",
          "text": [
            "Probabilities and Possible positions for step 4: [(1.0, [3, 1])]\n"
          ],
          "name": "stdout"
        },
        {
          "output_type": "display_data",
          "data": {
            "application/javascript": [
              "window[\"9d088240-8bf8-11e9-92a5-0242ac1c0002\"] = google.colab.output.getActiveOutputArea();\n",
              "//# sourceURL=js_36a0a36b46"
            ],
            "text/plain": [
              "<IPython.core.display.Javascript object>"
            ]
          },
          "metadata": {
            "tags": [
              "id30-0-0",
              "outputarea_id30"
            ]
          }
        },
        {
          "output_type": "display_data",
          "data": {
            "application/javascript": [
              "window[\"9d091426-8bf8-11e9-92a5-0242ac1c0002\"] = document.querySelector(\"#id30-0-0\");\n",
              "//# sourceURL=js_9a6ebd7ac4"
            ],
            "text/plain": [
              "<IPython.core.display.Javascript object>"
            ]
          },
          "metadata": {
            "tags": [
              "id30-0-0",
              "outputarea_id30"
            ]
          }
        },
        {
          "output_type": "display_data",
          "data": {
            "application/javascript": [
              "window[\"9d0941f8-8bf8-11e9-92a5-0242ac1c0002\"] = google.colab.output.setActiveOutputArea(window[\"9d091426-8bf8-11e9-92a5-0242ac1c0002\"]);\n",
              "//# sourceURL=js_6863cb9cd8"
            ],
            "text/plain": [
              "<IPython.core.display.Javascript object>"
            ]
          },
          "metadata": {
            "tags": [
              "id30-0-0",
              "outputarea_id30"
            ]
          }
        },
        {
          "output_type": "display_data",
          "data": {
            "application/javascript": [
              "window[\"9d1ec5aa-8bf8-11e9-92a5-0242ac1c0002\"] = google.colab.output.setActiveOutputArea(window[\"9d088240-8bf8-11e9-92a5-0242ac1c0002\"]);\n",
              "//# sourceURL=js_afd0382b7b"
            ],
            "text/plain": [
              "<IPython.core.display.Javascript object>"
            ]
          },
          "metadata": {
            "tags": [
              "id30-0-0",
              "outputarea_id30"
            ]
          }
        },
        {
          "output_type": "stream",
          "text": [
            "Probabilities and Possible positions for step 5: [(1.0, [3, 2])]\n"
          ],
          "name": "stdout"
        },
        {
          "output_type": "display_data",
          "data": {
            "application/javascript": [
              "window[\"9db92cbc-8bf8-11e9-92a5-0242ac1c0002\"] = google.colab.output.getActiveOutputArea();\n",
              "//# sourceURL=js_c011924ad9"
            ],
            "text/plain": [
              "<IPython.core.display.Javascript object>"
            ]
          },
          "metadata": {
            "tags": [
              "id30-0-0",
              "outputarea_id30"
            ]
          }
        },
        {
          "output_type": "display_data",
          "data": {
            "application/javascript": [
              "window[\"9db97a1e-8bf8-11e9-92a5-0242ac1c0002\"] = document.querySelector(\"#id30-0-0\");\n",
              "//# sourceURL=js_14114667ef"
            ],
            "text/plain": [
              "<IPython.core.display.Javascript object>"
            ]
          },
          "metadata": {
            "tags": [
              "id30-0-0",
              "outputarea_id30"
            ]
          }
        },
        {
          "output_type": "display_data",
          "data": {
            "application/javascript": [
              "window[\"9db9df04-8bf8-11e9-92a5-0242ac1c0002\"] = google.colab.output.setActiveOutputArea(window[\"9db97a1e-8bf8-11e9-92a5-0242ac1c0002\"]);\n",
              "//# sourceURL=js_a55427f138"
            ],
            "text/plain": [
              "<IPython.core.display.Javascript object>"
            ]
          },
          "metadata": {
            "tags": [
              "id30-0-0",
              "outputarea_id30"
            ]
          }
        },
        {
          "output_type": "display_data",
          "data": {
            "application/javascript": [
              "window[\"9dd2d068-8bf8-11e9-92a5-0242ac1c0002\"] = google.colab.output.setActiveOutputArea(window[\"9db92cbc-8bf8-11e9-92a5-0242ac1c0002\"]);\n",
              "//# sourceURL=js_f07c098cfa"
            ],
            "text/plain": [
              "<IPython.core.display.Javascript object>"
            ]
          },
          "metadata": {
            "tags": [
              "id30-0-0",
              "outputarea_id30"
            ]
          }
        },
        {
          "output_type": "stream",
          "text": [
            "Probabilities and Possible positions for step 6: [(1.0, [3, 3])]\n"
          ],
          "name": "stdout"
        },
        {
          "output_type": "display_data",
          "data": {
            "application/javascript": [
              "window[\"9e6e072c-8bf8-11e9-92a5-0242ac1c0002\"] = google.colab.output.getActiveOutputArea();\n",
              "//# sourceURL=js_915cfb0e12"
            ],
            "text/plain": [
              "<IPython.core.display.Javascript object>"
            ]
          },
          "metadata": {
            "tags": [
              "id30-0-0",
              "outputarea_id30"
            ]
          }
        },
        {
          "output_type": "display_data",
          "data": {
            "application/javascript": [
              "window[\"9e6eb5aa-8bf8-11e9-92a5-0242ac1c0002\"] = document.querySelector(\"#id30-0-0\");\n",
              "//# sourceURL=js_95b8ad8103"
            ],
            "text/plain": [
              "<IPython.core.display.Javascript object>"
            ]
          },
          "metadata": {
            "tags": [
              "id30-0-0",
              "outputarea_id30"
            ]
          }
        },
        {
          "output_type": "display_data",
          "data": {
            "application/javascript": [
              "window[\"9e6f3160-8bf8-11e9-92a5-0242ac1c0002\"] = google.colab.output.setActiveOutputArea(window[\"9e6eb5aa-8bf8-11e9-92a5-0242ac1c0002\"]);\n",
              "//# sourceURL=js_cbf64a38a3"
            ],
            "text/plain": [
              "<IPython.core.display.Javascript object>"
            ]
          },
          "metadata": {
            "tags": [
              "id30-0-0",
              "outputarea_id30"
            ]
          }
        },
        {
          "output_type": "display_data",
          "data": {
            "application/javascript": [
              "window[\"9e89c41c-8bf8-11e9-92a5-0242ac1c0002\"] = google.colab.output.setActiveOutputArea(window[\"9e6e072c-8bf8-11e9-92a5-0242ac1c0002\"]);\n",
              "//# sourceURL=js_83fcbf345e"
            ],
            "text/plain": [
              "<IPython.core.display.Javascript object>"
            ]
          },
          "metadata": {
            "tags": [
              "id30-0-0",
              "outputarea_id30"
            ]
          }
        },
        {
          "output_type": "stream",
          "text": [
            "No of steps taken: 6\n"
          ],
          "name": "stdout"
        },
        {
          "output_type": "display_data",
          "data": {
            "application/javascript": [
              "window[\"9f24a932-8bf8-11e9-92a5-0242ac1c0002\"] = google.colab.output.getActiveOutputArea();\n",
              "//# sourceURL=js_8b71d83faf"
            ],
            "text/plain": [
              "<IPython.core.display.Javascript object>"
            ]
          },
          "metadata": {
            "tags": [
              "id30-0-0",
              "outputarea_id30"
            ]
          }
        },
        {
          "output_type": "display_data",
          "data": {
            "application/javascript": [
              "window[\"9f252506-8bf8-11e9-92a5-0242ac1c0002\"] = document.querySelector(\"#id30-0-0\");\n",
              "//# sourceURL=js_f30fbc2653"
            ],
            "text/plain": [
              "<IPython.core.display.Javascript object>"
            ]
          },
          "metadata": {
            "tags": [
              "id30-0-0",
              "outputarea_id30"
            ]
          }
        },
        {
          "output_type": "display_data",
          "data": {
            "application/javascript": [
              "window[\"9f25a1a2-8bf8-11e9-92a5-0242ac1c0002\"] = google.colab.output.setActiveOutputArea(window[\"9f252506-8bf8-11e9-92a5-0242ac1c0002\"]);\n",
              "//# sourceURL=js_eebc62fe74"
            ],
            "text/plain": [
              "<IPython.core.display.Javascript object>"
            ]
          },
          "metadata": {
            "tags": [
              "id30-0-0",
              "outputarea_id30"
            ]
          }
        },
        {
          "output_type": "display_data",
          "data": {
            "image/png": "[encoded data removed]",
            "text/plain": [
              "<Figure size 432x288 with 1 Axes>"
            ]
          },
          "metadata": {
            "tags": [
              "id30-0-0",
              "outputarea_id30",
              "user_output"
            ]
          }
        },
        {
          "output_type": "display_data",
          "data": {
            "application/javascript": [
              "window[\"9f3fbe5c-8bf8-11e9-92a5-0242ac1c0002\"] = google.colab.output.setActiveOutputArea(window[\"9f24a932-8bf8-11e9-92a5-0242ac1c0002\"]);\n",
              "//# sourceURL=js_169d1e13a8"
            ],
            "text/plain": [
              "<IPython.core.display.Javascript object>"
            ]
          },
          "metadata": {
            "tags": [
              "id30-0-0",
              "outputarea_id30"
            ]
          }
        }
      ]
    },
    {
      "cell_type": "code",
      "metadata": {
        "colab_type": "code",
        "id": "ghoB9TYH1SNE",
        "colab": {}
      },
      "source": [
        ""
      ],
      "execution_count": 0,
      "outputs": []
    },
    {
      "cell_type": "markdown",
      "metadata": {
        "colab_type": "text",
        "id": "2yMwRKBgThV8"
      },
      "source": [
        "## **STOCHASTIC IMPLEMENTATION**"
      ]
    },
    {
      "cell_type": "markdown",
      "metadata": {
        "colab_type": "text",
        "id": "f5AxkytH62j6"
      },
      "source": [
        "The Stochastic implementation entails that the lake may be slippery in nature, wherein, the agent may not be able to move ahead in the intended direction and move in a random fashion. "
      ]
    },
    {
      "cell_type": "markdown",
      "metadata": {
        "colab_type": "text",
        "id": "hXiLcu7y7sAI"
      },
      "source": [
        "In order to go ahead with this implementation, set the deterministic flag to false.\n",
        "\n",
        "randomStart flag is set to true, which implies random position assignment for agent has been switched on. For this stochastic model, it can be set to either true/false\n",
        "\n",
        "maxsteps has been set to 20, as the environment is slippery and the agent can be expected to make a lot of confused movements. \n",
        "\n"
      ]
    },
    {
      "cell_type": "code",
      "metadata": {
        "colab_type": "code",
        "id": "6lWPTVGNTkDQ",
        "outputId": "cd68fd4d-d56b-4818-e01c-a69d7ecfd3a0",
        "colab": {
          "base_uri": "https://localhost:8080/",
          "height": 286
        }
      },
      "source": [
        "env = FrozenLake(deterministic=False,maxsteps=20,randomStart=True)\n",
        "obs = env.reset()\n",
        "print(\"Initial State:\",obs)\n",
        "env.render()\n",
        "# 0 - down\n",
        "# 1 - up\n",
        "# 2 - right\n",
        "# 3 - left\n"
      ],
      "execution_count": 18,
      "outputs": [
        {
          "output_type": "stream",
          "text": [
            "Initial State: 6\n"
          ],
          "name": "stdout"
        },
        {
          "output_type": "display_data",
          "data": {
            "image/png": "[encoded data removed]",
            "text/plain": [
              "<Figure size 432x288 with 1 Axes>"
            ]
          },
          "metadata": {
            "tags": []
          }
        }
      ]
    },
    {
      "cell_type": "markdown",
      "metadata": {
        "colab_type": "text",
        "id": "vADoAjEa-dq7"
      },
      "source": [
        "The Q learning agents have been defined in the same manner for both the deterministic and stochastic approaches"
      ]
    },
    {
      "cell_type": "code",
      "metadata": {
        "colab_type": "code",
        "id": "dRjqNeMVhTNb",
        "colab": {}
      },
      "source": [
        "class Q_Agent:\n",
        "  def __init__(self, env, learning_rate, gamma):\n",
        "    self.env = env\n",
        "    self.observation_space = env.observation_space\n",
        "    self.action_space = env.action_space\n",
        "    self.learning_rate = learning_rate\n",
        "    self.gamma = gamma\n",
        "    self.q_table = np.zeros((self.observation_space.n, self.action_space.n))\n",
        "  \n",
        "  def step(self, state, tradeoff, epsilon):\n",
        "    # Exploit (the biggest Q value for this state)\n",
        "    if tradeoff > epsilon:\n",
        "      ac = np.argmax(self.q_table[state,:])\n",
        "    # Else doing a random choice - exploration\n",
        "    else:\n",
        "      ac = self.action_space.sample()\n",
        "    return ac\n",
        "  \n",
        "  def update(self, state, action, new_state, reward):   #update q table \n",
        "    self.q_table[state, action] = self.q_table[state, action] + ( self.learning_rate * (reward + self.gamma * np.max(self.q_table[new_state, :]) - self.q_table[state, action]) )\n",
        "    \n",
        "  def getQtable(self):\n",
        "    return self.q_table"
      ],
      "execution_count": 0,
      "outputs": []
    },
    {
      "cell_type": "markdown",
      "metadata": {
        "colab_type": "text",
        "id": "QB6XypkwV6Ki"
      },
      "source": [
        "Exploration parameters are defined."
      ]
    },
    {
      "cell_type": "code",
      "metadata": {
        "colab_type": "code",
        "id": "6bFGxFR8T6JL",
        "colab": {}
      },
      "source": [
        "q_agent = Q_Agent(env, learning_rate=0.95, gamma=0.96)\n",
        "\n",
        "total_episodes = 10000\n",
        "\n",
        "# Exploration parameters\n",
        "epsilon = 1.0                 # Exploration rate\n",
        "max_epsilon = 1.0             # Exploration probability at start\n",
        "min_epsilon = 0.01            # Minimum exploration probability \n",
        "decay_rate = 0.005            # Exponential decay rate for exploration prob"
      ],
      "execution_count": 0,
      "outputs": []
    },
    {
      "cell_type": "markdown",
      "metadata": {
        "colab_type": "text",
        "id": "npS3tMEGWdSB"
      },
      "source": [
        "We can see that in some episodes the agent has been able to reach the goal while in others, it has not. This can be attributed to the fact that to some extent, the distribution of probabilities in its movement have influenced its behaviour. (We used 0.7 as a probability for directions we thought the agent would find more favourable to reach the goal).\n",
        "\n",
        "However, it being a stochastic model, the chance of showing untrained behaviour is quite large as we are randomising the agent's position. \n",
        "\n",
        "[ Agent shows better behavior with a fixed agent psoition]"
      ]
    },
    {
      "cell_type": "code",
      "metadata": {
        "colab_type": "code",
        "id": "Z-KGMcItT_Vh",
        "outputId": "d2ab6f32-ea7c-4096-bbba-f0d4c2a73524",
        "colab": {
          "base_uri": "https://localhost:8080/",
          "height": 3427
        }
      },
      "source": [
        "\n",
        "#print(\"Starting state\")\n",
        "rewards = []\n",
        "epsilons = []\n",
        "state = env.reset()\n",
        "\n",
        "time.sleep(0.25)\n",
        "\n",
        "for episode in range(total_episodes):\n",
        "  state = env.reset()\n",
        "  total_rewards = 0\n",
        "  done = False\n",
        "  \n",
        "  if episode % 1000 == 0:\n",
        "    print ('Episode No:', episode+1)\n",
        "    \n",
        "  while not done:\n",
        "    tradeoff = random.uniform(0, 1)\n",
        "    action = q_agent.step(state, tradeoff, epsilon)\n",
        "    #print(action)\n",
        "    new_state, reward, done, info = q_agent.env.step(action)\n",
        "    #print(\"Probabilities and Possible positions:\",info)\n",
        "    #reward -= 1\n",
        "    \n",
        "    #similar to stochastic gradient descent\n",
        "    q_agent.update(state, action, new_state, reward)\n",
        "    \n",
        "    total_rewards += reward\n",
        "    \n",
        "    state = new_state\n",
        "    \n",
        "\n",
        "  if episode % 1000 == 0:\n",
        "    output_grid = widgets.Grid(1, 1)\n",
        "    with output_grid.output_to(0, 0):\n",
        "      output_grid.clear_cell()\n",
        "      env.render()\n",
        "    print(q_agent.env.getState())\n",
        "  epsilon = min_epsilon + (max_epsilon - min_epsilon)*np.exp(-decay_rate*episode)\n",
        "  epsilons.append(epsilon)\n",
        "  rewards.append(total_rewards)"
      ],
      "execution_count": 21,
      "outputs": [
        {
          "output_type": "stream",
          "text": [
            "Episode No: 1\n"
          ],
          "name": "stdout"
        },
        {
          "output_type": "display_data",
          "data": {
            "text/html": [
              "<style>\n",
              "       table#id32, #id32 > tbody > tr > th, #id32 > tbody > tr > td {\n",
              "         border: 1px solid lightgray;\n",
              "         border-collapse:collapse;\n",
              "         \n",
              "        }</style>"
            ],
            "text/plain": [
              "<IPython.core.display.HTML object>"
            ]
          },
          "metadata": {
            "tags": [
              "outputarea_id32"
            ]
          }
        },
        {
          "output_type": "display_data",
          "data": {
            "text/html": [
              "<table id=id32><tr><td id=id32-0-0></td></tr></table>"
            ],
            "text/plain": [
              "<IPython.core.display.HTML object>"
            ]
          },
          "metadata": {
            "tags": [
              "outputarea_id32"
            ]
          }
        },
        {
          "output_type": "display_data",
          "data": {
            "application/javascript": [
              "window[\"a7cb9906-8bf8-11e9-92a5-0242ac1c0002\"] = google.colab.output.getActiveOutputArea();\n",
              "//# sourceURL=js_ca5f480873"
            ],
            "text/plain": [
              "<IPython.core.display.Javascript object>"
            ]
          },
          "metadata": {
            "tags": [
              "id32-0-0",
              "outputarea_id32"
            ]
          }
        },
        {
          "output_type": "display_data",
          "data": {
            "application/javascript": [
              "window[\"a7cbe0b4-8bf8-11e9-92a5-0242ac1c0002\"] = document.querySelector(\"#id32-0-0\");\n",
              "//# sourceURL=js_3a18c2bdb0"
            ],
            "text/plain": [
              "<IPython.core.display.Javascript object>"
            ]
          },
          "metadata": {
            "tags": [
              "id32-0-0",
              "outputarea_id32"
            ]
          }
        },
        {
          "output_type": "display_data",
          "data": {
            "application/javascript": [
              "window[\"a7cc3050-8bf8-11e9-92a5-0242ac1c0002\"] = google.colab.output.setActiveOutputArea(window[\"a7cbe0b4-8bf8-11e9-92a5-0242ac1c0002\"]);\n",
              "//# sourceURL=js_079359fdf2"
            ],
            "text/plain": [
              "<IPython.core.display.Javascript object>"
            ]
          },
          "metadata": {
            "tags": [
              "id32-0-0",
              "outputarea_id32"
            ]
          }
        },
        {
          "output_type": "display_data",
          "data": {
            "image/png": "[encoded data removed]",
            "text/plain": [
              "<Figure size 432x288 with 1 Axes>"
            ]
          },
          "metadata": {
            "tags": [
              "id32-0-0",
              "outputarea_id32",
              "user_output"
            ]
          }
        },
        {
          "output_type": "display_data",
          "data": {
            "application/javascript": [
              "window[\"a7e6ca14-8bf8-11e9-92a5-0242ac1c0002\"] = google.colab.output.setActiveOutputArea(window[\"a7cb9906-8bf8-11e9-92a5-0242ac1c0002\"]);\n",
              "//# sourceURL=js_adfa2880d4"
            ],
            "text/plain": [
              "<IPython.core.display.Javascript object>"
            ]
          },
          "metadata": {
            "tags": [
              "id32-0-0",
              "outputarea_id32"
            ]
          }
        },
        {
          "output_type": "stream",
          "text": [
            "[[0.  0.  0.  0. ]\n",
            " [0.  0.2 0.  0.2]\n",
            " [0.  0.  0.  0.2]\n",
            " [0.  0.  0.  1. ]]\n",
            "Episode No: 1001\n"
          ],
          "name": "stdout"
        },
        {
          "output_type": "display_data",
          "data": {
            "text/html": [
              "<style>\n",
              "       table#id34, #id34 > tbody > tr > th, #id34 > tbody > tr > td {\n",
              "         border: 1px solid lightgray;\n",
              "         border-collapse:collapse;\n",
              "         \n",
              "        }</style>"
            ],
            "text/plain": [
              "<IPython.core.display.HTML object>"
            ]
          },
          "metadata": {
            "tags": [
              "outputarea_id34"
            ]
          }
        },
        {
          "output_type": "display_data",
          "data": {
            "text/html": [
              "<table id=id34><tr><td id=id34-0-0></td></tr></table>"
            ],
            "text/plain": [
              "<IPython.core.display.HTML object>"
            ]
          },
          "metadata": {
            "tags": [
              "outputarea_id34"
            ]
          }
        },
        {
          "output_type": "display_data",
          "data": {
            "application/javascript": [
              "window[\"a8660c98-8bf8-11e9-92a5-0242ac1c0002\"] = google.colab.output.getActiveOutputArea();\n",
              "//# sourceURL=js_a049c4291b"
            ],
            "text/plain": [
              "<IPython.core.display.Javascript object>"
            ]
          },
          "metadata": {
            "tags": [
              "id34-0-0",
              "outputarea_id34"
            ]
          }
        },
        {
          "output_type": "display_data",
          "data": {
            "application/javascript": [
              "window[\"a8664a64-8bf8-11e9-92a5-0242ac1c0002\"] = document.querySelector(\"#id34-0-0\");\n",
              "//# sourceURL=js_4ba3f47c22"
            ],
            "text/plain": [
              "<IPython.core.display.Javascript object>"
            ]
          },
          "metadata": {
            "tags": [
              "id34-0-0",
              "outputarea_id34"
            ]
          }
        },
        {
          "output_type": "display_data",
          "data": {
            "application/javascript": [
              "window[\"a8668092-8bf8-11e9-92a5-0242ac1c0002\"] = google.colab.output.setActiveOutputArea(window[\"a8664a64-8bf8-11e9-92a5-0242ac1c0002\"]);\n",
              "//# sourceURL=js_f9b2c4d49b"
            ],
            "text/plain": [
              "<IPython.core.display.Javascript object>"
            ]
          },
          "metadata": {
            "tags": [
              "id34-0-0",
              "outputarea_id34"
            ]
          }
        },
        {
          "output_type": "display_data",
          "data": {
            "image/png": "[encoded data removed]",
            "text/plain": [
              "<Figure size 432x288 with 1 Axes>"
            ]
          },
          "metadata": {
            "tags": [
              "id34-0-0",
              "outputarea_id34",
              "user_output"
            ]
          }
        },
        {
          "output_type": "display_data",
          "data": {
            "application/javascript": [
              "window[\"a8807f6a-8bf8-11e9-92a5-0242ac1c0002\"] = google.colab.output.setActiveOutputArea(window[\"a8660c98-8bf8-11e9-92a5-0242ac1c0002\"]);\n",
              "//# sourceURL=js_e576c10c88"
            ],
            "text/plain": [
              "<IPython.core.display.Javascript object>"
            ]
          },
          "metadata": {
            "tags": [
              "id34-0-0",
              "outputarea_id34"
            ]
          }
        },
        {
          "output_type": "stream",
          "text": [
            "[[0.  0.  0.  0. ]\n",
            " [0.  1.  0.  0.2]\n",
            " [0.  0.  0.  0.2]\n",
            " [0.  0.  0.  0.5]]\n",
            "Episode No: 2001\n"
          ],
          "name": "stdout"
        },
        {
          "output_type": "display_data",
          "data": {
            "text/html": [
              "<style>\n",
              "       table#id36, #id36 > tbody > tr > th, #id36 > tbody > tr > td {\n",
              "         border: 1px solid lightgray;\n",
              "         border-collapse:collapse;\n",
              "         \n",
              "        }</style>"
            ],
            "text/plain": [
              "<IPython.core.display.HTML object>"
            ]
          },
          "metadata": {
            "tags": [
              "outputarea_id36"
            ]
          }
        },
        {
          "output_type": "display_data",
          "data": {
            "text/html": [
              "<table id=id36><tr><td id=id36-0-0></td></tr></table>"
            ],
            "text/plain": [
              "<IPython.core.display.HTML object>"
            ]
          },
          "metadata": {
            "tags": [
              "outputarea_id36"
            ]
          }
        },
        {
          "output_type": "display_data",
          "data": {
            "application/javascript": [
              "window[\"a923fc62-8bf8-11e9-92a5-0242ac1c0002\"] = google.colab.output.getActiveOutputArea();\n",
              "//# sourceURL=js_542cbf13cb"
            ],
            "text/plain": [
              "<IPython.core.display.Javascript object>"
            ]
          },
          "metadata": {
            "tags": [
              "id36-0-0",
              "outputarea_id36"
            ]
          }
        },
        {
          "output_type": "display_data",
          "data": {
            "application/javascript": [
              "window[\"a92439e8-8bf8-11e9-92a5-0242ac1c0002\"] = document.querySelector(\"#id36-0-0\");\n",
              "//# sourceURL=js_576bc36bbf"
            ],
            "text/plain": [
              "<IPython.core.display.Javascript object>"
            ]
          },
          "metadata": {
            "tags": [
              "id36-0-0",
              "outputarea_id36"
            ]
          }
        },
        {
          "output_type": "display_data",
          "data": {
            "application/javascript": [
              "window[\"a92473d6-8bf8-11e9-92a5-0242ac1c0002\"] = google.colab.output.setActiveOutputArea(window[\"a92439e8-8bf8-11e9-92a5-0242ac1c0002\"]);\n",
              "//# sourceURL=js_2d59fb3500"
            ],
            "text/plain": [
              "<IPython.core.display.Javascript object>"
            ]
          },
          "metadata": {
            "tags": [
              "id36-0-0",
              "outputarea_id36"
            ]
          }
        },
        {
          "output_type": "display_data",
          "data": {
            "image/png": "[encoded data removed]",
            "text/plain": [
              "<Figure size 432x288 with 1 Axes>"
            ]
          },
          "metadata": {
            "tags": [
              "id36-0-0",
              "outputarea_id36",
              "user_output"
            ]
          }
        },
        {
          "output_type": "display_data",
          "data": {
            "application/javascript": [
              "window[\"a93e42f2-8bf8-11e9-92a5-0242ac1c0002\"] = google.colab.output.setActiveOutputArea(window[\"a923fc62-8bf8-11e9-92a5-0242ac1c0002\"]);\n",
              "//# sourceURL=js_57f8c466c9"
            ],
            "text/plain": [
              "<IPython.core.display.Javascript object>"
            ]
          },
          "metadata": {
            "tags": [
              "id36-0-0",
              "outputarea_id36"
            ]
          }
        },
        {
          "output_type": "stream",
          "text": [
            "[[0.  0.  0.  0. ]\n",
            " [0.  0.2 0.  0.2]\n",
            " [0.  0.  0.  0.2]\n",
            " [0.  0.  0.  1. ]]\n",
            "Episode No: 3001\n"
          ],
          "name": "stdout"
        },
        {
          "output_type": "display_data",
          "data": {
            "text/html": [
              "<style>\n",
              "       table#id38, #id38 > tbody > tr > th, #id38 > tbody > tr > td {\n",
              "         border: 1px solid lightgray;\n",
              "         border-collapse:collapse;\n",
              "         \n",
              "        }</style>"
            ],
            "text/plain": [
              "<IPython.core.display.HTML object>"
            ]
          },
          "metadata": {
            "tags": [
              "outputarea_id38"
            ]
          }
        },
        {
          "output_type": "display_data",
          "data": {
            "text/html": [
              "<table id=id38><tr><td id=id38-0-0></td></tr></table>"
            ],
            "text/plain": [
              "<IPython.core.display.HTML object>"
            ]
          },
          "metadata": {
            "tags": [
              "outputarea_id38"
            ]
          }
        },
        {
          "output_type": "display_data",
          "data": {
            "application/javascript": [
              "window[\"a9dfc28a-8bf8-11e9-92a5-0242ac1c0002\"] = google.colab.output.getActiveOutputArea();\n",
              "//# sourceURL=js_bca4ed133c"
            ],
            "text/plain": [
              "<IPython.core.display.Javascript object>"
            ]
          },
          "metadata": {
            "tags": [
              "id38-0-0",
              "outputarea_id38"
            ]
          }
        },
        {
          "output_type": "display_data",
          "data": {
            "application/javascript": [
              "window[\"a9e00772-8bf8-11e9-92a5-0242ac1c0002\"] = document.querySelector(\"#id38-0-0\");\n",
              "//# sourceURL=js_d9443dc825"
            ],
            "text/plain": [
              "<IPython.core.display.Javascript object>"
            ]
          },
          "metadata": {
            "tags": [
              "id38-0-0",
              "outputarea_id38"
            ]
          }
        },
        {
          "output_type": "display_data",
          "data": {
            "application/javascript": [
              "window[\"a9e0452a-8bf8-11e9-92a5-0242ac1c0002\"] = google.colab.output.setActiveOutputArea(window[\"a9e00772-8bf8-11e9-92a5-0242ac1c0002\"]);\n",
              "//# sourceURL=js_3e4c78c48a"
            ],
            "text/plain": [
              "<IPython.core.display.Javascript object>"
            ]
          },
          "metadata": {
            "tags": [
              "id38-0-0",
              "outputarea_id38"
            ]
          }
        },
        {
          "output_type": "display_data",
          "data": {
            "image/png": "[encoded data removed]",
            "text/plain": [
              "<Figure size 432x288 with 1 Axes>"
            ]
          },
          "metadata": {
            "tags": [
              "id38-0-0",
              "outputarea_id38",
              "user_output"
            ]
          }
        },
        {
          "output_type": "display_data",
          "data": {
            "application/javascript": [
              "window[\"a9f9a218-8bf8-11e9-92a5-0242ac1c0002\"] = google.colab.output.setActiveOutputArea(window[\"a9dfc28a-8bf8-11e9-92a5-0242ac1c0002\"]);\n",
              "//# sourceURL=js_c1bb503814"
            ],
            "text/plain": [
              "<IPython.core.display.Javascript object>"
            ]
          },
          "metadata": {
            "tags": [
              "id38-0-0",
              "outputarea_id38"
            ]
          }
        },
        {
          "output_type": "stream",
          "text": [
            "[[0.  0.  0.  0. ]\n",
            " [0.  1.  0.  0.2]\n",
            " [0.  0.  0.  0.2]\n",
            " [0.  0.  0.  0.5]]\n",
            "Episode No: 4001\n"
          ],
          "name": "stdout"
        },
        {
          "output_type": "display_data",
          "data": {
            "text/html": [
              "<style>\n",
              "       table#id40, #id40 > tbody > tr > th, #id40 > tbody > tr > td {\n",
              "         border: 1px solid lightgray;\n",
              "         border-collapse:collapse;\n",
              "         \n",
              "        }</style>"
            ],
            "text/plain": [
              "<IPython.core.display.HTML object>"
            ]
          },
          "metadata": {
            "tags": [
              "outputarea_id40"
            ]
          }
        },
        {
          "output_type": "display_data",
          "data": {
            "text/html": [
              "<table id=id40><tr><td id=id40-0-0></td></tr></table>"
            ],
            "text/plain": [
              "<IPython.core.display.HTML object>"
            ]
          },
          "metadata": {
            "tags": [
              "outputarea_id40"
            ]
          }
        },
        {
          "output_type": "display_data",
          "data": {
            "application/javascript": [
              "window[\"aa94b15e-8bf8-11e9-92a5-0242ac1c0002\"] = google.colab.output.getActiveOutputArea();\n",
              "//# sourceURL=js_7b02449407"
            ],
            "text/plain": [
              "<IPython.core.display.Javascript object>"
            ]
          },
          "metadata": {
            "tags": [
              "id40-0-0",
              "outputarea_id40"
            ]
          }
        },
        {
          "output_type": "display_data",
          "data": {
            "application/javascript": [
              "window[\"aa95166c-8bf8-11e9-92a5-0242ac1c0002\"] = document.querySelector(\"#id40-0-0\");\n",
              "//# sourceURL=js_0497a201e9"
            ],
            "text/plain": [
              "<IPython.core.display.Javascript object>"
            ]
          },
          "metadata": {
            "tags": [
              "id40-0-0",
              "outputarea_id40"
            ]
          }
        },
        {
          "output_type": "display_data",
          "data": {
            "application/javascript": [
              "window[\"aa958002-8bf8-11e9-92a5-0242ac1c0002\"] = google.colab.output.setActiveOutputArea(window[\"aa95166c-8bf8-11e9-92a5-0242ac1c0002\"]);\n",
              "//# sourceURL=js_b12cd191e9"
            ],
            "text/plain": [
              "<IPython.core.display.Javascript object>"
            ]
          },
          "metadata": {
            "tags": [
              "id40-0-0",
              "outputarea_id40"
            ]
          }
        },
        {
          "output_type": "display_data",
          "data": {
            "image/png": "[encoded data removed]",
            "text/plain": [
              "<Figure size 432x288 with 1 Axes>"
            ]
          },
          "metadata": {
            "tags": [
              "id40-0-0",
              "outputarea_id40",
              "user_output"
            ]
          }
        },
        {
          "output_type": "display_data",
          "data": {
            "application/javascript": [
              "window[\"aaafcd4a-8bf8-11e9-92a5-0242ac1c0002\"] = google.colab.output.setActiveOutputArea(window[\"aa94b15e-8bf8-11e9-92a5-0242ac1c0002\"]);\n",
              "//# sourceURL=js_1569fea159"
            ],
            "text/plain": [
              "<IPython.core.display.Javascript object>"
            ]
          },
          "metadata": {
            "tags": [
              "id40-0-0",
              "outputarea_id40"
            ]
          }
        },
        {
          "output_type": "stream",
          "text": [
            "[[0.  0.  0.  0. ]\n",
            " [0.  1.  0.  0.2]\n",
            " [0.  0.  0.  0.2]\n",
            " [0.  0.  0.  0.5]]\n",
            "Episode No: 5001\n"
          ],
          "name": "stdout"
        },
        {
          "output_type": "display_data",
          "data": {
            "text/html": [
              "<style>\n",
              "       table#id42, #id42 > tbody > tr > th, #id42 > tbody > tr > td {\n",
              "         border: 1px solid lightgray;\n",
              "         border-collapse:collapse;\n",
              "         \n",
              "        }</style>"
            ],
            "text/plain": [
              "<IPython.core.display.HTML object>"
            ]
          },
          "metadata": {
            "tags": [
              "outputarea_id42"
            ]
          }
        },
        {
          "output_type": "display_data",
          "data": {
            "text/html": [
              "<table id=id42><tr><td id=id42-0-0></td></tr></table>"
            ],
            "text/plain": [
              "<IPython.core.display.HTML object>"
            ]
          },
          "metadata": {
            "tags": [
              "outputarea_id42"
            ]
          }
        },
        {
          "output_type": "display_data",
          "data": {
            "application/javascript": [
              "window[\"ab536efa-8bf8-11e9-92a5-0242ac1c0002\"] = google.colab.output.getActiveOutputArea();\n",
              "//# sourceURL=js_ca85aeafe6"
            ],
            "text/plain": [
              "<IPython.core.display.Javascript object>"
            ]
          },
          "metadata": {
            "tags": [
              "id42-0-0",
              "outputarea_id42"
            ]
          }
        },
        {
          "output_type": "display_data",
          "data": {
            "application/javascript": [
              "window[\"ab53c602-8bf8-11e9-92a5-0242ac1c0002\"] = document.querySelector(\"#id42-0-0\");\n",
              "//# sourceURL=js_110f6a48b6"
            ],
            "text/plain": [
              "<IPython.core.display.Javascript object>"
            ]
          },
          "metadata": {
            "tags": [
              "id42-0-0",
              "outputarea_id42"
            ]
          }
        },
        {
          "output_type": "display_data",
          "data": {
            "application/javascript": [
              "window[\"ab542c6e-8bf8-11e9-92a5-0242ac1c0002\"] = google.colab.output.setActiveOutputArea(window[\"ab53c602-8bf8-11e9-92a5-0242ac1c0002\"]);\n",
              "//# sourceURL=js_45b63fb91a"
            ],
            "text/plain": [
              "<IPython.core.display.Javascript object>"
            ]
          },
          "metadata": {
            "tags": [
              "id42-0-0",
              "outputarea_id42"
            ]
          }
        },
        {
          "output_type": "display_data",
          "data": {
            "image/png": "[encoded data removed]",
            "text/plain": [
              "<Figure size 432x288 with 1 Axes>"
            ]
          },
          "metadata": {
            "tags": [
              "id42-0-0",
              "outputarea_id42",
              "user_output"
            ]
          }
        },
        {
          "output_type": "display_data",
          "data": {
            "application/javascript": [
              "window[\"ab6c7d5a-8bf8-11e9-92a5-0242ac1c0002\"] = google.colab.output.setActiveOutputArea(window[\"ab536efa-8bf8-11e9-92a5-0242ac1c0002\"]);\n",
              "//# sourceURL=js_308d1fe8b5"
            ],
            "text/plain": [
              "<IPython.core.display.Javascript object>"
            ]
          },
          "metadata": {
            "tags": [
              "id42-0-0",
              "outputarea_id42"
            ]
          }
        },
        {
          "output_type": "stream",
          "text": [
            "[[0.  0.  0.  1. ]\n",
            " [0.  0.2 0.  0.2]\n",
            " [0.  0.  0.  0.2]\n",
            " [0.  0.  0.  0.5]]\n",
            "Episode No: 6001\n"
          ],
          "name": "stdout"
        },
        {
          "output_type": "display_data",
          "data": {
            "text/html": [
              "<style>\n",
              "       table#id44, #id44 > tbody > tr > th, #id44 > tbody > tr > td {\n",
              "         border: 1px solid lightgray;\n",
              "         border-collapse:collapse;\n",
              "         \n",
              "        }</style>"
            ],
            "text/plain": [
              "<IPython.core.display.HTML object>"
            ]
          },
          "metadata": {
            "tags": [
              "outputarea_id44"
            ]
          }
        },
        {
          "output_type": "display_data",
          "data": {
            "text/html": [
              "<table id=id44><tr><td id=id44-0-0></td></tr></table>"
            ],
            "text/plain": [
              "<IPython.core.display.HTML object>"
            ]
          },
          "metadata": {
            "tags": [
              "outputarea_id44"
            ]
          }
        },
        {
          "output_type": "display_data",
          "data": {
            "application/javascript": [
              "window[\"ac01dc38-8bf8-11e9-92a5-0242ac1c0002\"] = google.colab.output.getActiveOutputArea();\n",
              "//# sourceURL=js_6cef14dcd7"
            ],
            "text/plain": [
              "<IPython.core.display.Javascript object>"
            ]
          },
          "metadata": {
            "tags": [
              "id44-0-0",
              "outputarea_id44"
            ]
          }
        },
        {
          "output_type": "display_data",
          "data": {
            "application/javascript": [
              "window[\"ac02244a-8bf8-11e9-92a5-0242ac1c0002\"] = document.querySelector(\"#id44-0-0\");\n",
              "//# sourceURL=js_f7dc7a66a3"
            ],
            "text/plain": [
              "<IPython.core.display.Javascript object>"
            ]
          },
          "metadata": {
            "tags": [
              "id44-0-0",
              "outputarea_id44"
            ]
          }
        },
        {
          "output_type": "display_data",
          "data": {
            "application/javascript": [
              "window[\"ac028174-8bf8-11e9-92a5-0242ac1c0002\"] = google.colab.output.setActiveOutputArea(window[\"ac02244a-8bf8-11e9-92a5-0242ac1c0002\"]);\n",
              "//# sourceURL=js_d040f22112"
            ],
            "text/plain": [
              "<IPython.core.display.Javascript object>"
            ]
          },
          "metadata": {
            "tags": [
              "id44-0-0",
              "outputarea_id44"
            ]
          }
        },
        {
          "output_type": "display_data",
          "data": {
            "image/png": "[encoded data removed]",
            "text/plain": [
              "<Figure size 432x288 with 1 Axes>"
            ]
          },
          "metadata": {
            "tags": [
              "id44-0-0",
              "outputarea_id44",
              "user_output"
            ]
          }
        },
        {
          "output_type": "display_data",
          "data": {
            "application/javascript": [
              "window[\"ac1b825a-8bf8-11e9-92a5-0242ac1c0002\"] = google.colab.output.setActiveOutputArea(window[\"ac01dc38-8bf8-11e9-92a5-0242ac1c0002\"]);\n",
              "//# sourceURL=js_f1c1baec9d"
            ],
            "text/plain": [
              "<IPython.core.display.Javascript object>"
            ]
          },
          "metadata": {
            "tags": [
              "id44-0-0",
              "outputarea_id44"
            ]
          }
        },
        {
          "output_type": "stream",
          "text": [
            "[[0.  0.  0.  0. ]\n",
            " [0.  0.2 0.  0.2]\n",
            " [0.  0.  0.  0.2]\n",
            " [0.  0.  0.  1. ]]\n",
            "Episode No: 7001\n"
          ],
          "name": "stdout"
        },
        {
          "output_type": "display_data",
          "data": {
            "text/html": [
              "<style>\n",
              "       table#id46, #id46 > tbody > tr > th, #id46 > tbody > tr > td {\n",
              "         border: 1px solid lightgray;\n",
              "         border-collapse:collapse;\n",
              "         \n",
              "        }</style>"
            ],
            "text/plain": [
              "<IPython.core.display.HTML object>"
            ]
          },
          "metadata": {
            "tags": [
              "outputarea_id46"
            ]
          }
        },
        {
          "output_type": "display_data",
          "data": {
            "text/html": [
              "<table id=id46><tr><td id=id46-0-0></td></tr></table>"
            ],
            "text/plain": [
              "<IPython.core.display.HTML object>"
            ]
          },
          "metadata": {
            "tags": [
              "outputarea_id46"
            ]
          }
        },
        {
          "output_type": "display_data",
          "data": {
            "application/javascript": [
              "window[\"acb6d6ce-8bf8-11e9-92a5-0242ac1c0002\"] = google.colab.output.getActiveOutputArea();\n",
              "//# sourceURL=js_7f37cac9d6"
            ],
            "text/plain": [
              "<IPython.core.display.Javascript object>"
            ]
          },
          "metadata": {
            "tags": [
              "id46-0-0",
              "outputarea_id46"
            ]
          }
        },
        {
          "output_type": "display_data",
          "data": {
            "application/javascript": [
              "window[\"acb715f8-8bf8-11e9-92a5-0242ac1c0002\"] = document.querySelector(\"#id46-0-0\");\n",
              "//# sourceURL=js_60b90ac1ce"
            ],
            "text/plain": [
              "<IPython.core.display.Javascript object>"
            ]
          },
          "metadata": {
            "tags": [
              "id46-0-0",
              "outputarea_id46"
            ]
          }
        },
        {
          "output_type": "display_data",
          "data": {
            "application/javascript": [
              "window[\"acb76134-8bf8-11e9-92a5-0242ac1c0002\"] = google.colab.output.setActiveOutputArea(window[\"acb715f8-8bf8-11e9-92a5-0242ac1c0002\"]);\n",
              "//# sourceURL=js_fc72e472d3"
            ],
            "text/plain": [
              "<IPython.core.display.Javascript object>"
            ]
          },
          "metadata": {
            "tags": [
              "id46-0-0",
              "outputarea_id46"
            ]
          }
        },
        {
          "output_type": "display_data",
          "data": {
            "image/png": "[encoded data removed]",
            "text/plain": [
              "<Figure size 432x288 with 1 Axes>"
            ]
          },
          "metadata": {
            "tags": [
              "id46-0-0",
              "outputarea_id46",
              "user_output"
            ]
          }
        },
        {
          "output_type": "display_data",
          "data": {
            "application/javascript": [
              "window[\"acd0241c-8bf8-11e9-92a5-0242ac1c0002\"] = google.colab.output.setActiveOutputArea(window[\"acb6d6ce-8bf8-11e9-92a5-0242ac1c0002\"]);\n",
              "//# sourceURL=js_c3f1cced1b"
            ],
            "text/plain": [
              "<IPython.core.display.Javascript object>"
            ]
          },
          "metadata": {
            "tags": [
              "id46-0-0",
              "outputarea_id46"
            ]
          }
        },
        {
          "output_type": "stream",
          "text": [
            "[[0.  0.  0.  0. ]\n",
            " [0.  1.  0.  0.2]\n",
            " [0.  0.  0.  0.2]\n",
            " [0.  0.  0.  0.5]]\n",
            "Episode No: 8001\n"
          ],
          "name": "stdout"
        },
        {
          "output_type": "display_data",
          "data": {
            "text/html": [
              "<style>\n",
              "       table#id48, #id48 > tbody > tr > th, #id48 > tbody > tr > td {\n",
              "         border: 1px solid lightgray;\n",
              "         border-collapse:collapse;\n",
              "         \n",
              "        }</style>"
            ],
            "text/plain": [
              "<IPython.core.display.HTML object>"
            ]
          },
          "metadata": {
            "tags": [
              "outputarea_id48"
            ]
          }
        },
        {
          "output_type": "display_data",
          "data": {
            "text/html": [
              "<table id=id48><tr><td id=id48-0-0></td></tr></table>"
            ],
            "text/plain": [
              "<IPython.core.display.HTML object>"
            ]
          },
          "metadata": {
            "tags": [
              "outputarea_id48"
            ]
          }
        },
        {
          "output_type": "display_data",
          "data": {
            "application/javascript": [
              "window[\"ad6a6ffe-8bf8-11e9-92a5-0242ac1c0002\"] = google.colab.output.getActiveOutputArea();\n",
              "//# sourceURL=js_8e00bc0002"
            ],
            "text/plain": [
              "<IPython.core.display.Javascript object>"
            ]
          },
          "metadata": {
            "tags": [
              "id48-0-0",
              "outputarea_id48"
            ]
          }
        },
        {
          "output_type": "display_data",
          "data": {
            "application/javascript": [
              "window[\"ad6aa9ec-8bf8-11e9-92a5-0242ac1c0002\"] = document.querySelector(\"#id48-0-0\");\n",
              "//# sourceURL=js_e18c6b654b"
            ],
            "text/plain": [
              "<IPython.core.display.Javascript object>"
            ]
          },
          "metadata": {
            "tags": [
              "id48-0-0",
              "outputarea_id48"
            ]
          }
        },
        {
          "output_type": "display_data",
          "data": {
            "application/javascript": [
              "window[\"ad6ae29a-8bf8-11e9-92a5-0242ac1c0002\"] = google.colab.output.setActiveOutputArea(window[\"ad6aa9ec-8bf8-11e9-92a5-0242ac1c0002\"]);\n",
              "//# sourceURL=js_058131dd8e"
            ],
            "text/plain": [
              "<IPython.core.display.Javascript object>"
            ]
          },
          "metadata": {
            "tags": [
              "id48-0-0",
              "outputarea_id48"
            ]
          }
        },
        {
          "output_type": "display_data",
          "data": {
            "image/png": "[encoded data removed]",
            "text/plain": [
              "<Figure size 432x288 with 1 Axes>"
            ]
          },
          "metadata": {
            "tags": [
              "id48-0-0",
              "outputarea_id48",
              "user_output"
            ]
          }
        },
        {
          "output_type": "display_data",
          "data": {
            "application/javascript": [
              "window[\"ad91cf4a-8bf8-11e9-92a5-0242ac1c0002\"] = google.colab.output.setActiveOutputArea(window[\"ad6a6ffe-8bf8-11e9-92a5-0242ac1c0002\"]);\n",
              "//# sourceURL=js_30cf8c724b"
            ],
            "text/plain": [
              "<IPython.core.display.Javascript object>"
            ]
          },
          "metadata": {
            "tags": [
              "id48-0-0",
              "outputarea_id48"
            ]
          }
        },
        {
          "output_type": "stream",
          "text": [
            "[[0.  0.  0.  0. ]\n",
            " [0.  0.2 0.  0.2]\n",
            " [0.  0.  0.  0.2]\n",
            " [0.  0.  0.  1. ]]\n",
            "Episode No: 9001\n"
          ],
          "name": "stdout"
        },
        {
          "output_type": "display_data",
          "data": {
            "text/html": [
              "<style>\n",
              "       table#id50, #id50 > tbody > tr > th, #id50 > tbody > tr > td {\n",
              "         border: 1px solid lightgray;\n",
              "         border-collapse:collapse;\n",
              "         \n",
              "        }</style>"
            ],
            "text/plain": [
              "<IPython.core.display.HTML object>"
            ]
          },
          "metadata": {
            "tags": [
              "outputarea_id50"
            ]
          }
        },
        {
          "output_type": "display_data",
          "data": {
            "text/html": [
              "<table id=id50><tr><td id=id50-0-0></td></tr></table>"
            ],
            "text/plain": [
              "<IPython.core.display.HTML object>"
            ]
          },
          "metadata": {
            "tags": [
              "outputarea_id50"
            ]
          }
        },
        {
          "output_type": "display_data",
          "data": {
            "application/javascript": [
              "window[\"ae2ec20a-8bf8-11e9-92a5-0242ac1c0002\"] = google.colab.output.getActiveOutputArea();\n",
              "//# sourceURL=js_c117952547"
            ],
            "text/plain": [
              "<IPython.core.display.Javascript object>"
            ]
          },
          "metadata": {
            "tags": [
              "id50-0-0",
              "outputarea_id50"
            ]
          }
        },
        {
          "output_type": "display_data",
          "data": {
            "application/javascript": [
              "window[\"ae2f03fa-8bf8-11e9-92a5-0242ac1c0002\"] = document.querySelector(\"#id50-0-0\");\n",
              "//# sourceURL=js_b39f7fb254"
            ],
            "text/plain": [
              "<IPython.core.display.Javascript object>"
            ]
          },
          "metadata": {
            "tags": [
              "id50-0-0",
              "outputarea_id50"
            ]
          }
        },
        {
          "output_type": "display_data",
          "data": {
            "application/javascript": [
              "window[\"ae2f4bc6-8bf8-11e9-92a5-0242ac1c0002\"] = google.colab.output.setActiveOutputArea(window[\"ae2f03fa-8bf8-11e9-92a5-0242ac1c0002\"]);\n",
              "//# sourceURL=js_0e832af0cb"
            ],
            "text/plain": [
              "<IPython.core.display.Javascript object>"
            ]
          },
          "metadata": {
            "tags": [
              "id50-0-0",
              "outputarea_id50"
            ]
          }
        },
        {
          "output_type": "display_data",
          "data": {
            "image/png": "[encoded data removed]",
            "text/plain": [
              "<Figure size 432x288 with 1 Axes>"
            ]
          },
          "metadata": {
            "tags": [
              "id50-0-0",
              "outputarea_id50",
              "user_output"
            ]
          }
        },
        {
          "output_type": "display_data",
          "data": {
            "application/javascript": [
              "window[\"ae4a8454-8bf8-11e9-92a5-0242ac1c0002\"] = google.colab.output.setActiveOutputArea(window[\"ae2ec20a-8bf8-11e9-92a5-0242ac1c0002\"]);\n",
              "//# sourceURL=js_55a74b56cb"
            ],
            "text/plain": [
              "<IPython.core.display.Javascript object>"
            ]
          },
          "metadata": {
            "tags": [
              "id50-0-0",
              "outputarea_id50"
            ]
          }
        },
        {
          "output_type": "stream",
          "text": [
            "[[0.  0.  0.  0. ]\n",
            " [0.  0.2 0.  0.2]\n",
            " [0.  0.  0.  0.2]\n",
            " [0.  0.  0.  1. ]]\n"
          ],
          "name": "stdout"
        }
      ]
    },
    {
      "cell_type": "markdown",
      "metadata": {
        "colab_type": "text",
        "id": "drJc_-biYGIm"
      },
      "source": [
        "**Rewards Graph**\n",
        "Shows a little more eccentricity in its pattern as compared to deterministic graph. "
      ]
    },
    {
      "cell_type": "code",
      "metadata": {
        "colab_type": "code",
        "id": "JIxN_XfkUEFB",
        "outputId": "dbb93254-c182-4c36-8e3b-e5d0e479c289",
        "colab": {
          "base_uri": "https://localhost:8080/",
          "height": 286
        }
      },
      "source": [
        "plt.plot(rewards)"
      ],
      "execution_count": 22,
      "outputs": [
        {
          "output_type": "execute_result",
          "data": {
            "text/plain": [
              "[<matplotlib.lines.Line2D at 0x7f830f5a5f98>]"
            ]
          },
          "metadata": {
            "tags": []
          },
          "execution_count": 22
        },
        {
          "output_type": "display_data",
          "data": {
            "image/png": "[encoded data removed]",
            "text/plain": [
              "<Figure size 432x288 with 1 Axes>"
            ]
          },
          "metadata": {
            "tags": []
          }
        }
      ]
    },
    {
      "cell_type": "markdown",
      "metadata": {
        "colab_type": "text",
        "id": "sr8HeNLyYX43"
      },
      "source": [
        "**Rolling mean of all rewards**"
      ]
    },
    {
      "cell_type": "code",
      "metadata": {
        "colab_type": "code",
        "id": "h6v8yb0LUIls",
        "outputId": "a53ecbc9-2233-41c6-92a2-0388587a7264",
        "colab": {
          "base_uri": "https://localhost:8080/",
          "height": 286
        }
      },
      "source": [
        "df = pd.DataFrame(rewards, columns=['r'])\n",
        "rolling_mean = df['r'].rolling(window=25).mean()\n",
        "plt.plot(rolling_mean)"
      ],
      "execution_count": 23,
      "outputs": [
        {
          "output_type": "execute_result",
          "data": {
            "text/plain": [
              "[<matplotlib.lines.Line2D at 0x7f830f80a080>]"
            ]
          },
          "metadata": {
            "tags": []
          },
          "execution_count": 23
        },
        {
          "output_type": "display_data",
          "data": {
            "image/png": "[encoded data removed]",
            "text/plain": [
              "<Figure size 432x288 with 1 Axes>"
            ]
          },
          "metadata": {
            "tags": []
          }
        }
      ]
    },
    {
      "cell_type": "markdown",
      "metadata": {
        "colab_type": "text",
        "id": "8u4JYf5fYdCJ"
      },
      "source": [
        "**Epsilon graph** shows same trend as general Q learning algorithm is supposed to be exhibiting"
      ]
    },
    {
      "cell_type": "code",
      "metadata": {
        "colab_type": "code",
        "id": "wGYtS2iOUQYl",
        "outputId": "85161a41-a253-44d4-f15f-18a4a62f2ed0",
        "colab": {
          "base_uri": "https://localhost:8080/",
          "height": 286
        }
      },
      "source": [
        "plt.plot(epsilons)"
      ],
      "execution_count": 24,
      "outputs": [
        {
          "output_type": "execute_result",
          "data": {
            "text/plain": [
              "[<matplotlib.lines.Line2D at 0x7f831226f2b0>]"
            ]
          },
          "metadata": {
            "tags": []
          },
          "execution_count": 24
        },
        {
          "output_type": "display_data",
          "data": {
            "image/png": "[encoded data removed]",
            "text/plain": [
              "<Figure size 432x288 with 1 Axes>"
            ]
          },
          "metadata": {
            "tags": []
          }
        }
      ]
    },
    {
      "cell_type": "markdown",
      "metadata": {
        "colab_type": "text",
        "id": "7IlvbYQYYqzf"
      },
      "source": [
        "**THE Q TABLE** for Stochastic approach"
      ]
    },
    {
      "cell_type": "code",
      "metadata": {
        "colab_type": "code",
        "id": "-QWns5h-UTU4",
        "outputId": "16caba0e-4704-466e-d4fb-ac6b44e4b42b",
        "colab": {
          "base_uri": "https://localhost:8080/",
          "height": 545
        }
      },
      "source": [
        "q_df = pd.DataFrame(q_agent.q_table, columns=['right', 'left', 'up' ,'down'])\n",
        "q_df"
      ],
      "execution_count": 25,
      "outputs": [
        {
          "output_type": "execute_result",
          "data": {
            "text/html": [
              "<div>\n",
              "<style scoped>\n",
              "    .dataframe tbody tr th:only-of-type {\n",
              "        vertical-align: middle;\n",
              "    }\n",
              "\n",
              "    .dataframe tbody tr th {\n",
              "        vertical-align: top;\n",
              "    }\n",
              "\n",
              "    .dataframe thead th {\n",
              "        text-align: right;\n",
              "    }\n",
              "</style>\n",
              "<table border=\"1\" class=\"dataframe\">\n",
              "  <thead>\n",
              "    <tr style=\"text-align: right;\">\n",
              "      <th></th>\n",
              "      <th>right</th>\n",
              "      <th>left</th>\n",
              "      <th>up</th>\n",
              "      <th>down</th>\n",
              "    </tr>\n",
              "  </thead>\n",
              "  <tbody>\n",
              "    <tr>\n",
              "      <th>0</th>\n",
              "      <td>91.579909</td>\n",
              "      <td>52.017559</td>\n",
              "      <td>38.392403</td>\n",
              "      <td>47.509269</td>\n",
              "    </tr>\n",
              "    <tr>\n",
              "      <th>1</th>\n",
              "      <td>-99.999998</td>\n",
              "      <td>-99.664146</td>\n",
              "      <td>94.692975</td>\n",
              "      <td>-93.412269</td>\n",
              "    </tr>\n",
              "    <tr>\n",
              "      <th>2</th>\n",
              "      <td>-73.478352</td>\n",
              "      <td>-40.405132</td>\n",
              "      <td>70.468877</td>\n",
              "      <td>-76.026460</td>\n",
              "    </tr>\n",
              "    <tr>\n",
              "      <th>3</th>\n",
              "      <td>-94.208565</td>\n",
              "      <td>-94.678656</td>\n",
              "      <td>24.719942</td>\n",
              "      <td>-94.253251</td>\n",
              "    </tr>\n",
              "    <tr>\n",
              "      <th>4</th>\n",
              "      <td>101.852947</td>\n",
              "      <td>-99.524202</td>\n",
              "      <td>-99.998931</td>\n",
              "      <td>-99.998842</td>\n",
              "    </tr>\n",
              "    <tr>\n",
              "      <th>5</th>\n",
              "      <td>0.000000</td>\n",
              "      <td>0.000000</td>\n",
              "      <td>0.000000</td>\n",
              "      <td>0.000000</td>\n",
              "    </tr>\n",
              "    <tr>\n",
              "      <th>6</th>\n",
              "      <td>32.678959</td>\n",
              "      <td>-99.999963</td>\n",
              "      <td>-99.999965</td>\n",
              "      <td>-99.996648</td>\n",
              "    </tr>\n",
              "    <tr>\n",
              "      <th>7</th>\n",
              "      <td>0.000000</td>\n",
              "      <td>0.000000</td>\n",
              "      <td>0.000000</td>\n",
              "      <td>0.000000</td>\n",
              "    </tr>\n",
              "    <tr>\n",
              "      <th>8</th>\n",
              "      <td>81.973163</td>\n",
              "      <td>83.353750</td>\n",
              "      <td>98.343156</td>\n",
              "      <td>-19.465597</td>\n",
              "    </tr>\n",
              "    <tr>\n",
              "      <th>9</th>\n",
              "      <td>-90.861171</td>\n",
              "      <td>80.856485</td>\n",
              "      <td>38.319523</td>\n",
              "      <td>86.948633</td>\n",
              "    </tr>\n",
              "    <tr>\n",
              "      <th>10</th>\n",
              "      <td>84.278676</td>\n",
              "      <td>-90.427446</td>\n",
              "      <td>-90.965530</td>\n",
              "      <td>-89.951531</td>\n",
              "    </tr>\n",
              "    <tr>\n",
              "      <th>11</th>\n",
              "      <td>0.000000</td>\n",
              "      <td>0.000000</td>\n",
              "      <td>0.000000</td>\n",
              "      <td>0.000000</td>\n",
              "    </tr>\n",
              "    <tr>\n",
              "      <th>12</th>\n",
              "      <td>76.686329</td>\n",
              "      <td>71.266320</td>\n",
              "      <td>84.304033</td>\n",
              "      <td>79.602225</td>\n",
              "    </tr>\n",
              "    <tr>\n",
              "      <th>13</th>\n",
              "      <td>75.821743</td>\n",
              "      <td>99.361234</td>\n",
              "      <td>78.366393</td>\n",
              "      <td>71.812690</td>\n",
              "    </tr>\n",
              "    <tr>\n",
              "      <th>14</th>\n",
              "      <td>64.623857</td>\n",
              "      <td>82.055825</td>\n",
              "      <td>99.972069</td>\n",
              "      <td>73.423684</td>\n",
              "    </tr>\n",
              "    <tr>\n",
              "      <th>15</th>\n",
              "      <td>0.000000</td>\n",
              "      <td>0.000000</td>\n",
              "      <td>0.000000</td>\n",
              "      <td>0.000000</td>\n",
              "    </tr>\n",
              "  </tbody>\n",
              "</table>\n",
              "</div>"
            ],
            "text/plain": [
              "         right       left         up       down\n",
              "0    91.579909  52.017559  38.392403  47.509269\n",
              "1   -99.999998 -99.664146  94.692975 -93.412269\n",
              "2   -73.478352 -40.405132  70.468877 -76.026460\n",
              "3   -94.208565 -94.678656  24.719942 -94.253251\n",
              "4   101.852947 -99.524202 -99.998931 -99.998842\n",
              "5     0.000000   0.000000   0.000000   0.000000\n",
              "6    32.678959 -99.999963 -99.999965 -99.996648\n",
              "7     0.000000   0.000000   0.000000   0.000000\n",
              "8    81.973163  83.353750  98.343156 -19.465597\n",
              "9   -90.861171  80.856485  38.319523  86.948633\n",
              "10   84.278676 -90.427446 -90.965530 -89.951531\n",
              "11    0.000000   0.000000   0.000000   0.000000\n",
              "12   76.686329  71.266320  84.304033  79.602225\n",
              "13   75.821743  99.361234  78.366393  71.812690\n",
              "14   64.623857  82.055825  99.972069  73.423684\n",
              "15    0.000000   0.000000   0.000000   0.000000"
            ]
          },
          "metadata": {
            "tags": []
          },
          "execution_count": 25
        }
      ]
    },
    {
      "cell_type": "markdown",
      "metadata": {
        "colab_type": "text",
        "id": "0ubWA3lTZAHJ"
      },
      "source": [
        "Listing out the possible positions for the agent at each episode with highest learning curve. \n"
      ]
    },
    {
      "cell_type": "code",
      "metadata": {
        "colab_type": "code",
        "id": "JxzkhY2CUWUe",
        "outputId": "c9fff78d-ea6d-4924-f2fb-d65c42976f08",
        "colab": {
          "base_uri": "https://localhost:8080/",
          "height": 1261
        }
      },
      "source": [
        "for episode in range(3):\n",
        "  state = env.reset()\n",
        "  total_reward = 0\n",
        "  done = False\n",
        "  print(\"EPISODE:\",episode+1)\n",
        "  nsteps = 0\n",
        "  output_grid = widgets.Grid(1, 1)\n",
        "  while not done:\n",
        "    action = q_agent.step(state, tradeoff, epsilon)\n",
        "    new_state, reward, done, info = q_agent.env.step(action)\n",
        "    state = new_state\n",
        "    nsteps+=1\n",
        "    print(\"Probabilities and Possible positions for step \"+str(nsteps)+\":\",info)\n",
        "    with output_grid.output_to(0, 0):\n",
        "      output_grid.clear_cell()\n",
        "      env.render()\n",
        "    time.sleep(1)\n",
        "  print(\"No of steps taken:\",nsteps)\n",
        "  \n",
        "  with output_grid.output_to(0, 0):\n",
        "    output_grid.clear_cell()\n",
        "    env.render()\n",
        "  time.sleep(1)"
      ],
      "execution_count": 26,
      "outputs": [
        {
          "output_type": "stream",
          "text": [
            "EPISODE: 1\n"
          ],
          "name": "stdout"
        },
        {
          "output_type": "display_data",
          "data": {
            "text/html": [
              "<style>\n",
              "       table#id52, #id52 > tbody > tr > th, #id52 > tbody > tr > td {\n",
              "         border: 1px solid lightgray;\n",
              "         border-collapse:collapse;\n",
              "         \n",
              "        }</style>"
            ],
            "text/plain": [
              "<IPython.core.display.HTML object>"
            ]
          },
          "metadata": {
            "tags": [
              "outputarea_id52"
            ]
          }
        },
        {
          "output_type": "display_data",
          "data": {
            "text/html": [
              "<table id=id52><tr><td id=id52-0-0></td></tr></table>"
            ],
            "text/plain": [
              "<IPython.core.display.HTML object>"
            ]
          },
          "metadata": {
            "tags": [
              "outputarea_id52"
            ]
          }
        },
        {
          "output_type": "stream",
          "text": [
            "Probabilities and Possible positions for step 1: [(0.2, [1, 0]), (0.7, [2, 0]), (0.2, [0, 0])]\n"
          ],
          "name": "stdout"
        },
        {
          "output_type": "display_data",
          "data": {
            "application/javascript": [
              "window[\"d1a72e84-8bf8-11e9-92a5-0242ac1c0002\"] = google.colab.output.getActiveOutputArea();\n",
              "//# sourceURL=js_f2179d3f3a"
            ],
            "text/plain": [
              "<IPython.core.display.Javascript object>"
            ]
          },
          "metadata": {
            "tags": [
              "id52-0-0",
              "outputarea_id52"
            ]
          }
        },
        {
          "output_type": "display_data",
          "data": {
            "application/javascript": [
              "window[\"d1a76818-8bf8-11e9-92a5-0242ac1c0002\"] = document.querySelector(\"#id52-0-0\");\n",
              "//# sourceURL=js_82bf16a300"
            ],
            "text/plain": [
              "<IPython.core.display.Javascript object>"
            ]
          },
          "metadata": {
            "tags": [
              "id52-0-0",
              "outputarea_id52"
            ]
          }
        },
        {
          "output_type": "display_data",
          "data": {
            "application/javascript": [
              "window[\"d1a7a12a-8bf8-11e9-92a5-0242ac1c0002\"] = google.colab.output.setActiveOutputArea(window[\"d1a76818-8bf8-11e9-92a5-0242ac1c0002\"]);\n",
              "//# sourceURL=js_e724676db7"
            ],
            "text/plain": [
              "<IPython.core.display.Javascript object>"
            ]
          },
          "metadata": {
            "tags": [
              "id52-0-0",
              "outputarea_id52"
            ]
          }
        },
        {
          "output_type": "display_data",
          "data": {
            "application/javascript": [
              "window[\"d1be0906-8bf8-11e9-92a5-0242ac1c0002\"] = google.colab.output.setActiveOutputArea(window[\"d1a72e84-8bf8-11e9-92a5-0242ac1c0002\"]);\n",
              "//# sourceURL=js_4de40769c2"
            ],
            "text/plain": [
              "<IPython.core.display.Javascript object>"
            ]
          },
          "metadata": {
            "tags": [
              "id52-0-0",
              "outputarea_id52"
            ]
          }
        },
        {
          "output_type": "stream",
          "text": [
            "Probabilities and Possible positions for step 2: [(0.2, [1, 0]), (0.7, [2, 0]), (0.2, [0, 0])]\n"
          ],
          "name": "stdout"
        },
        {
          "output_type": "display_data",
          "data": {
            "application/javascript": [
              "window[\"d257da18-8bf8-11e9-92a5-0242ac1c0002\"] = google.colab.output.getActiveOutputArea();\n",
              "//# sourceURL=js_2192d10efb"
            ],
            "text/plain": [
              "<IPython.core.display.Javascript object>"
            ]
          },
          "metadata": {
            "tags": [
              "id52-0-0",
              "outputarea_id52"
            ]
          }
        },
        {
          "output_type": "display_data",
          "data": {
            "application/javascript": [
              "window[\"d2582da6-8bf8-11e9-92a5-0242ac1c0002\"] = document.querySelector(\"#id52-0-0\");\n",
              "//# sourceURL=js_14cceaa8ce"
            ],
            "text/plain": [
              "<IPython.core.display.Javascript object>"
            ]
          },
          "metadata": {
            "tags": [
              "id52-0-0",
              "outputarea_id52"
            ]
          }
        },
        {
          "output_type": "display_data",
          "data": {
            "application/javascript": [
              "window[\"d2588792-8bf8-11e9-92a5-0242ac1c0002\"] = google.colab.output.setActiveOutputArea(window[\"d2582da6-8bf8-11e9-92a5-0242ac1c0002\"]);\n",
              "//# sourceURL=js_b50a53553c"
            ],
            "text/plain": [
              "<IPython.core.display.Javascript object>"
            ]
          },
          "metadata": {
            "tags": [
              "id52-0-0",
              "outputarea_id52"
            ]
          }
        },
        {
          "output_type": "display_data",
          "data": {
            "application/javascript": [
              "window[\"d271303a-8bf8-11e9-92a5-0242ac1c0002\"] = google.colab.output.setActiveOutputArea(window[\"d257da18-8bf8-11e9-92a5-0242ac1c0002\"]);\n",
              "//# sourceURL=js_0bf474a96f"
            ],
            "text/plain": [
              "<IPython.core.display.Javascript object>"
            ]
          },
          "metadata": {
            "tags": [
              "id52-0-0",
              "outputarea_id52"
            ]
          }
        },
        {
          "output_type": "stream",
          "text": [
            "Probabilities and Possible positions for step 3: [(0.2, [1, 0]), (0.7, [2, 0]), (0.2, [0, 0])]\n"
          ],
          "name": "stdout"
        },
        {
          "output_type": "display_data",
          "data": {
            "application/javascript": [
              "window[\"d30b44e0-8bf8-11e9-92a5-0242ac1c0002\"] = google.colab.output.getActiveOutputArea();\n",
              "//# sourceURL=js_65695cf250"
            ],
            "text/plain": [
              "<IPython.core.display.Javascript object>"
            ]
          },
          "metadata": {
            "tags": [
              "id52-0-0",
              "outputarea_id52"
            ]
          }
        },
        {
          "output_type": "display_data",
          "data": {
            "application/javascript": [
              "window[\"d30b93d2-8bf8-11e9-92a5-0242ac1c0002\"] = document.querySelector(\"#id52-0-0\");\n",
              "//# sourceURL=js_6dd57ad0a5"
            ],
            "text/plain": [
              "<IPython.core.display.Javascript object>"
            ]
          },
          "metadata": {
            "tags": [
              "id52-0-0",
              "outputarea_id52"
            ]
          }
        },
        {
          "output_type": "display_data",
          "data": {
            "application/javascript": [
              "window[\"d30bd324-8bf8-11e9-92a5-0242ac1c0002\"] = google.colab.output.setActiveOutputArea(window[\"d30b93d2-8bf8-11e9-92a5-0242ac1c0002\"]);\n",
              "//# sourceURL=js_2e5791b23d"
            ],
            "text/plain": [
              "<IPython.core.display.Javascript object>"
            ]
          },
          "metadata": {
            "tags": [
              "id52-0-0",
              "outputarea_id52"
            ]
          }
        },
        {
          "output_type": "display_data",
          "data": {
            "application/javascript": [
              "window[\"d320d7ba-8bf8-11e9-92a5-0242ac1c0002\"] = google.colab.output.setActiveOutputArea(window[\"d30b44e0-8bf8-11e9-92a5-0242ac1c0002\"]);\n",
              "//# sourceURL=js_326f7f94f3"
            ],
            "text/plain": [
              "<IPython.core.display.Javascript object>"
            ]
          },
          "metadata": {
            "tags": [
              "id52-0-0",
              "outputarea_id52"
            ]
          }
        },
        {
          "output_type": "stream",
          "text": [
            "Probabilities and Possible positions for step 4: [(0.2, [0, 0]), (0.7, [1, 0]), (0.2, [0, 0])]\n"
          ],
          "name": "stdout"
        },
        {
          "output_type": "display_data",
          "data": {
            "application/javascript": [
              "window[\"d3bab3c6-8bf8-11e9-92a5-0242ac1c0002\"] = google.colab.output.getActiveOutputArea();\n",
              "//# sourceURL=js_ef9fe76bb4"
            ],
            "text/plain": [
              "<IPython.core.display.Javascript object>"
            ]
          },
          "metadata": {
            "tags": [
              "id52-0-0",
              "outputarea_id52"
            ]
          }
        },
        {
          "output_type": "display_data",
          "data": {
            "application/javascript": [
              "window[\"d3baffd4-8bf8-11e9-92a5-0242ac1c0002\"] = document.querySelector(\"#id52-0-0\");\n",
              "//# sourceURL=js_88547cd559"
            ],
            "text/plain": [
              "<IPython.core.display.Javascript object>"
            ]
          },
          "metadata": {
            "tags": [
              "id52-0-0",
              "outputarea_id52"
            ]
          }
        },
        {
          "output_type": "display_data",
          "data": {
            "application/javascript": [
              "window[\"d3bb34e0-8bf8-11e9-92a5-0242ac1c0002\"] = google.colab.output.setActiveOutputArea(window[\"d3baffd4-8bf8-11e9-92a5-0242ac1c0002\"]);\n",
              "//# sourceURL=js_017a9276ef"
            ],
            "text/plain": [
              "<IPython.core.display.Javascript object>"
            ]
          },
          "metadata": {
            "tags": [
              "id52-0-0",
              "outputarea_id52"
            ]
          }
        },
        {
          "output_type": "display_data",
          "data": {
            "application/javascript": [
              "window[\"d3cfe930-8bf8-11e9-92a5-0242ac1c0002\"] = google.colab.output.setActiveOutputArea(window[\"d3bab3c6-8bf8-11e9-92a5-0242ac1c0002\"]);\n",
              "//# sourceURL=js_00aba7832c"
            ],
            "text/plain": [
              "<IPython.core.display.Javascript object>"
            ]
          },
          "metadata": {
            "tags": [
              "id52-0-0",
              "outputarea_id52"
            ]
          }
        },
        {
          "output_type": "stream",
          "text": [
            "Probabilities and Possible positions for step 5: [(0.2, [1, 0]), (0.7, [2, 0]), (0.2, [0, 0])]\n"
          ],
          "name": "stdout"
        },
        {
          "output_type": "display_data",
          "data": {
            "application/javascript": [
              "window[\"d46ab0a0-8bf8-11e9-92a5-0242ac1c0002\"] = google.colab.output.getActiveOutputArea();\n",
              "//# sourceURL=js_bcb2e4f25b"
            ],
            "text/plain": [
              "<IPython.core.display.Javascript object>"
            ]
          },
          "metadata": {
            "tags": [
              "id52-0-0",
              "outputarea_id52"
            ]
          }
        },
        {
          "output_type": "display_data",
          "data": {
            "application/javascript": [
              "window[\"d46af36c-8bf8-11e9-92a5-0242ac1c0002\"] = document.querySelector(\"#id52-0-0\");\n",
              "//# sourceURL=js_32415b5604"
            ],
            "text/plain": [
              "<IPython.core.display.Javascript object>"
            ]
          },
          "metadata": {
            "tags": [
              "id52-0-0",
              "outputarea_id52"
            ]
          }
        },
        {
          "output_type": "display_data",
          "data": {
            "application/javascript": [
              "window[\"d46b6496-8bf8-11e9-92a5-0242ac1c0002\"] = google.colab.output.setActiveOutputArea(window[\"d46af36c-8bf8-11e9-92a5-0242ac1c0002\"]);\n",
              "//# sourceURL=js_d9e1b1e366"
            ],
            "text/plain": [
              "<IPython.core.display.Javascript object>"
            ]
          },
          "metadata": {
            "tags": [
              "id52-0-0",
              "outputarea_id52"
            ]
          }
        },
        {
          "output_type": "display_data",
          "data": {
            "application/javascript": [
              "window[\"d481c150-8bf8-11e9-92a5-0242ac1c0002\"] = google.colab.output.setActiveOutputArea(window[\"d46ab0a0-8bf8-11e9-92a5-0242ac1c0002\"]);\n",
              "//# sourceURL=js_5470da5a90"
            ],
            "text/plain": [
              "<IPython.core.display.Javascript object>"
            ]
          },
          "metadata": {
            "tags": [
              "id52-0-0",
              "outputarea_id52"
            ]
          }
        },
        {
          "output_type": "stream",
          "text": [
            "Probabilities and Possible positions for step 6: [(0.2, [1, 0]), (0.7, [2, 0]), (0.2, [0, 0])]\n"
          ],
          "name": "stdout"
        },
        {
          "output_type": "display_data",
          "data": {
            "application/javascript": [
              "window[\"d51ca27e-8bf8-11e9-92a5-0242ac1c0002\"] = google.colab.output.getActiveOutputArea();\n",
              "//# sourceURL=js_616f791ca3"
            ],
            "text/plain": [
              "<IPython.core.display.Javascript object>"
            ]
          },
          "metadata": {
            "tags": [
              "id52-0-0",
              "outputarea_id52"
            ]
          }
        },
        {
          "output_type": "display_data",
          "data": {
            "application/javascript": [
              "window[\"d51cd136-8bf8-11e9-92a5-0242ac1c0002\"] = document.querySelector(\"#id52-0-0\");\n",
              "//# sourceURL=js_4c28ca5eab"
            ],
            "text/plain": [
              "<IPython.core.display.Javascript object>"
            ]
          },
          "metadata": {
            "tags": [
              "id52-0-0",
              "outputarea_id52"
            ]
          }
        },
        {
          "output_type": "display_data",
          "data": {
            "application/javascript": [
              "window[\"d51cf742-8bf8-11e9-92a5-0242ac1c0002\"] = google.colab.output.setActiveOutputArea(window[\"d51cd136-8bf8-11e9-92a5-0242ac1c0002\"]);\n",
              "//# sourceURL=js_b3c3691b61"
            ],
            "text/plain": [
              "<IPython.core.display.Javascript object>"
            ]
          },
          "metadata": {
            "tags": [
              "id52-0-0",
              "outputarea_id52"
            ]
          }
        },
        {
          "output_type": "display_data",
          "data": {
            "application/javascript": [
              "window[\"d530f8e6-8bf8-11e9-92a5-0242ac1c0002\"] = google.colab.output.setActiveOutputArea(window[\"d51ca27e-8bf8-11e9-92a5-0242ac1c0002\"]);\n",
              "//# sourceURL=js_d455209a51"
            ],
            "text/plain": [
              "<IPython.core.display.Javascript object>"
            ]
          },
          "metadata": {
            "tags": [
              "id52-0-0",
              "outputarea_id52"
            ]
          }
        },
        {
          "output_type": "stream",
          "text": [
            "Probabilities and Possible positions for step 7: [(0.2, [1, 0]), (0.7, [2, 1]), (0.2, [2, 0])]\n"
          ],
          "name": "stdout"
        },
        {
          "output_type": "display_data",
          "data": {
            "application/javascript": [
              "window[\"d5cb2a2e-8bf8-11e9-92a5-0242ac1c0002\"] = google.colab.output.getActiveOutputArea();\n",
              "//# sourceURL=js_27d3e6bd7d"
            ],
            "text/plain": [
              "<IPython.core.display.Javascript object>"
            ]
          },
          "metadata": {
            "tags": [
              "id52-0-0",
              "outputarea_id52"
            ]
          }
        },
        {
          "output_type": "display_data",
          "data": {
            "application/javascript": [
              "window[\"d5cbc916-8bf8-11e9-92a5-0242ac1c0002\"] = document.querySelector(\"#id52-0-0\");\n",
              "//# sourceURL=js_3be51a169b"
            ],
            "text/plain": [
              "<IPython.core.display.Javascript object>"
            ]
          },
          "metadata": {
            "tags": [
              "id52-0-0",
              "outputarea_id52"
            ]
          }
        },
        {
          "output_type": "display_data",
          "data": {
            "application/javascript": [
              "window[\"d5cc8234-8bf8-11e9-92a5-0242ac1c0002\"] = google.colab.output.setActiveOutputArea(window[\"d5cbc916-8bf8-11e9-92a5-0242ac1c0002\"]);\n",
              "//# sourceURL=js_c4bcf86e87"
            ],
            "text/plain": [
              "<IPython.core.display.Javascript object>"
            ]
          },
          "metadata": {
            "tags": [
              "id52-0-0",
              "outputarea_id52"
            ]
          }
        },
        {
          "output_type": "display_data",
          "data": {
            "application/javascript": [
              "window[\"d5e19930-8bf8-11e9-92a5-0242ac1c0002\"] = google.colab.output.setActiveOutputArea(window[\"d5cb2a2e-8bf8-11e9-92a5-0242ac1c0002\"]);\n",
              "//# sourceURL=js_f4010ebbd9"
            ],
            "text/plain": [
              "<IPython.core.display.Javascript object>"
            ]
          },
          "metadata": {
            "tags": [
              "id52-0-0",
              "outputarea_id52"
            ]
          }
        },
        {
          "output_type": "stream",
          "text": [
            "Probabilities and Possible positions for step 8: [(0.7, [2, 2]), (0.2, [2, 0]), (0.7, [3, 1])]\n"
          ],
          "name": "stdout"
        },
        {
          "output_type": "display_data",
          "data": {
            "application/javascript": [
              "window[\"d67bdd74-8bf8-11e9-92a5-0242ac1c0002\"] = google.colab.output.getActiveOutputArea();\n",
              "//# sourceURL=js_d0dee915b2"
            ],
            "text/plain": [
              "<IPython.core.display.Javascript object>"
            ]
          },
          "metadata": {
            "tags": [
              "id52-0-0",
              "outputarea_id52"
            ]
          }
        },
        {
          "output_type": "display_data",
          "data": {
            "application/javascript": [
              "window[\"d67c7572-8bf8-11e9-92a5-0242ac1c0002\"] = document.querySelector(\"#id52-0-0\");\n",
              "//# sourceURL=js_42cc3a7ef7"
            ],
            "text/plain": [
              "<IPython.core.display.Javascript object>"
            ]
          },
          "metadata": {
            "tags": [
              "id52-0-0",
              "outputarea_id52"
            ]
          }
        },
        {
          "output_type": "display_data",
          "data": {
            "application/javascript": [
              "window[\"d67cb2c6-8bf8-11e9-92a5-0242ac1c0002\"] = google.colab.output.setActiveOutputArea(window[\"d67c7572-8bf8-11e9-92a5-0242ac1c0002\"]);\n",
              "//# sourceURL=js_fb16511d4c"
            ],
            "text/plain": [
              "<IPython.core.display.Javascript object>"
            ]
          },
          "metadata": {
            "tags": [
              "id52-0-0",
              "outputarea_id52"
            ]
          }
        },
        {
          "output_type": "display_data",
          "data": {
            "application/javascript": [
              "window[\"d693b0c0-8bf8-11e9-92a5-0242ac1c0002\"] = google.colab.output.setActiveOutputArea(window[\"d67bdd74-8bf8-11e9-92a5-0242ac1c0002\"]);\n",
              "//# sourceURL=js_fd3774951b"
            ],
            "text/plain": [
              "<IPython.core.display.Javascript object>"
            ]
          },
          "metadata": {
            "tags": [
              "id52-0-0",
              "outputarea_id52"
            ]
          }
        },
        {
          "output_type": "stream",
          "text": [
            "Probabilities and Possible positions for step 9: [(0.7, [3, 1]), (0.2, [2, 1]), (0.7, [3, 2])]\n"
          ],
          "name": "stdout"
        },
        {
          "output_type": "display_data",
          "data": {
            "application/javascript": [
              "window[\"d72e9cfc-8bf8-11e9-92a5-0242ac1c0002\"] = google.colab.output.getActiveOutputArea();\n",
              "//# sourceURL=js_b19f408585"
            ],
            "text/plain": [
              "<IPython.core.display.Javascript object>"
            ]
          },
          "metadata": {
            "tags": [
              "id52-0-0",
              "outputarea_id52"
            ]
          }
        },
        {
          "output_type": "display_data",
          "data": {
            "application/javascript": [
              "window[\"d72f1b32-8bf8-11e9-92a5-0242ac1c0002\"] = document.querySelector(\"#id52-0-0\");\n",
              "//# sourceURL=js_cc065fb385"
            ],
            "text/plain": [
              "<IPython.core.display.Javascript object>"
            ]
          },
          "metadata": {
            "tags": [
              "id52-0-0",
              "outputarea_id52"
            ]
          }
        },
        {
          "output_type": "display_data",
          "data": {
            "application/javascript": [
              "window[\"d72f6c86-8bf8-11e9-92a5-0242ac1c0002\"] = google.colab.output.setActiveOutputArea(window[\"d72f1b32-8bf8-11e9-92a5-0242ac1c0002\"]);\n",
              "//# sourceURL=js_0c8a979c38"
            ],
            "text/plain": [
              "<IPython.core.display.Javascript object>"
            ]
          },
          "metadata": {
            "tags": [
              "id52-0-0",
              "outputarea_id52"
            ]
          }
        },
        {
          "output_type": "display_data",
          "data": {
            "application/javascript": [
              "window[\"d7444d18-8bf8-11e9-92a5-0242ac1c0002\"] = google.colab.output.setActiveOutputArea(window[\"d72e9cfc-8bf8-11e9-92a5-0242ac1c0002\"]);\n",
              "//# sourceURL=js_b76fe49207"
            ],
            "text/plain": [
              "<IPython.core.display.Javascript object>"
            ]
          },
          "metadata": {
            "tags": [
              "id52-0-0",
              "outputarea_id52"
            ]
          }
        },
        {
          "output_type": "stream",
          "text": [
            "Probabilities and Possible positions for step 10: [(0.2, [2, 2]), (0.7, [3, 3]), (0.2, [3, 1])]\n"
          ],
          "name": "stdout"
        },
        {
          "output_type": "display_data",
          "data": {
            "application/javascript": [
              "window[\"d7df1dac-8bf8-11e9-92a5-0242ac1c0002\"] = google.colab.output.getActiveOutputArea();\n",
              "//# sourceURL=js_93d7a0e5ed"
            ],
            "text/plain": [
              "<IPython.core.display.Javascript object>"
            ]
          },
          "metadata": {
            "tags": [
              "id52-0-0",
              "outputarea_id52"
            ]
          }
        },
        {
          "output_type": "display_data",
          "data": {
            "application/javascript": [
              "window[\"d7df79fa-8bf8-11e9-92a5-0242ac1c0002\"] = document.querySelector(\"#id52-0-0\");\n",
              "//# sourceURL=js_5f09afbc2c"
            ],
            "text/plain": [
              "<IPython.core.display.Javascript object>"
            ]
          },
          "metadata": {
            "tags": [
              "id52-0-0",
              "outputarea_id52"
            ]
          }
        },
        {
          "output_type": "display_data",
          "data": {
            "application/javascript": [
              "window[\"d7dfb0b4-8bf8-11e9-92a5-0242ac1c0002\"] = google.colab.output.setActiveOutputArea(window[\"d7df79fa-8bf8-11e9-92a5-0242ac1c0002\"]);\n",
              "//# sourceURL=js_686a2d2995"
            ],
            "text/plain": [
              "<IPython.core.display.Javascript object>"
            ]
          },
          "metadata": {
            "tags": [
              "id52-0-0",
              "outputarea_id52"
            ]
          }
        },
        {
          "output_type": "display_data",
          "data": {
            "application/javascript": [
              "window[\"d7f87c3e-8bf8-11e9-92a5-0242ac1c0002\"] = google.colab.output.setActiveOutputArea(window[\"d7df1dac-8bf8-11e9-92a5-0242ac1c0002\"]);\n",
              "//# sourceURL=js_8260536a54"
            ],
            "text/plain": [
              "<IPython.core.display.Javascript object>"
            ]
          },
          "metadata": {
            "tags": [
              "id52-0-0",
              "outputarea_id52"
            ]
          }
        },
        {
          "output_type": "stream",
          "text": [
            "Probabilities and Possible positions for step 11: [(0.7, [3, 1]), (0.2, [2, 1]), (0.7, [3, 2])]\n"
          ],
          "name": "stdout"
        },
        {
          "output_type": "display_data",
          "data": {
            "application/javascript": [
              "window[\"d893bece-8bf8-11e9-92a5-0242ac1c0002\"] = google.colab.output.getActiveOutputArea();\n",
              "//# sourceURL=js_a4ed80b024"
            ],
            "text/plain": [
              "<IPython.core.display.Javascript object>"
            ]
          },
          "metadata": {
            "tags": [
              "id52-0-0",
              "outputarea_id52"
            ]
          }
        },
        {
          "output_type": "display_data",
          "data": {
            "application/javascript": [
              "window[\"d8940cbc-8bf8-11e9-92a5-0242ac1c0002\"] = document.querySelector(\"#id52-0-0\");\n",
              "//# sourceURL=js_80c97a3079"
            ],
            "text/plain": [
              "<IPython.core.display.Javascript object>"
            ]
          },
          "metadata": {
            "tags": [
              "id52-0-0",
              "outputarea_id52"
            ]
          }
        },
        {
          "output_type": "display_data",
          "data": {
            "application/javascript": [
              "window[\"d894e484-8bf8-11e9-92a5-0242ac1c0002\"] = google.colab.output.setActiveOutputArea(window[\"d8940cbc-8bf8-11e9-92a5-0242ac1c0002\"]);\n",
              "//# sourceURL=js_5879787718"
            ],
            "text/plain": [
              "<IPython.core.display.Javascript object>"
            ]
          },
          "metadata": {
            "tags": [
              "id52-0-0",
              "outputarea_id52"
            ]
          }
        },
        {
          "output_type": "display_data",
          "data": {
            "application/javascript": [
              "window[\"d8bbadb2-8bf8-11e9-92a5-0242ac1c0002\"] = google.colab.output.setActiveOutputArea(window[\"d893bece-8bf8-11e9-92a5-0242ac1c0002\"]);\n",
              "//# sourceURL=js_7123cb2f4e"
            ],
            "text/plain": [
              "<IPython.core.display.Javascript object>"
            ]
          },
          "metadata": {
            "tags": [
              "id52-0-0",
              "outputarea_id52"
            ]
          }
        },
        {
          "output_type": "stream",
          "text": [
            "Probabilities and Possible positions for step 12: [(0.7, [3, 1]), (0.2, [2, 1]), (0.7, [3, 2])]\n"
          ],
          "name": "stdout"
        },
        {
          "output_type": "display_data",
          "data": {
            "application/javascript": [
              "window[\"d9580dec-8bf8-11e9-92a5-0242ac1c0002\"] = google.colab.output.getActiveOutputArea();\n",
              "//# sourceURL=js_2e4a927bfc"
            ],
            "text/plain": [
              "<IPython.core.display.Javascript object>"
            ]
          },
          "metadata": {
            "tags": [
              "id52-0-0",
              "outputarea_id52"
            ]
          }
        },
        {
          "output_type": "display_data",
          "data": {
            "application/javascript": [
              "window[\"d958f874-8bf8-11e9-92a5-0242ac1c0002\"] = document.querySelector(\"#id52-0-0\");\n",
              "//# sourceURL=js_71e4537640"
            ],
            "text/plain": [
              "<IPython.core.display.Javascript object>"
            ]
          },
          "metadata": {
            "tags": [
              "id52-0-0",
              "outputarea_id52"
            ]
          }
        },
        {
          "output_type": "display_data",
          "data": {
            "application/javascript": [
              "window[\"d9592538-8bf8-11e9-92a5-0242ac1c0002\"] = google.colab.output.setActiveOutputArea(window[\"d958f874-8bf8-11e9-92a5-0242ac1c0002\"]);\n",
              "//# sourceURL=js_d56134986e"
            ],
            "text/plain": [
              "<IPython.core.display.Javascript object>"
            ]
          },
          "metadata": {
            "tags": [
              "id52-0-0",
              "outputarea_id52"
            ]
          }
        },
        {
          "output_type": "display_data",
          "data": {
            "application/javascript": [
              "window[\"d9719d34-8bf8-11e9-92a5-0242ac1c0002\"] = google.colab.output.setActiveOutputArea(window[\"d9580dec-8bf8-11e9-92a5-0242ac1c0002\"]);\n",
              "//# sourceURL=js_c990781787"
            ],
            "text/plain": [
              "<IPython.core.display.Javascript object>"
            ]
          },
          "metadata": {
            "tags": [
              "id52-0-0",
              "outputarea_id52"
            ]
          }
        },
        {
          "output_type": "stream",
          "text": [
            "Probabilities and Possible positions for step 13: [(0.2, [2, 2]), (0.7, [3, 3]), (0.2, [3, 1])]\n"
          ],
          "name": "stdout"
        },
        {
          "output_type": "display_data",
          "data": {
            "application/javascript": [
              "window[\"da0b99f2-8bf8-11e9-92a5-0242ac1c0002\"] = google.colab.output.getActiveOutputArea();\n",
              "//# sourceURL=js_9f9aee5314"
            ],
            "text/plain": [
              "<IPython.core.display.Javascript object>"
            ]
          },
          "metadata": {
            "tags": [
              "id52-0-0",
              "outputarea_id52"
            ]
          }
        },
        {
          "output_type": "display_data",
          "data": {
            "application/javascript": [
              "window[\"da0bd624-8bf8-11e9-92a5-0242ac1c0002\"] = document.querySelector(\"#id52-0-0\");\n",
              "//# sourceURL=js_d7d21da181"
            ],
            "text/plain": [
              "<IPython.core.display.Javascript object>"
            ]
          },
          "metadata": {
            "tags": [
              "id52-0-0",
              "outputarea_id52"
            ]
          }
        },
        {
          "output_type": "display_data",
          "data": {
            "application/javascript": [
              "window[\"da0c167a-8bf8-11e9-92a5-0242ac1c0002\"] = google.colab.output.setActiveOutputArea(window[\"da0bd624-8bf8-11e9-92a5-0242ac1c0002\"]);\n",
              "//# sourceURL=js_146da0c0cd"
            ],
            "text/plain": [
              "<IPython.core.display.Javascript object>"
            ]
          },
          "metadata": {
            "tags": [
              "id52-0-0",
              "outputarea_id52"
            ]
          }
        },
        {
          "output_type": "display_data",
          "data": {
            "application/javascript": [
              "window[\"da24d066-8bf8-11e9-92a5-0242ac1c0002\"] = google.colab.output.setActiveOutputArea(window[\"da0b99f2-8bf8-11e9-92a5-0242ac1c0002\"]);\n",
              "//# sourceURL=js_ec2835de06"
            ],
            "text/plain": [
              "<IPython.core.display.Javascript object>"
            ]
          },
          "metadata": {
            "tags": [
              "id52-0-0",
              "outputarea_id52"
            ]
          }
        },
        {
          "output_type": "stream",
          "text": [
            "No of steps taken: 13\n"
          ],
          "name": "stdout"
        },
        {
          "output_type": "display_data",
          "data": {
            "application/javascript": [
              "window[\"dabefa9c-8bf8-11e9-92a5-0242ac1c0002\"] = google.colab.output.getActiveOutputArea();\n",
              "//# sourceURL=js_515848c684"
            ],
            "text/plain": [
              "<IPython.core.display.Javascript object>"
            ]
          },
          "metadata": {
            "tags": [
              "id52-0-0",
              "outputarea_id52"
            ]
          }
        },
        {
          "output_type": "display_data",
          "data": {
            "application/javascript": [
              "window[\"dabf40a6-8bf8-11e9-92a5-0242ac1c0002\"] = document.querySelector(\"#id52-0-0\");\n",
              "//# sourceURL=js_2ec93ff7e4"
            ],
            "text/plain": [
              "<IPython.core.display.Javascript object>"
            ]
          },
          "metadata": {
            "tags": [
              "id52-0-0",
              "outputarea_id52"
            ]
          }
        },
        {
          "output_type": "display_data",
          "data": {
            "application/javascript": [
              "window[\"dabf94a2-8bf8-11e9-92a5-0242ac1c0002\"] = google.colab.output.setActiveOutputArea(window[\"dabf40a6-8bf8-11e9-92a5-0242ac1c0002\"]);\n",
              "//# sourceURL=js_945dca8fea"
            ],
            "text/plain": [
              "<IPython.core.display.Javascript object>"
            ]
          },
          "metadata": {
            "tags": [
              "id52-0-0",
              "outputarea_id52"
            ]
          }
        },
        {
          "output_type": "display_data",
          "data": {
            "image/png": "[encoded data removed]",
            "text/plain": [
              "<Figure size 432x288 with 1 Axes>"
            ]
          },
          "metadata": {
            "tags": [
              "id52-0-0",
              "outputarea_id52",
              "user_output"
            ]
          }
        },
        {
          "output_type": "display_data",
          "data": {
            "application/javascript": [
              "window[\"dad590cc-8bf8-11e9-92a5-0242ac1c0002\"] = google.colab.output.setActiveOutputArea(window[\"dabefa9c-8bf8-11e9-92a5-0242ac1c0002\"]);\n",
              "//# sourceURL=js_64632f986b"
            ],
            "text/plain": [
              "<IPython.core.display.Javascript object>"
            ]
          },
          "metadata": {
            "tags": [
              "id52-0-0",
              "outputarea_id52"
            ]
          }
        },
        {
          "output_type": "stream",
          "text": [
            "EPISODE: 2\n"
          ],
          "name": "stdout"
        },
        {
          "output_type": "display_data",
          "data": {
            "text/html": [
              "<style>\n",
              "       table#id54, #id54 > tbody > tr > th, #id54 > tbody > tr > td {\n",
              "         border: 1px solid lightgray;\n",
              "         border-collapse:collapse;\n",
              "         \n",
              "        }</style>"
            ],
            "text/plain": [
              "<IPython.core.display.HTML object>"
            ]
          },
          "metadata": {
            "tags": [
              "outputarea_id54"
            ]
          }
        },
        {
          "output_type": "display_data",
          "data": {
            "text/html": [
              "<table id=id54><tr><td id=id54-0-0></td></tr></table>"
            ],
            "text/plain": [
              "<IPython.core.display.HTML object>"
            ]
          },
          "metadata": {
            "tags": [
              "outputarea_id54"
            ]
          }
        },
        {
          "output_type": "stream",
          "text": [
            "Probabilities and Possible positions for step 1: [(0.2, [2, 1]), (0.7, [3, 2]), (0.2, [1, 2])]\n"
          ],
          "name": "stdout"
        },
        {
          "output_type": "display_data",
          "data": {
            "application/javascript": [
              "window[\"db70fbac-8bf8-11e9-92a5-0242ac1c0002\"] = google.colab.output.getActiveOutputArea();\n",
              "//# sourceURL=js_0156c8f017"
            ],
            "text/plain": [
              "<IPython.core.display.Javascript object>"
            ]
          },
          "metadata": {
            "tags": [
              "id54-0-0",
              "outputarea_id54"
            ]
          }
        },
        {
          "output_type": "display_data",
          "data": {
            "application/javascript": [
              "window[\"db713cb6-8bf8-11e9-92a5-0242ac1c0002\"] = document.querySelector(\"#id54-0-0\");\n",
              "//# sourceURL=js_d87497fe94"
            ],
            "text/plain": [
              "<IPython.core.display.Javascript object>"
            ]
          },
          "metadata": {
            "tags": [
              "id54-0-0",
              "outputarea_id54"
            ]
          }
        },
        {
          "output_type": "display_data",
          "data": {
            "application/javascript": [
              "window[\"db717f8c-8bf8-11e9-92a5-0242ac1c0002\"] = google.colab.output.setActiveOutputArea(window[\"db713cb6-8bf8-11e9-92a5-0242ac1c0002\"]);\n",
              "//# sourceURL=js_f678a40854"
            ],
            "text/plain": [
              "<IPython.core.display.Javascript object>"
            ]
          },
          "metadata": {
            "tags": [
              "id54-0-0",
              "outputarea_id54"
            ]
          }
        },
        {
          "output_type": "display_data",
          "data": {
            "application/javascript": [
              "window[\"db8aee5e-8bf8-11e9-92a5-0242ac1c0002\"] = google.colab.output.setActiveOutputArea(window[\"db70fbac-8bf8-11e9-92a5-0242ac1c0002\"]);\n",
              "//# sourceURL=js_77324f03cf"
            ],
            "text/plain": [
              "<IPython.core.display.Javascript object>"
            ]
          },
          "metadata": {
            "tags": [
              "id54-0-0",
              "outputarea_id54"
            ]
          }
        },
        {
          "output_type": "stream",
          "text": [
            "Probabilities and Possible positions for step 2: [(0.2, [2, 2]), (0.7, [3, 3]), (0.2, [3, 1])]\n"
          ],
          "name": "stdout"
        },
        {
          "output_type": "display_data",
          "data": {
            "application/javascript": [
              "window[\"dc2503fe-8bf8-11e9-92a5-0242ac1c0002\"] = google.colab.output.getActiveOutputArea();\n",
              "//# sourceURL=js_6fdd0a8ae8"
            ],
            "text/plain": [
              "<IPython.core.display.Javascript object>"
            ]
          },
          "metadata": {
            "tags": [
              "id54-0-0",
              "outputarea_id54"
            ]
          }
        },
        {
          "output_type": "display_data",
          "data": {
            "application/javascript": [
              "window[\"dc256d3a-8bf8-11e9-92a5-0242ac1c0002\"] = document.querySelector(\"#id54-0-0\");\n",
              "//# sourceURL=js_819c3c6ff5"
            ],
            "text/plain": [
              "<IPython.core.display.Javascript object>"
            ]
          },
          "metadata": {
            "tags": [
              "id54-0-0",
              "outputarea_id54"
            ]
          }
        },
        {
          "output_type": "display_data",
          "data": {
            "application/javascript": [
              "window[\"dc25cda2-8bf8-11e9-92a5-0242ac1c0002\"] = google.colab.output.setActiveOutputArea(window[\"dc256d3a-8bf8-11e9-92a5-0242ac1c0002\"]);\n",
              "//# sourceURL=js_c82fa60fde"
            ],
            "text/plain": [
              "<IPython.core.display.Javascript object>"
            ]
          },
          "metadata": {
            "tags": [
              "id54-0-0",
              "outputarea_id54"
            ]
          }
        },
        {
          "output_type": "display_data",
          "data": {
            "application/javascript": [
              "window[\"dc3f9228-8bf8-11e9-92a5-0242ac1c0002\"] = google.colab.output.setActiveOutputArea(window[\"dc2503fe-8bf8-11e9-92a5-0242ac1c0002\"]);\n",
              "//# sourceURL=js_bc0ba85ef0"
            ],
            "text/plain": [
              "<IPython.core.display.Javascript object>"
            ]
          },
          "metadata": {
            "tags": [
              "id54-0-0",
              "outputarea_id54"
            ]
          }
        },
        {
          "output_type": "stream",
          "text": [
            "No of steps taken: 2\n"
          ],
          "name": "stdout"
        },
        {
          "output_type": "display_data",
          "data": {
            "application/javascript": [
              "window[\"dcdabbae-8bf8-11e9-92a5-0242ac1c0002\"] = google.colab.output.getActiveOutputArea();\n",
              "//# sourceURL=js_cb4e00ee20"
            ],
            "text/plain": [
              "<IPython.core.display.Javascript object>"
            ]
          },
          "metadata": {
            "tags": [
              "id54-0-0",
              "outputarea_id54"
            ]
          }
        },
        {
          "output_type": "display_data",
          "data": {
            "application/javascript": [
              "window[\"dcdb695a-8bf8-11e9-92a5-0242ac1c0002\"] = document.querySelector(\"#id54-0-0\");\n",
              "//# sourceURL=js_319310ec7c"
            ],
            "text/plain": [
              "<IPython.core.display.Javascript object>"
            ]
          },
          "metadata": {
            "tags": [
              "id54-0-0",
              "outputarea_id54"
            ]
          }
        },
        {
          "output_type": "display_data",
          "data": {
            "application/javascript": [
              "window[\"dcdc0784-8bf8-11e9-92a5-0242ac1c0002\"] = google.colab.output.setActiveOutputArea(window[\"dcdb695a-8bf8-11e9-92a5-0242ac1c0002\"]);\n",
              "//# sourceURL=js_07670342bb"
            ],
            "text/plain": [
              "<IPython.core.display.Javascript object>"
            ]
          },
          "metadata": {
            "tags": [
              "id54-0-0",
              "outputarea_id54"
            ]
          }
        },
        {
          "output_type": "display_data",
          "data": {
            "image/png": "[encoded data removed]",
            "text/plain": [
              "<Figure size 432x288 with 1 Axes>"
            ]
          },
          "metadata": {
            "tags": [
              "id54-0-0",
              "outputarea_id54",
              "user_output"
            ]
          }
        },
        {
          "output_type": "display_data",
          "data": {
            "application/javascript": [
              "window[\"dcf0f50e-8bf8-11e9-92a5-0242ac1c0002\"] = google.colab.output.setActiveOutputArea(window[\"dcdabbae-8bf8-11e9-92a5-0242ac1c0002\"]);\n",
              "//# sourceURL=js_c2842ec228"
            ],
            "text/plain": [
              "<IPython.core.display.Javascript object>"
            ]
          },
          "metadata": {
            "tags": [
              "id54-0-0",
              "outputarea_id54"
            ]
          }
        },
        {
          "output_type": "stream",
          "text": [
            "EPISODE: 3\n"
          ],
          "name": "stdout"
        },
        {
          "output_type": "display_data",
          "data": {
            "text/html": [
              "<style>\n",
              "       table#id56, #id56 > tbody > tr > th, #id56 > tbody > tr > td {\n",
              "         border: 1px solid lightgray;\n",
              "         border-collapse:collapse;\n",
              "         \n",
              "        }</style>"
            ],
            "text/plain": [
              "<IPython.core.display.HTML object>"
            ]
          },
          "metadata": {
            "tags": [
              "outputarea_id56"
            ]
          }
        },
        {
          "output_type": "display_data",
          "data": {
            "text/html": [
              "<table id=id56><tr><td id=id56-0-0></td></tr></table>"
            ],
            "text/plain": [
              "<IPython.core.display.HTML object>"
            ]
          },
          "metadata": {
            "tags": [
              "outputarea_id56"
            ]
          }
        },
        {
          "output_type": "stream",
          "text": [
            "Probabilities and Possible positions for step 1: [(0.2, [1, 0]), (0.7, [2, 0]), (0.2, [0, 0])]\n"
          ],
          "name": "stdout"
        },
        {
          "output_type": "display_data",
          "data": {
            "application/javascript": [
              "window[\"dd8d5d40-8bf8-11e9-92a5-0242ac1c0002\"] = google.colab.output.getActiveOutputArea();\n",
              "//# sourceURL=js_123ed3e1ea"
            ],
            "text/plain": [
              "<IPython.core.display.Javascript object>"
            ]
          },
          "metadata": {
            "tags": [
              "id56-0-0",
              "outputarea_id56"
            ]
          }
        },
        {
          "output_type": "display_data",
          "data": {
            "application/javascript": [
              "window[\"dd8daf84-8bf8-11e9-92a5-0242ac1c0002\"] = document.querySelector(\"#id56-0-0\");\n",
              "//# sourceURL=js_6b69d11c70"
            ],
            "text/plain": [
              "<IPython.core.display.Javascript object>"
            ]
          },
          "metadata": {
            "tags": [
              "id56-0-0",
              "outputarea_id56"
            ]
          }
        },
        {
          "output_type": "display_data",
          "data": {
            "application/javascript": [
              "window[\"dd8e565a-8bf8-11e9-92a5-0242ac1c0002\"] = google.colab.output.setActiveOutputArea(window[\"dd8daf84-8bf8-11e9-92a5-0242ac1c0002\"]);\n",
              "//# sourceURL=js_6d0b58fb1a"
            ],
            "text/plain": [
              "<IPython.core.display.Javascript object>"
            ]
          },
          "metadata": {
            "tags": [
              "id56-0-0",
              "outputarea_id56"
            ]
          }
        },
        {
          "output_type": "display_data",
          "data": {
            "application/javascript": [
              "window[\"dda2cc98-8bf8-11e9-92a5-0242ac1c0002\"] = google.colab.output.setActiveOutputArea(window[\"dd8d5d40-8bf8-11e9-92a5-0242ac1c0002\"]);\n",
              "//# sourceURL=js_3a9a6f67ac"
            ],
            "text/plain": [
              "<IPython.core.display.Javascript object>"
            ]
          },
          "metadata": {
            "tags": [
              "id56-0-0",
              "outputarea_id56"
            ]
          }
        },
        {
          "output_type": "stream",
          "text": [
            "Probabilities and Possible positions for step 2: [(0.2, [1, 0]), (0.7, [2, 1]), (0.2, [2, 0])]\n"
          ],
          "name": "stdout"
        },
        {
          "output_type": "display_data",
          "data": {
            "application/javascript": [
              "window[\"de3d2360-8bf8-11e9-92a5-0242ac1c0002\"] = google.colab.output.getActiveOutputArea();\n",
              "//# sourceURL=js_debd3299c8"
            ],
            "text/plain": [
              "<IPython.core.display.Javascript object>"
            ]
          },
          "metadata": {
            "tags": [
              "id56-0-0",
              "outputarea_id56"
            ]
          }
        },
        {
          "output_type": "display_data",
          "data": {
            "application/javascript": [
              "window[\"de3db46a-8bf8-11e9-92a5-0242ac1c0002\"] = document.querySelector(\"#id56-0-0\");\n",
              "//# sourceURL=js_f24c3aa630"
            ],
            "text/plain": [
              "<IPython.core.display.Javascript object>"
            ]
          },
          "metadata": {
            "tags": [
              "id56-0-0",
              "outputarea_id56"
            ]
          }
        },
        {
          "output_type": "display_data",
          "data": {
            "application/javascript": [
              "window[\"de3dfa56-8bf8-11e9-92a5-0242ac1c0002\"] = google.colab.output.setActiveOutputArea(window[\"de3db46a-8bf8-11e9-92a5-0242ac1c0002\"]);\n",
              "//# sourceURL=js_acd5de61a6"
            ],
            "text/plain": [
              "<IPython.core.display.Javascript object>"
            ]
          },
          "metadata": {
            "tags": [
              "id56-0-0",
              "outputarea_id56"
            ]
          }
        },
        {
          "output_type": "display_data",
          "data": {
            "application/javascript": [
              "window[\"de55ee68-8bf8-11e9-92a5-0242ac1c0002\"] = google.colab.output.setActiveOutputArea(window[\"de3d2360-8bf8-11e9-92a5-0242ac1c0002\"]);\n",
              "//# sourceURL=js_46a03b82d1"
            ],
            "text/plain": [
              "<IPython.core.display.Javascript object>"
            ]
          },
          "metadata": {
            "tags": [
              "id56-0-0",
              "outputarea_id56"
            ]
          }
        },
        {
          "output_type": "stream",
          "text": [
            "Probabilities and Possible positions for step 3: [(0.7, [2, 2]), (0.2, [2, 0]), (0.7, [3, 1])]\n"
          ],
          "name": "stdout"
        },
        {
          "output_type": "display_data",
          "data": {
            "application/javascript": [
              "window[\"def096b6-8bf8-11e9-92a5-0242ac1c0002\"] = google.colab.output.getActiveOutputArea();\n",
              "//# sourceURL=js_89f21db1ff"
            ],
            "text/plain": [
              "<IPython.core.display.Javascript object>"
            ]
          },
          "metadata": {
            "tags": [
              "id56-0-0",
              "outputarea_id56"
            ]
          }
        },
        {
          "output_type": "display_data",
          "data": {
            "application/javascript": [
              "window[\"def15a7e-8bf8-11e9-92a5-0242ac1c0002\"] = document.querySelector(\"#id56-0-0\");\n",
              "//# sourceURL=js_6339f77b8c"
            ],
            "text/plain": [
              "<IPython.core.display.Javascript object>"
            ]
          },
          "metadata": {
            "tags": [
              "id56-0-0",
              "outputarea_id56"
            ]
          }
        },
        {
          "output_type": "display_data",
          "data": {
            "application/javascript": [
              "window[\"def18710-8bf8-11e9-92a5-0242ac1c0002\"] = google.colab.output.setActiveOutputArea(window[\"def15a7e-8bf8-11e9-92a5-0242ac1c0002\"]);\n",
              "//# sourceURL=js_61b1e3bd17"
            ],
            "text/plain": [
              "<IPython.core.display.Javascript object>"
            ]
          },
          "metadata": {
            "tags": [
              "id56-0-0",
              "outputarea_id56"
            ]
          }
        },
        {
          "output_type": "display_data",
          "data": {
            "application/javascript": [
              "window[\"df0678c8-8bf8-11e9-92a5-0242ac1c0002\"] = google.colab.output.setActiveOutputArea(window[\"def096b6-8bf8-11e9-92a5-0242ac1c0002\"]);\n",
              "//# sourceURL=js_675e981cc7"
            ],
            "text/plain": [
              "<IPython.core.display.Javascript object>"
            ]
          },
          "metadata": {
            "tags": [
              "id56-0-0",
              "outputarea_id56"
            ]
          }
        },
        {
          "output_type": "stream",
          "text": [
            "Probabilities and Possible positions for step 4: [(0.2, [2, 1]), (0.7, [3, 2]), (0.2, [1, 2])]\n"
          ],
          "name": "stdout"
        },
        {
          "output_type": "display_data",
          "data": {
            "application/javascript": [
              "window[\"dfa07112-8bf8-11e9-92a5-0242ac1c0002\"] = google.colab.output.getActiveOutputArea();\n",
              "//# sourceURL=js_7e548f1cf2"
            ],
            "text/plain": [
              "<IPython.core.display.Javascript object>"
            ]
          },
          "metadata": {
            "tags": [
              "id56-0-0",
              "outputarea_id56"
            ]
          }
        },
        {
          "output_type": "display_data",
          "data": {
            "application/javascript": [
              "window[\"dfa0ff9c-8bf8-11e9-92a5-0242ac1c0002\"] = document.querySelector(\"#id56-0-0\");\n",
              "//# sourceURL=js_38486de91f"
            ],
            "text/plain": [
              "<IPython.core.display.Javascript object>"
            ]
          },
          "metadata": {
            "tags": [
              "id56-0-0",
              "outputarea_id56"
            ]
          }
        },
        {
          "output_type": "display_data",
          "data": {
            "application/javascript": [
              "window[\"dfa1768e-8bf8-11e9-92a5-0242ac1c0002\"] = google.colab.output.setActiveOutputArea(window[\"dfa0ff9c-8bf8-11e9-92a5-0242ac1c0002\"]);\n",
              "//# sourceURL=js_4c39d84c0b"
            ],
            "text/plain": [
              "<IPython.core.display.Javascript object>"
            ]
          },
          "metadata": {
            "tags": [
              "id56-0-0",
              "outputarea_id56"
            ]
          }
        },
        {
          "output_type": "display_data",
          "data": {
            "application/javascript": [
              "window[\"dfb9eea8-8bf8-11e9-92a5-0242ac1c0002\"] = google.colab.output.setActiveOutputArea(window[\"dfa07112-8bf8-11e9-92a5-0242ac1c0002\"]);\n",
              "//# sourceURL=js_d96e0eb654"
            ],
            "text/plain": [
              "<IPython.core.display.Javascript object>"
            ]
          },
          "metadata": {
            "tags": [
              "id56-0-0",
              "outputarea_id56"
            ]
          }
        },
        {
          "output_type": "stream",
          "text": [
            "Probabilities and Possible positions for step 5: [(0.2, [2, 2]), (0.7, [3, 3]), (0.2, [3, 1])]\n"
          ],
          "name": "stdout"
        },
        {
          "output_type": "display_data",
          "data": {
            "application/javascript": [
              "window[\"e054dbde-8bf8-11e9-92a5-0242ac1c0002\"] = google.colab.output.getActiveOutputArea();\n",
              "//# sourceURL=js_a76e4f1117"
            ],
            "text/plain": [
              "<IPython.core.display.Javascript object>"
            ]
          },
          "metadata": {
            "tags": [
              "id56-0-0",
              "outputarea_id56"
            ]
          }
        },
        {
          "output_type": "display_data",
          "data": {
            "application/javascript": [
              "window[\"e0553ce6-8bf8-11e9-92a5-0242ac1c0002\"] = document.querySelector(\"#id56-0-0\");\n",
              "//# sourceURL=js_b7597c8a22"
            ],
            "text/plain": [
              "<IPython.core.display.Javascript object>"
            ]
          },
          "metadata": {
            "tags": [
              "id56-0-0",
              "outputarea_id56"
            ]
          }
        },
        {
          "output_type": "display_data",
          "data": {
            "application/javascript": [
              "window[\"e055c0da-8bf8-11e9-92a5-0242ac1c0002\"] = google.colab.output.setActiveOutputArea(window[\"e0553ce6-8bf8-11e9-92a5-0242ac1c0002\"]);\n",
              "//# sourceURL=js_d1cd48f61b"
            ],
            "text/plain": [
              "<IPython.core.display.Javascript object>"
            ]
          },
          "metadata": {
            "tags": [
              "id56-0-0",
              "outputarea_id56"
            ]
          }
        },
        {
          "output_type": "display_data",
          "data": {
            "application/javascript": [
              "window[\"e06d534e-8bf8-11e9-92a5-0242ac1c0002\"] = google.colab.output.setActiveOutputArea(window[\"e054dbde-8bf8-11e9-92a5-0242ac1c0002\"]);\n",
              "//# sourceURL=js_e61a93d58c"
            ],
            "text/plain": [
              "<IPython.core.display.Javascript object>"
            ]
          },
          "metadata": {
            "tags": [
              "id56-0-0",
              "outputarea_id56"
            ]
          }
        },
        {
          "output_type": "stream",
          "text": [
            "Probabilities and Possible positions for step 6: [(0.2, [2, 1]), (0.7, [3, 2]), (0.2, [1, 2])]\n"
          ],
          "name": "stdout"
        },
        {
          "output_type": "display_data",
          "data": {
            "application/javascript": [
              "window[\"e107d9b4-8bf8-11e9-92a5-0242ac1c0002\"] = google.colab.output.getActiveOutputArea();\n",
              "//# sourceURL=js_84007ccf13"
            ],
            "text/plain": [
              "<IPython.core.display.Javascript object>"
            ]
          },
          "metadata": {
            "tags": [
              "id56-0-0",
              "outputarea_id56"
            ]
          }
        },
        {
          "output_type": "display_data",
          "data": {
            "application/javascript": [
              "window[\"e1080cc2-8bf8-11e9-92a5-0242ac1c0002\"] = document.querySelector(\"#id56-0-0\");\n",
              "//# sourceURL=js_478506241c"
            ],
            "text/plain": [
              "<IPython.core.display.Javascript object>"
            ]
          },
          "metadata": {
            "tags": [
              "id56-0-0",
              "outputarea_id56"
            ]
          }
        },
        {
          "output_type": "display_data",
          "data": {
            "application/javascript": [
              "window[\"e10877ca-8bf8-11e9-92a5-0242ac1c0002\"] = google.colab.output.setActiveOutputArea(window[\"e1080cc2-8bf8-11e9-92a5-0242ac1c0002\"]);\n",
              "//# sourceURL=js_f5fe9c1a1f"
            ],
            "text/plain": [
              "<IPython.core.display.Javascript object>"
            ]
          },
          "metadata": {
            "tags": [
              "id56-0-0",
              "outputarea_id56"
            ]
          }
        },
        {
          "output_type": "display_data",
          "data": {
            "application/javascript": [
              "window[\"e11d6eb4-8bf8-11e9-92a5-0242ac1c0002\"] = google.colab.output.setActiveOutputArea(window[\"e107d9b4-8bf8-11e9-92a5-0242ac1c0002\"]);\n",
              "//# sourceURL=js_4d3e4ca67e"
            ],
            "text/plain": [
              "<IPython.core.display.Javascript object>"
            ]
          },
          "metadata": {
            "tags": [
              "id56-0-0",
              "outputarea_id56"
            ]
          }
        },
        {
          "output_type": "stream",
          "text": [
            "Probabilities and Possible positions for step 7: [(0.2, [2, 2]), (0.7, [3, 3]), (0.2, [3, 1])]\n"
          ],
          "name": "stdout"
        },
        {
          "output_type": "display_data",
          "data": {
            "application/javascript": [
              "window[\"e1b746ec-8bf8-11e9-92a5-0242ac1c0002\"] = google.colab.output.getActiveOutputArea();\n",
              "//# sourceURL=js_ff587b131c"
            ],
            "text/plain": [
              "<IPython.core.display.Javascript object>"
            ]
          },
          "metadata": {
            "tags": [
              "id56-0-0",
              "outputarea_id56"
            ]
          }
        },
        {
          "output_type": "display_data",
          "data": {
            "application/javascript": [
              "window[\"e1b7ab64-8bf8-11e9-92a5-0242ac1c0002\"] = document.querySelector(\"#id56-0-0\");\n",
              "//# sourceURL=js_2b72fec99e"
            ],
            "text/plain": [
              "<IPython.core.display.Javascript object>"
            ]
          },
          "metadata": {
            "tags": [
              "id56-0-0",
              "outputarea_id56"
            ]
          }
        },
        {
          "output_type": "display_data",
          "data": {
            "application/javascript": [
              "window[\"e1b7e2dc-8bf8-11e9-92a5-0242ac1c0002\"] = google.colab.output.setActiveOutputArea(window[\"e1b7ab64-8bf8-11e9-92a5-0242ac1c0002\"]);\n",
              "//# sourceURL=js_37e2ca98c2"
            ],
            "text/plain": [
              "<IPython.core.display.Javascript object>"
            ]
          },
          "metadata": {
            "tags": [
              "id56-0-0",
              "outputarea_id56"
            ]
          }
        },
        {
          "output_type": "display_data",
          "data": {
            "application/javascript": [
              "window[\"e1ccb202-8bf8-11e9-92a5-0242ac1c0002\"] = google.colab.output.setActiveOutputArea(window[\"e1b746ec-8bf8-11e9-92a5-0242ac1c0002\"]);\n",
              "//# sourceURL=js_e5b4fcd621"
            ],
            "text/plain": [
              "<IPython.core.display.Javascript object>"
            ]
          },
          "metadata": {
            "tags": [
              "id56-0-0",
              "outputarea_id56"
            ]
          }
        },
        {
          "output_type": "stream",
          "text": [
            "No of steps taken: 7\n"
          ],
          "name": "stdout"
        },
        {
          "output_type": "display_data",
          "data": {
            "application/javascript": [
              "window[\"e267a1a4-8bf8-11e9-92a5-0242ac1c0002\"] = google.colab.output.getActiveOutputArea();\n",
              "//# sourceURL=js_f2cdea67cb"
            ],
            "text/plain": [
              "<IPython.core.display.Javascript object>"
            ]
          },
          "metadata": {
            "tags": [
              "id56-0-0",
              "outputarea_id56"
            ]
          }
        },
        {
          "output_type": "display_data",
          "data": {
            "application/javascript": [
              "window[\"e267d1d8-8bf8-11e9-92a5-0242ac1c0002\"] = document.querySelector(\"#id56-0-0\");\n",
              "//# sourceURL=js_3235a875b2"
            ],
            "text/plain": [
              "<IPython.core.display.Javascript object>"
            ]
          },
          "metadata": {
            "tags": [
              "id56-0-0",
              "outputarea_id56"
            ]
          }
        },
        {
          "output_type": "display_data",
          "data": {
            "application/javascript": [
              "window[\"e2680392-8bf8-11e9-92a5-0242ac1c0002\"] = google.colab.output.setActiveOutputArea(window[\"e267d1d8-8bf8-11e9-92a5-0242ac1c0002\"]);\n",
              "//# sourceURL=js_c9e76ed623"
            ],
            "text/plain": [
              "<IPython.core.display.Javascript object>"
            ]
          },
          "metadata": {
            "tags": [
              "id56-0-0",
              "outputarea_id56"
            ]
          }
        },
        {
          "output_type": "display_data",
          "data": {
            "image/png": "[encoded data removed]",
            "text/plain": [
              "<Figure size 432x288 with 1 Axes>"
            ]
          },
          "metadata": {
            "tags": [
              "id56-0-0",
              "outputarea_id56",
              "user_output"
            ]
          }
        },
        {
          "output_type": "display_data",
          "data": {
            "application/javascript": [
              "window[\"e27c8e66-8bf8-11e9-92a5-0242ac1c0002\"] = google.colab.output.setActiveOutputArea(window[\"e267a1a4-8bf8-11e9-92a5-0242ac1c0002\"]);\n",
              "//# sourceURL=js_dca0064766"
            ],
            "text/plain": [
              "<IPython.core.display.Javascript object>"
            ]
          },
          "metadata": {
            "tags": [
              "id56-0-0",
              "outputarea_id56"
            ]
          }
        }
      ]
    },
    {
      "cell_type": "markdown",
      "metadata": {
        "id": "AnsUw2k0oLGl",
        "colab_type": "text"
      },
      "source": [
        "## Conclusion\n",
        "\n",
        "1.We were able to train our agent in deterministic model faster because of lack of uncertainity. In the case of stochastic approach, agent takes more number of steps and trains slower. \n",
        "\n",
        "2.Uncertainity in the stochastic environment has been introduced by assigning probabilities to different movements associated with each next step and randomising the agent start position.\n",
        "\n",
        "3.Q learning has helped us achieve the same training for both environments in a exploration v/s exploitation approach, by storing cumulative rewards in the Q table to help make agent more decisive. "
      ]
    },
    {
      "cell_type": "markdown",
      "metadata": {
        "colab_type": "text",
        "id": "pERU6nLIZQLO"
      },
      "source": [
        "## Acknowledgements"
      ]
    },
    {
      "cell_type": "markdown",
      "metadata": {
        "colab_type": "text",
        "id": "MOuFboJ0ZU99"
      },
      "source": [
        "Hearty thanks to Alina and the students who had volunteered to share their knowledge about Reinforcement Learning."
      ]
    },
    {
      "cell_type": "markdown",
      "metadata": {
        "colab_type": "text",
        "id": "mmCOjngEFJEG"
      },
      "source": [
        "## References"
      ]
    },
    {
      "cell_type": "markdown",
      "metadata": {
        "colab_type": "text",
        "id": "xrOCvI0c1xf_"
      },
      "source": [
        "1. https://www.freecodecamp.org/news/an-introduction-to-q-learning-reinforcement-learning-14ac0b4493cc/\n",
        "2. https://medium.com/@dennybritz/exploration-vs-exploitation-f46af4cf62fe\n",
        "3. https://en.wikipedia.org/wiki/Q-learning\n",
        "4. https://learndatasci.com/tutorials/reinforcement-q-learning-scratch-python-openai-gym/\n",
        "5. https://github.com/simoninithomas/Deep_reinforcement_learning_Course/blob/master/Q%20learning/FrozenLake/Q%20Learning%20with%20FrozenLake.ipynb\n",
        "6. https://github.com/openai/gym/blob/master/gym/envs/toy_text/frozen_lake.py\n",
        "7. https://www.deeplearningwizard.com/deep_learning/deep_reinforcement_learning_pytorch/dynamic_programming_frozenlake/\n",
        "8. https://rlgraph.readthedocs.io/en/latest/_modules/rlgraph/environments/grid_world.html#GridWorld.step"
      ]
    }
  ]
}